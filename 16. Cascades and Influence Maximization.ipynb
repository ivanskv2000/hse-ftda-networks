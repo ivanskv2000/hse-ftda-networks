{
 "cells": [
  {
   "cell_type": "markdown",
   "id": "6de909b9",
   "metadata": {},
   "source": [
    "# Assignment — Cascades and influence maximization"
   ]
  },
  {
   "cell_type": "code",
   "execution_count": null,
   "id": "e74e25ed",
   "metadata": {},
   "outputs": [],
   "source": [
    "from matplotlib.animation import FuncAnimation\n",
    "import numpy as np\n",
    "from IPython.display import HTML\n",
    "import networkx as nx\n",
    "import matplotlib.pyplot as plt"
   ]
  },
  {
   "cell_type": "markdown",
   "id": "3df0888d",
   "metadata": {},
   "source": [
    "### "
   ]
  },
  {
   "cell_type": "markdown",
   "id": "d73d9b29",
   "metadata": {},
   "source": [
    "This part of the assignment is devoted to models of influence propagation: the linear threshold model and independent cascade model. There are many applications of these types of models, for example:\n",
    "* Rise of a political movement in an unstable society\n",
    "* “Word-of-mouth” effects: when we have access to plentiful information, such as when we evaluate new technologies, risky financial assets, or job candidates, we often lack the ability to make sense of it; hence, we rely on the advice of trusted friends, colleagues, or advisors\n",
    "* “Viral marketing” effects in the success of new products\n",
    "* Adoption of medical and agricultural innovations\n",
    "* Cascading failures in power systems\n",
    "* Desicion making by majority voting\n",
    "\n",
    "Let us consider these models on directed Erdos Renyi graph."
   ]
  },
  {
   "cell_type": "code",
   "execution_count": null,
   "id": "222e0954",
   "metadata": {},
   "outputs": [],
   "source": [
    "n = 20\n",
    "G = nx.erdos_renyi_graph(n, 0.11, 0, True)\n",
    "\n",
    "plt.figure(figsize=(6, 4))\n",
    "pos = nx.kamada_kawai_layout(G)\n",
    "nx.draw(G, pos, with_labels=True, node_color='white', edgecolors='black')"
   ]
  },
  {
   "cell_type": "markdown",
   "id": "fe7ad33e",
   "metadata": {},
   "source": [
    "### Task 1. Linear threshold model (0 points)"
   ]
  },
  {
   "cell_type": "markdown",
   "id": "bf8d4361",
   "metadata": {},
   "source": [
    "Linear threshold model is defined as follows. Given a choice of all nodes’ thresholds, and an initial set of active nodes, the diffusion process unfolds deterministically in discrete steps: in step $t$, all nodes that were\n",
    "active in step $t-1$ remain active; furthermore, each currently inactive node becomes active if and only\n",
    "if the total share of its active neighbors is at least node's threshold.\n",
    "\n",
    "Write a function `linear_threshold` that takes a graph, np.array `active_nodes` with zeros and ones (if `active_nodes[i]` is 1 then the i-th node is active), np.array of `thresholds`. The function propagates influence and stops when the model stops changing. The function returns a np.array with active nodes in each step. The first step is initial activation, the last and the second to last steps are the same (we want to see that the propogation stops changing)."
   ]
  },
  {
   "cell_type": "code",
   "execution_count": null,
   "id": "134855cc",
   "metadata": {
    "deletable": false,
    "nbgrader": {
     "cell_type": "code",
     "checksum": "26b04476cb17bab7e6003418f9408a69",
     "grade": false,
     "grade_id": "cell-515144b932e0af91",
     "locked": false,
     "schema_version": 3,
     "solution": true,
     "task": false
    }
   },
   "outputs": [],
   "source": [
    "def linear_threshold(G, active_nodes, thresholds):\n",
    "    # YOUR CODE HERE\n",
    "    raise NotImplementedError()"
   ]
  },
  {
   "cell_type": "code",
   "execution_count": null,
   "id": "8223440f",
   "metadata": {
    "deletable": false,
    "editable": false,
    "nbgrader": {
     "cell_type": "code",
     "checksum": "54149ad34b632f21cade914cff2954d8",
     "grade": true,
     "grade_id": "cell-a0c0e429d4f73e24",
     "locked": true,
     "points": 0.0,
     "schema_version": 3,
     "solution": false,
     "task": false
    }
   },
   "outputs": [],
   "source": [
    "np.random.seed(5)\n",
    "active_nodes = np.zeros(n, 'int')\n",
    "active_nodes[np.random.choice(np.arange(n), 2, False)] = 1\n",
    "thresholds = np.random.uniform(0.5, 1, n)\n",
    "\n",
    "sim = linear_threshold(G, active_nodes, thresholds)\n",
    "\n",
    "assert sim.shape == (4, 20)\n",
    "assert np.all(sim[0] == active_nodes)\n",
    "assert np.all(sim[-1] == sim[-2])\n",
    "assert sim[0, 4] == 0\n",
    "assert sim[2, 4] == 1\n",
    "assert sim[0, 3] == 0\n",
    "assert sim[1, 15] == 1"
   ]
  },
  {
   "cell_type": "code",
   "execution_count": null,
   "id": "7e83146b",
   "metadata": {},
   "outputs": [],
   "source": [
    "plt.figure(figsize=(6*2, 4*2))\n",
    "\n",
    "for i, color in enumerate(sim):\n",
    "    plt.subplot(2, 2, i+1)\n",
    "    nx.draw(G, pos, with_labels=True, \n",
    "            node_color=color+1, \n",
    "            vmin=0, vmax=2, \n",
    "            cmap=plt.cm.rainbow,\n",
    "            edgecolors='black')\n",
    "    plt.title('Step {}'.format(i))\n",
    "plt.show()"
   ]
  },
  {
   "cell_type": "markdown",
   "id": "7ea4bb8c",
   "metadata": {},
   "source": [
    "### Task 2. Independent cascade model (7 points)"
   ]
  },
  {
   "cell_type": "markdown",
   "id": "2675e94e",
   "metadata": {},
   "source": [
    "The next type is Independent cascade model. We again start with an initial set of active nodes, and the process unfolds in discrete steps according to the following randomized rule. When node $v$ first becomes active in step $t$, it is given a single chance to activate each currently inactive neighbor $w$; it succeeds with a probability $p_{v,w}$ — a parameter of the system — independently of the history thus far. (If $w$ has multiple newly activated neighbors, their attempts are sequenced in an arbitrary order.) If $v$ succeeds, then $w$ will become active in step $t+1$; but whether or not $v$ succeeds, it cannot make any further attempts to activate $w$ in subsequent steps.\n",
    "\n",
    "Write a function `independent_cascade` that takes a graph, np.array active_nodes with zeros and ones (if active_nodes[i] is 1 then the i-th node is active), np.array with propagation probabilities `prop_proba` for edges ordered by `G.edges`. The function propagates influence and stops when the model stops changing. The function returns a np.array with active nodes in each step. The first step is initial activation, the last and the second to last steps are the same (we want to see that the model stops changing)."
   ]
  },
  {
   "cell_type": "code",
   "execution_count": null,
   "id": "35890c68",
   "metadata": {
    "deletable": false,
    "nbgrader": {
     "cell_type": "code",
     "checksum": "485b84d9d49345fdf82ee2964d68b5d0",
     "grade": false,
     "grade_id": "cell-69f6afdb2634041d",
     "locked": false,
     "schema_version": 3,
     "solution": true,
     "task": false
    }
   },
   "outputs": [],
   "source": [
    "def independent_cascade(G, active_nodes, prop_proba):\n",
    "    # YOUR CODE HERE\n",
    "    raise NotImplementedError()"
   ]
  },
  {
   "cell_type": "code",
   "execution_count": null,
   "id": "d492c314",
   "metadata": {
    "deletable": false,
    "editable": false,
    "nbgrader": {
     "cell_type": "code",
     "checksum": "15aa7af562454f7c4c88ed1661bdec48",
     "grade": true,
     "grade_id": "cell-3389d2c8f3368404",
     "locked": true,
     "points": 7.0,
     "schema_version": 3,
     "solution": false,
     "task": false
    }
   },
   "outputs": [],
   "source": [
    "np.random.seed(1)\n",
    "active_nodes = np.zeros(20, 'int')\n",
    "active_nodes[np.random.choice(np.arange(20), 2, False)] = 1\n",
    "prop_proba = np.random.rand(len(G.edges))\n",
    "\n",
    "sims = []\n",
    "n_steps = []\n",
    "for i in range(1000):\n",
    "    sim = independent_cascade(G, active_nodes, prop_proba)\n",
    "    sims.append(sim)\n",
    "    n_steps.append(len(sim))\n",
    "sigma = 1.9165\n",
    "mean = 5.103\n",
    "assert mean - 2*sigma < np.mean(n_steps) < mean + 2*sigma\n",
    "sim = sims[n_steps.index(6)]\n",
    "assert sim.shape == (6, 20)\n",
    "assert np.all(sim[0] == active_nodes)\n",
    "assert np.all(sim[-1] == sim[-2])\n",
    "for i in range(1, 4):\n",
    "    attempts = sim[i] - sim[i-1]\n",
    "    new_active = sim[i+1] - sim[i]\n",
    "    has_edge = False\n",
    "    for j in np.argwhere(attempts == 1):\n",
    "        for k in np.argwhere(new_active == 1):\n",
    "            if G.has_edge(j[0], k[0]):\n",
    "                has_edge = True\n",
    "    assert has_edge"
   ]
  },
  {
   "cell_type": "code",
   "execution_count": null,
   "id": "240ca500",
   "metadata": {},
   "outputs": [],
   "source": [
    "plt.figure(figsize=(6*2, 4*3))\n",
    "\n",
    "for i, color in enumerate(sim):\n",
    "    plt.subplot(3, 2, i+1)\n",
    "    nx.draw(G, pos, with_labels=True, \n",
    "            node_color=color+1, \n",
    "            vmin=0, vmax=2, \n",
    "            cmap=plt.cm.rainbow,\n",
    "            edgecolors='black')\n",
    "    plt.title('Step {}'.format(i))\n",
    "plt.show()"
   ]
  },
  {
   "cell_type": "markdown",
   "id": "4860c31a",
   "metadata": {},
   "source": [
    "### Task 3. Influence maximization problem (3 points)"
   ]
  },
  {
   "cell_type": "markdown",
   "id": "6431dc54",
   "metadata": {},
   "source": [
    "The influence is the expected number of active nodes at the end of the process\n",
    "\n",
    "$$\\sigma(A_0) = \\mathbb E[|A_t|]$$\n",
    "\n",
    "where $A_0$ is an initial active nodes and $A_t$ is an active nodes at the end. Linear threshold model is deterministic and then $E[|A_t|] = |A_t|$.\n",
    "\n",
    "The influence maximization problem asks, for a given number of initial active nodes $k$, to find a set of nodes that gives maximum influence. It is NP-hard problem, but a useful property is that it can be solved in polynomial time by greedy optimization with guaranteed performance slightly better than 63%. Proofs are [here](https://theoryofcomputing.org/articles/v011a004/v011a004.pdf). The algorithm is:\n",
    "\n",
    "1. Let $A_0 = \\emptyset$\n",
    "2. For every node $i$, calculate the influence $\\sigma(A_0 \\cup \\{i\\})$\n",
    "3. Put the node with the largest influence into the initial active set $A_0 = A_0 \\cup \\{i\\}$\n",
    "4. Repeat 2-3 until $|A_0| = k$\n",
    "\n",
    "Write a function `greedy_influence_max` that takes a graph, `thresholds` of linear threshold model, number of active nodes `k` and calculates initial active nodes by greedy algorithm. The function returns a np.array with zeros and ones (if `active_nodes[i]` is 1 then the i-th node is active)."
   ]
  },
  {
   "cell_type": "code",
   "execution_count": null,
   "id": "ce2f4de5",
   "metadata": {
    "deletable": false,
    "nbgrader": {
     "cell_type": "code",
     "checksum": "588a67aa154b9090ddc92e5b42fdf5d1",
     "grade": false,
     "grade_id": "cell-ee934f2bc8c7504a",
     "locked": false,
     "schema_version": 3,
     "solution": true,
     "task": false
    }
   },
   "outputs": [],
   "source": [
    "def greedy_influence_max(G, thresholds, k):\n",
    "    # YOUR CODE HERE\n",
    "    raise NotImplementedError()"
   ]
  },
  {
   "cell_type": "code",
   "execution_count": null,
   "id": "f1d57f1b",
   "metadata": {
    "deletable": false,
    "editable": false,
    "nbgrader": {
     "cell_type": "code",
     "checksum": "bdbbef49f40f6f15ab51983f82886d6f",
     "grade": true,
     "grade_id": "cell-58dc4b2003bdb792",
     "locked": true,
     "points": 3.0,
     "schema_version": 3,
     "solution": false,
     "task": false
    }
   },
   "outputs": [],
   "source": [
    "n = 100\n",
    "G = nx.erdos_renyi_graph(n, 0.07, 0, True)\n",
    "\n",
    "np.random.seed(0)\n",
    "active_nodes = np.zeros(n, 'int')\n",
    "active_nodes[np.random.choice(np.arange(n), 2, False)] = 1\n",
    "thresholds = np.random.uniform(0.1, 0.8, n)\n",
    "\n",
    "best_active = greedy_influence_max(G, thresholds, 2)\n",
    "assert best_active.shape == (100,)\n",
    "assert best_active.sum() == 2\n",
    "sim = linear_threshold(G, best_active, thresholds)\n",
    "assert sim[-1].sum() > 21 * 0.63"
   ]
  },
  {
   "cell_type": "markdown",
   "id": "add2d803",
   "metadata": {},
   "source": [
    "Here is the same model as in the linear threshold task, but with a better initial active set."
   ]
  },
  {
   "cell_type": "code",
   "execution_count": null,
   "id": "89b6bb06",
   "metadata": {},
   "outputs": [],
   "source": [
    "n = 20\n",
    "G = nx.erdos_renyi_graph(n, 0.11, 0, True)\n",
    "\n",
    "np.random.seed(5)\n",
    "active_nodes = np.zeros(n, 'int')\n",
    "active_nodes[np.random.choice(np.arange(n), 2, False)] = 1\n",
    "thresholds = np.random.uniform(0.5, 1, n)\n",
    "\n",
    "best_active = greedy_influence_max(G, thresholds, 2)\n",
    "sim = linear_threshold(G, best_active, thresholds)\n",
    "\n",
    "plt.figure(figsize=(6*2, 4*4))\n",
    "\n",
    "for i, color in enumerate(sim):\n",
    "    plt.subplot(4, 2, i+1)\n",
    "    nx.draw(G, pos, with_labels=True, \n",
    "            node_color=color+1, \n",
    "            vmin=0, vmax=2, \n",
    "            cmap=plt.cm.rainbow,\n",
    "            edgecolors='black')\n",
    "    plt.title('Step {}'.format(i))\n",
    "plt.show()"
   ]
  },
  {
   "cell_type": "code",
   "execution_count": null,
   "id": "acf56203",
   "metadata": {},
   "outputs": [],
   "source": []
  }
 ],
 "metadata": {
  "kernelspec": {
   "display_name": "Python 3",
   "language": "python",
   "name": "python3"
  },
  "language_info": {
   "codemirror_mode": {
    "name": "ipython",
    "version": 3
   },
   "file_extension": ".py",
   "mimetype": "text/x-python",
   "name": "python",
   "nbconvert_exporter": "python",
   "pygments_lexer": "ipython3",
   "version": "3.7.4"
  }
 },
 "nbformat": 4,
 "nbformat_minor": 5
}
