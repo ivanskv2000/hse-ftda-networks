{
  "cells": [
    {
      "cell_type": "markdown",
      "id": "dbb6ddd8",
      "metadata": {
        "id": "dbb6ddd8"
      },
      "source": [
        "# Assignment — Graph Neural Networks"
      ]
    },
    {
      "cell_type": "code",
      "execution_count": 1,
      "id": "5ac9bb80",
      "metadata": {
        "id": "5ac9bb80"
      },
      "outputs": [],
      "source": [
        "import torch\n",
        "from sklearn.metrics import balanced_accuracy_score\n",
        "import torch.nn as nn\n",
        "from tqdm.notebook import trange\n",
        "from sklearn.manifold import TSNE\n",
        "from torch.optim import Adam\n",
        "import numpy as np\n",
        "import matplotlib.pyplot as plt\n",
        "import torch.nn.functional as F\n",
        "from sklearn.linear_model import LogisticRegression\n",
        "\n",
        "device = torch.device(\"cuda:0\" if torch.cuda.is_available() else \"cpu\")"
      ]
    },
    {
      "cell_type": "markdown",
      "id": "bc204875",
      "metadata": {
        "id": "bc204875"
      },
      "source": [
        "### CORA dataset"
      ]
    },
    {
      "cell_type": "code",
      "execution_count": 2,
      "id": "8217ac0c",
      "metadata": {
        "id": "8217ac0c"
      },
      "outputs": [],
      "source": [
        "!pip install dgl==0.9.1 dglgo -f https://data.dgl.ai/wheels/repo.html -q"
      ]
    },
    {
      "cell_type": "code",
      "execution_count": 3,
      "id": "97f7e59c",
      "metadata": {
        "id": "97f7e59c"
      },
      "outputs": [],
      "source": [
        "import dgl\n",
        "from dgl.data import CoraGraphDataset\n",
        "from dgl import function as fn\n",
        "from dgl.nn import SAGEConv"
      ]
    },
    {
      "cell_type": "code",
      "execution_count": 4,
      "id": "b9a52628",
      "metadata": {
        "id": "b9a52628"
      },
      "outputs": [],
      "source": [
        "import warnings\n",
        "warnings.filterwarnings(action='ignore', category=UserWarning)\n",
        "warnings.simplefilter(action='ignore', category=FutureWarning)"
      ]
    },
    {
      "cell_type": "markdown",
      "id": "6f992762",
      "metadata": {
        "id": "6f992762"
      },
      "source": [
        "The Cora dataset consists of 2708 scientific publications classified into one of seven classes. The citation network consists of 10556/2 links. Let us take a closer look at this dataset. Each publication in the dataset is described by a 0/1-valued word vector indicating the absence/presence of the corresponding word from the dictionary. The dictionary consists of 1433 unique words."
      ]
    },
    {
      "cell_type": "code",
      "execution_count": 5,
      "id": "3876dd0c",
      "metadata": {
        "colab": {
          "base_uri": "https://localhost:8080/"
        },
        "id": "3876dd0c",
        "outputId": "fe9f1f71-6393-4c6f-e221-1925a5941899"
      },
      "outputs": [
        {
          "output_type": "stream",
          "name": "stdout",
          "text": [
            "Finished data loading and preprocessing.\n",
            "  NumNodes: 2708\n",
            "  NumEdges: 10556\n",
            "  NumFeats: 1433\n",
            "  NumClasses: 7\n",
            "  NumTrainingSamples: 140\n",
            "  NumValidationSamples: 500\n",
            "  NumTestSamples: 1000\n",
            "Done saving data into cached files.\n"
          ]
        }
      ],
      "source": [
        "data = CoraGraphDataset(force_reload=True)"
      ]
    },
    {
      "cell_type": "code",
      "execution_count": 6,
      "id": "60459d90",
      "metadata": {
        "colab": {
          "base_uri": "https://localhost:8080/"
        },
        "id": "60459d90",
        "outputId": "8e176846-7a25-41f6-e1ef-d82d79fb0f73"
      },
      "outputs": [
        {
          "output_type": "execute_result",
          "data": {
            "text/plain": [
              "Graph(num_nodes=2708, num_edges=10556,\n",
              "      ndata_schemes={'train_mask': Scheme(shape=(), dtype=torch.bool), 'val_mask': Scheme(shape=(), dtype=torch.bool), 'test_mask': Scheme(shape=(), dtype=torch.bool), 'label': Scheme(shape=(), dtype=torch.int64), 'feat': Scheme(shape=(1433,), dtype=torch.float32)}\n",
              "      edata_schemes={})"
            ]
          },
          "metadata": {},
          "execution_count": 6
        }
      ],
      "source": [
        "graph = data[0]\n",
        "graph"
      ]
    },
    {
      "cell_type": "markdown",
      "id": "8e97b108",
      "metadata": {
        "id": "8e97b108"
      },
      "source": [
        "Adjacency matrix can be obtained as follows"
      ]
    },
    {
      "cell_type": "code",
      "execution_count": 7,
      "id": "2cc92084",
      "metadata": {
        "colab": {
          "base_uri": "https://localhost:8080/"
        },
        "id": "2cc92084",
        "outputId": "74299e31-aaec-4dd1-db6c-31888dbceeaa"
      },
      "outputs": [
        {
          "output_type": "execute_result",
          "data": {
            "text/plain": [
              "tensor([[0., 0., 0.,  ..., 0., 0., 0.],\n",
              "        [0., 0., 1.,  ..., 0., 0., 0.],\n",
              "        [0., 1., 0.,  ..., 0., 0., 0.],\n",
              "        ...,\n",
              "        [0., 0., 0.,  ..., 0., 0., 0.],\n",
              "        [0., 0., 0.,  ..., 0., 0., 1.],\n",
              "        [0., 0., 0.,  ..., 0., 1., 0.]])"
            ]
          },
          "metadata": {},
          "execution_count": 7
        }
      ],
      "source": [
        "adj = graph.adj().to_dense()\n",
        "adj"
      ]
    },
    {
      "cell_type": "markdown",
      "id": "613d60e2",
      "metadata": {
        "id": "613d60e2"
      },
      "source": [
        "Feature matrix is stored in node features `feat`."
      ]
    },
    {
      "cell_type": "code",
      "execution_count": 8,
      "id": "ffe904f8",
      "metadata": {
        "colab": {
          "base_uri": "https://localhost:8080/"
        },
        "id": "ffe904f8",
        "outputId": "9f038e9b-63c1-4dea-c9cc-cd9e651f9301"
      },
      "outputs": [
        {
          "output_type": "stream",
          "name": "stdout",
          "text": [
            "torch.Size([2708, 1433])\n"
          ]
        },
        {
          "output_type": "execute_result",
          "data": {
            "text/plain": [
              "tensor([[0., 0., 0.,  ..., 0., 0., 0.],\n",
              "        [0., 0., 0.,  ..., 0., 0., 0.],\n",
              "        [0., 0., 0.,  ..., 0., 0., 0.],\n",
              "        ...,\n",
              "        [0., 0., 0.,  ..., 0., 0., 0.],\n",
              "        [0., 0., 0.,  ..., 0., 0., 0.],\n",
              "        [0., 0., 0.,  ..., 0., 0., 0.]])"
            ]
          },
          "metadata": {},
          "execution_count": 8
        }
      ],
      "source": [
        "feat = graph.ndata['feat']\n",
        "print(feat.shape)\n",
        "feat"
      ]
    },
    {
      "cell_type": "markdown",
      "id": "a22e2f36",
      "metadata": {
        "id": "a22e2f36"
      },
      "source": [
        "In DGL, Cora feature matrix are normalized so that the sum per row is 1. Labels are represent type of the publication, they are stored in `label`."
      ]
    },
    {
      "cell_type": "code",
      "execution_count": 9,
      "id": "9c85b87c",
      "metadata": {
        "colab": {
          "base_uri": "https://localhost:8080/"
        },
        "id": "9c85b87c",
        "outputId": "de4d9542-ea01-4346-e98e-27e1b1081b29"
      },
      "outputs": [
        {
          "output_type": "execute_result",
          "data": {
            "text/plain": [
              "tensor([3, 4, 4,  ..., 3, 3, 3])"
            ]
          },
          "metadata": {},
          "execution_count": 9
        }
      ],
      "source": [
        "label = graph.ndata['label']\n",
        "label"
      ]
    },
    {
      "cell_type": "markdown",
      "id": "8ffdf1c0",
      "metadata": {
        "id": "8ffdf1c0"
      },
      "source": [
        "Here are train, validation and test masks."
      ]
    },
    {
      "cell_type": "code",
      "execution_count": 10,
      "id": "a0cb7ad4",
      "metadata": {
        "colab": {
          "base_uri": "https://localhost:8080/"
        },
        "id": "a0cb7ad4",
        "outputId": "e8b5f0f4-433b-44cd-8023-901f9ff5f8e1"
      },
      "outputs": [
        {
          "output_type": "execute_result",
          "data": {
            "text/plain": [
              "(tensor([False, False, False,  ..., False, False, False]),\n",
              " tensor([ True,  True,  True,  ..., False, False, False]),\n",
              " tensor([False, False, False,  ...,  True,  True,  True]))"
            ]
          },
          "metadata": {},
          "execution_count": 10
        }
      ],
      "source": [
        "train_mask = graph.ndata['train_mask']\n",
        "val_mask = graph.ndata['val_mask']\n",
        "test_mask = graph.ndata['test_mask']\n",
        "val_mask, train_mask, test_mask"
      ]
    },
    {
      "cell_type": "markdown",
      "id": "18597045",
      "metadata": {
        "id": "18597045"
      },
      "source": [
        "### Task 1. Graph convolution as matrix product (0 points)"
      ]
    },
    {
      "cell_type": "markdown",
      "id": "ddc79913",
      "metadata": {
        "id": "ddc79913"
      },
      "source": [
        "Graph convolutional network (GCN) was proposed in [[1]](#references) and defined on an undirected graph as the following propagation rule:\n",
        "\n",
        "$$H^{(l)}=\\sigma\\left(\\tilde D^{-1 / 2} \\tilde A \\tilde D^{-1 / 2} H^{(l-1)} W^{(l)}\\right)$$\n",
        "\n",
        "where $\\tilde A = A + I_N$ is the adjacency matrix with added self-connections. $I_N$ is the identity matrix, $\\tilde D_{ii} = \\sum_j \\tilde A_{ij}$ is the degree matrix and $W^{(l)}$ is trainable matrix at the layer $l$. $\\sigma$ represents non-linear activation function such as ReLU. $H^{(l)}$ is the hidden states at the layer $l$ and $H^{(0)} = X$ is the initial feature matrix.\n",
        "\n",
        "Write a class `GCNMatrixProductLayer` that takes adjacency matrix, hidden states and returns the next hidden states before activation."
      ]
    },
    {
      "cell_type": "code",
      "execution_count": 11,
      "id": "7ff5b791",
      "metadata": {
        "deletable": false,
        "id": "7ff5b791",
        "nbgrader": {
          "cell_type": "code",
          "checksum": "a8e8bb1c6da30605ca8ba49a6c4ecfa9",
          "grade": false,
          "grade_id": "cell-b71f48a8f9c231a0",
          "locked": false,
          "schema_version": 3,
          "solution": true,
          "task": false
        }
      },
      "outputs": [],
      "source": [
        "class GCNMatrixProductLayer(nn.Module):\n",
        "    def __init__(self, in_dim, out_dim):\n",
        "        super().__init__()\n",
        "        self.dense = nn.Linear(in_dim, out_dim)\n",
        "        \n",
        "    def forward(self, adj, h):\n",
        "        with torch.cuda.device_of(adj):\n",
        "          _adj = adj.clone()\n",
        "        \n",
        "        A_tilde = _adj + torch.eye(_adj.shape[0]).to(_adj.device)\n",
        "        \n",
        "        D_tilde_inv = torch.diag(1. / (A_tilde.sum(dim=1) ** (1/2)))\n",
        "\n",
        "        H = D_tilde_inv @ A_tilde @ D_tilde_inv @ h @ (self.dense.weight.T + self.dense.bias)\n",
        "\n",
        "        return H"
      ]
    },
    {
      "cell_type": "code",
      "execution_count": 12,
      "id": "904fa061",
      "metadata": {
        "deletable": false,
        "editable": false,
        "id": "904fa061",
        "nbgrader": {
          "cell_type": "code",
          "checksum": "508f28b0a571960c10b36bb656874b59",
          "grade": true,
          "grade_id": "cell-59516dd351a3b233",
          "locked": true,
          "points": 0,
          "schema_version": 3,
          "solution": false,
          "task": false
        }
      },
      "outputs": [],
      "source": [
        "layer = GCNMatrixProductLayer(in_dim=2708, out_dim=10)\n",
        "with torch.no_grad():\n",
        "    layer.dense.weight.fill_(0.1)\n",
        "\n",
        "    layer.dense.bias.fill_(0.1)\n",
        "    h = layer(adj, torch.eye(2708))\n",
        "assert round(h[0, 0].item(), 2) == 0.19"
      ]
    },
    {
      "cell_type": "markdown",
      "id": "1b041722",
      "metadata": {
        "id": "1b041722"
      },
      "source": [
        "Write a class `GCNMatrixProduct` that takes the adjacency matrix and feature matrix and performs two-layer convolution with intermediate ReLU activation. The class initialized by input, hidden and output dimensions."
      ]
    },
    {
      "cell_type": "code",
      "execution_count": 13,
      "id": "1c9ef4e4",
      "metadata": {
        "deletable": false,
        "id": "1c9ef4e4",
        "nbgrader": {
          "cell_type": "code",
          "checksum": "856ad1e1e46a477d61fb9ebbde928fa4",
          "grade": false,
          "grade_id": "cell-5cecc368828015e4",
          "locked": false,
          "schema_version": 3,
          "solution": true,
          "task": false
        }
      },
      "outputs": [],
      "source": [
        "class GCNMatrixProduct(nn.Module):\n",
        "    def __init__(self, in_dim, hid_dim, out_dim):\n",
        "        super().__init__()\n",
        "        self.conv1 = GCNMatrixProductLayer(in_dim, hid_dim)\n",
        "        self.activation = nn.ReLU()\n",
        "        self.conv2 = GCNMatrixProductLayer(hid_dim, out_dim)\n",
        "\n",
        "    def forward(self, adj, feat):\n",
        "        hidden = self.activation(self.conv1(adj, feat))\n",
        "        out = self.conv2(adj, hidden)\n",
        "\n",
        "        return out"
      ]
    },
    {
      "cell_type": "code",
      "execution_count": 14,
      "id": "13b3e790",
      "metadata": {
        "deletable": false,
        "editable": false,
        "nbgrader": {
          "cell_type": "code",
          "checksum": "20891f674b1f17ad9b39e5e7323599cd",
          "grade": true,
          "grade_id": "cell-13a9aa3e489245ee",
          "locked": true,
          "points": 0,
          "schema_version": 3,
          "solution": false,
          "task": false
        },
        "id": "13b3e790"
      },
      "outputs": [],
      "source": [
        "model = GCNMatrixProduct(2708, 32, 7)\n",
        "logits = model(adj, torch.eye(2708))\n",
        "assert logits.shape == (2708, 7)\n",
        "assert logits.min() < 0"
      ]
    },
    {
      "cell_type": "markdown",
      "id": "217ab100",
      "metadata": {
        "id": "217ab100"
      },
      "source": [
        "Let us create the two-layer GCN for node classification task."
      ]
    },
    {
      "cell_type": "code",
      "execution_count": 15,
      "id": "a83c6c89",
      "metadata": {
        "id": "a83c6c89"
      },
      "outputs": [],
      "source": [
        "model = GCNMatrixProduct(1433, 32, 7)\n",
        "\n",
        "opt = torch.optim.Adam(model.parameters(), lr=0.01)\n",
        "log = []"
      ]
    },
    {
      "cell_type": "markdown",
      "id": "0569ff05",
      "metadata": {
        "id": "0569ff05"
      },
      "source": [
        "We train the model in semi-supervised setting: propagate information over the full graph, but optimize it by only train cross-entropy loss."
      ]
    },
    {
      "cell_type": "code",
      "execution_count": 16,
      "id": "e2e7d012",
      "metadata": {
        "colab": {
          "base_uri": "https://localhost:8080/",
          "height": 484,
          "referenced_widgets": [
            "ff54cd40f38a4ccebc93cb2b0951145e",
            "654a8dd5dc6646f89ddb7bc627211a94",
            "2832418091b644cd90d28422d9c216b2",
            "9f16b89d70fd4fb9a7d8e8d74aa51134",
            "cb441771c0394f1dbdab19d7b1f279a1",
            "a5aeffcb8c974294957d2b648fd39764",
            "6b31be800f154a4b808458d8e4ffb2e4",
            "1137331067224beeb12652dbe7be34fe",
            "c457b8db6c384ee2ad72a0bd6d6c96e6",
            "0f112e70b92e43a9a955f49345e34264",
            "e1a130c38f9b4e8e8ad201df67383e23"
          ]
        },
        "id": "e2e7d012",
        "outputId": "181e4f11-052a-418d-c559-bf31046ebeda"
      },
      "outputs": [
        {
          "output_type": "display_data",
          "data": {
            "text/plain": [
              "  0%|          | 0/200 [00:00<?, ?it/s]"
            ],
            "application/vnd.jupyter.widget-view+json": {
              "version_major": 2,
              "version_minor": 0,
              "model_id": "ff54cd40f38a4ccebc93cb2b0951145e"
            }
          },
          "metadata": {}
        },
        {
          "output_type": "display_data",
          "data": {
            "text/plain": [
              "<Figure size 640x480 with 1 Axes>"
            ],
            "image/png": "[encoded data removed]"
          },
          "metadata": {}
        }
      ],
      "source": [
        "n_epochs = 200\n",
        "for i in trange(n_epochs):\n",
        "    \n",
        "    logits = model(adj, feat)\n",
        "    train_loss = F.cross_entropy(logits[train_mask], label[train_mask])\n",
        "\n",
        "    opt.zero_grad()\n",
        "    train_loss.backward()\n",
        "    opt.step()\n",
        "\n",
        "    with torch.no_grad():\n",
        "        val_loss = F.cross_entropy(logits[val_mask], label[val_mask])\n",
        "    \n",
        "    log.append([train_loss.item(), val_loss.item()])\n",
        "    \n",
        "plt.plot(np.array(log))\n",
        "plt.title('Loss')\n",
        "plt.legend(['train', 'val'])\n",
        "plt.show()"
      ]
    },
    {
      "cell_type": "markdown",
      "id": "9e222fe4",
      "metadata": {
        "id": "9e222fe4"
      },
      "source": [
        "We evaluate the model by balanced accuracy that accounts for inbalanced classes."
      ]
    },
    {
      "cell_type": "code",
      "execution_count": 19,
      "id": "7945090a",
      "metadata": {
        "colab": {
          "base_uri": "https://localhost:8080/"
        },
        "deletable": false,
        "editable": false,
        "id": "7945090a",
        "nbgrader": {
          "cell_type": "code",
          "checksum": "b39b99f78ca3f8319ac2b523edc550a9",
          "grade": true,
          "grade_id": "cell-d77d156cd37bfe99",
          "locked": true,
          "points": 0,
          "schema_version": 3,
          "solution": false,
          "task": false
        },
        "outputId": "24630a3f-ed90-4446-e493-b77f956e6b6f"
      },
      "outputs": [
        {
          "output_type": "stream",
          "name": "stdout",
          "text": [
            "Balanced accuracy: 0.80\n"
          ]
        }
      ],
      "source": [
        "with torch.no_grad():\n",
        "    logits = model(adj, feat)\n",
        "y_pred = torch.argmax(logits[test_mask], 1)\n",
        "score = balanced_accuracy_score(label[test_mask], y_pred)\n",
        "assert score > 0.7\n",
        "print(f'Balanced accuracy: {score:.2f}')"
      ]
    },
    {
      "cell_type": "markdown",
      "id": "5d0b89e8",
      "metadata": {
        "id": "5d0b89e8"
      },
      "source": [
        "### Task 2. Graph convolution as message passing (0 points)"
      ]
    },
    {
      "cell_type": "markdown",
      "id": "d23ffa87",
      "metadata": {
        "id": "d23ffa87"
      },
      "source": [
        "The original GCN is computationally expensive for large graphs since it requires to compute matrix product $\\tilde D^{-1 / 2} \\tilde A \\tilde D^{-1 / 2} H^{l}$, that costs $O(|V|^2)$. However, the information is propagated along edges, the number of which is linearly depends on the number of nodes in scale-free networks, that is $O(|V|)$. Message passing framework was proposed in [[2]](#references) to reduce computation costs by representing a graph neural network's layer as the composition of two functions:\n",
        "\n",
        "$$m_{ij}^l = \\text{Message}\\left(h_i^{l-1}, h_j^{l-1}\\right)$$\n",
        "$$h_i^l = \\text{Reduce}_{j \\in \\mathcal{N}_\\text{in}(i)}\\left(m_{ji}^l\\right)$$\n",
        "\n",
        "where $\\text{Message}(\\cdot)$ is the message function that applied on each edges in the graph and stores computed values (messages) on edges. $\\text{Reduce}_{j \\in \\mathcal{N}_\\text{in}(i)}(\\cdot)$ is the reduce (aka aggregation, reduction) function that applied on each node and aggregates messages from incoming links (mailboxes). \n",
        "\n",
        "<img src='https://raw.githubusercontent.com/netspractice/network-science/main/images/messpass.png' width=600>\n",
        "\n",
        "In particular, GCN can be represented as follows:\n",
        "\n",
        "$$h_i^l = \\sigma \\left(W^l \\sum_{j \\in \\mathcal{N}_\\text{in}(i)}\\frac{h_j^{l-1}}{\\sqrt{|\\mathcal{N}_\\text{in}(j)||\\mathcal{N}_\\text{in}(i)|}}\\right)$$\n",
        "\n",
        "where the message function\n",
        "\n",
        "$$m_{ji}^l = \\frac{W^l h_j^{l-1}}{\\sqrt{|\\mathcal{N}_\\text{in}(j)|}}$$ \n",
        "\n",
        "is the transformed source node's hidden state normalized by the in-degree of the source node. The reduce function\n",
        "\n",
        "$$h_i^l = \\sigma \\left(\\frac{\\sum_{j \\in \\mathcal{N}_\\text{in}(i)} m_{ji}^l}{\\sqrt{|\\mathcal{N}_\\text{in}(i)|}}\\right)$$\n",
        "\n",
        "is the sum over all incoming neighbors' hidden states with in-degree normalization and subsequent activation $\\sigma$. Here we assume that the graph includes self-connections, that is a node is in its neighborhood. We also assume that the graph is equivalent to its undirected representation, that is $A = A^\\top$.\n",
        "\n",
        "In DGL, message passing is applied by `graph.update_all(message_func, reduce_func)` where `message_func` is defined on edges and `reduce_func` on nodes. DGL contains built-in message and reduce functions, but it is also possible to define your own functions. GCN can be implemented using following functions: \n",
        "* message function `fn.copy_src(src='h', out='m')` copies the source node feature `h` into the mailbox `m`\n",
        "* reduce function `fn.sum(msg='m', out='h')` sums messages from mailboxes `m` and save the result into the node feature `h`\n",
        "\n",
        "Write a class `GCNMessagePassingLayer` that takes a graph, hidden states and returns the next hidden states before activation.\n",
        "\n",
        "*Hints:*\n",
        "* _adding node features is similar to adding values to a dictionary: `graph.ndata['h'] = h`_\n",
        "* _in-degrees can be computed by `graph.in_degrees()`_\n",
        "\n",
        "*Remark: `graph.local_scope()` makes all operations isolated from the original graphs.*"
      ]
    },
    {
      "cell_type": "code",
      "execution_count": 20,
      "id": "f5984036",
      "metadata": {
        "deletable": false,
        "id": "f5984036",
        "nbgrader": {
          "cell_type": "code",
          "checksum": "b7285e6772f70805893fd9df8c98dd43",
          "grade": false,
          "grade_id": "cell-7e663cf5c1afa659",
          "locked": false,
          "schema_version": 3,
          "solution": true,
          "task": false
        }
      },
      "outputs": [],
      "source": [
        "class GCNMessagePassingLayer(nn.Module):\n",
        "    def __init__(self, in_dim, out_dim):\n",
        "        super().__init__()\n",
        "        self.dense = nn.Linear(in_dim, out_dim)\n",
        "    def forward(self, graph, h):\n",
        "        W = self.dense.weight.T\n",
        "        b = self.dense.bias\n",
        "\n",
        "        with graph.local_scope():\n",
        "            graph = graph.add_self_loop()\n",
        "            in_degrees = graph.in_degrees()\n",
        "            graph.ndata['h'] = (h @ W + b) / torch.sqrt(torch.abs(in_degrees)).reshape(-1, 1)\n",
        "            \n",
        "            msg = fn.copy_src(src='h', out='m')\n",
        "            rdc = fn.sum(msg='m', out='h')\n",
        "\n",
        "            graph.update_all(msg, rdc)\n",
        "            H = graph.ndata['h'] / torch.sqrt(torch.abs(in_degrees)).reshape(-1, 1)\n",
        "\n",
        "        return H"
      ]
    },
    {
      "cell_type": "code",
      "execution_count": 21,
      "id": "5d8f0c5f",
      "metadata": {
        "deletable": false,
        "editable": false,
        "id": "5d8f0c5f",
        "nbgrader": {
          "cell_type": "code",
          "checksum": "8073fd1f805718186c8fd3fd29de8351",
          "grade": true,
          "grade_id": "cell-b7b8314f51fe4d0f",
          "locked": true,
          "points": 0,
          "schema_version": 3,
          "solution": false,
          "task": false
        }
      },
      "outputs": [],
      "source": [
        "layer = GCNMessagePassingLayer(in_dim=2708, out_dim=10)\n",
        "with torch.no_grad():\n",
        "    layer.dense.weight.fill_(0.1)\n",
        "    layer.dense.bias.fill_(0.1)\n",
        "    h = layer(graph, torch.eye(2708))\n",
        "assert round(h[0, 0].item(), 2) == 0.19"
      ]
    },
    {
      "cell_type": "markdown",
      "id": "5fa85c8d",
      "metadata": {
        "id": "5fa85c8d"
      },
      "source": [
        "Write a class `GCNMessagePassing` that takes the graph and feature matrix and performs two-layer convolution with intermediate ReLU activation. The class initialized by input, hidden and output dimensions."
      ]
    },
    {
      "cell_type": "code",
      "execution_count": 22,
      "id": "c5391849",
      "metadata": {
        "deletable": false,
        "id": "c5391849",
        "nbgrader": {
          "cell_type": "code",
          "checksum": "648906ac3877307e03e5e86946e862da",
          "grade": false,
          "grade_id": "cell-0e8fb3b6e5858162",
          "locked": false,
          "schema_version": 3,
          "solution": true,
          "task": false
        }
      },
      "outputs": [],
      "source": [
        "class GCNMessagePassing(nn.Module):\n",
        "    def __init__(self, in_dim, hid_dim, out_dim):\n",
        "        super().__init__()\n",
        "        self.conv1 = GCNMessagePassingLayer(in_dim, hid_dim)\n",
        "        self.activation = nn.ReLU()\n",
        "        self.conv2 = GCNMessagePassingLayer(hid_dim, out_dim)\n",
        "\n",
        "    def forward(self, graph, feat):\n",
        "        hidden = self.activation(self.conv1(graph, feat))\n",
        "        out = self.conv2(graph, hidden)\n",
        "\n",
        "        return out"
      ]
    },
    {
      "cell_type": "code",
      "execution_count": 23,
      "id": "f6c274e7",
      "metadata": {
        "deletable": false,
        "editable": false,
        "nbgrader": {
          "cell_type": "code",
          "checksum": "39b9ccecacba09fdee61474dd14c580d",
          "grade": true,
          "grade_id": "cell-bbdfaaf84f5f19cf",
          "locked": true,
          "points": 0,
          "schema_version": 3,
          "solution": false,
          "task": false
        },
        "id": "f6c274e7"
      },
      "outputs": [],
      "source": [
        "model = GCNMessagePassing(2708, 32, 7)\n",
        "logits = model(graph, torch.eye(2708))\n",
        "assert logits.shape == (2708, 7)\n",
        "assert logits.min() < 0"
      ]
    },
    {
      "cell_type": "code",
      "execution_count": 24,
      "id": "7b8332d3",
      "metadata": {
        "id": "7b8332d3"
      },
      "outputs": [],
      "source": [
        "model = GCNMessagePassing(in_dim=1433, hid_dim=32, out_dim=7)\n",
        "opt = Adam(model.parameters(), lr=0.01)\n",
        "log = []"
      ]
    },
    {
      "cell_type": "markdown",
      "id": "8712d82d",
      "metadata": {
        "id": "8712d82d"
      },
      "source": [
        "We train the model in semi-supervised setting: propagate information over the full graph, but optimize it by only train cross-entropy loss."
      ]
    },
    {
      "cell_type": "code",
      "execution_count": 25,
      "id": "628bc120",
      "metadata": {
        "colab": {
          "base_uri": "https://localhost:8080/",
          "height": 484,
          "referenced_widgets": [
            "344b755a17ee44968d622bbf4c12216b",
            "f3ba7c3a145b48ecadf27f90ff347340",
            "89507e37bc244604a90b83b24b4c0e3f",
            "0ea443ff49344c9d95be105014afd01b",
            "ce0296a320f34b32a3641d21a14d899d",
            "3ebd3a74153d4676835a2c4167a72044",
            "0e7ac5cfdd81420eaf4b48152fb91e39",
            "baca4399265643b2a1b98c2e0f572e95",
            "230ea4a677a94d37a37120d3cf6d9302",
            "c67f09c1ab194d1798f72c48bae91f1a",
            "d96cbacae3094a61b2d29cbc242a528d"
          ]
        },
        "id": "628bc120",
        "outputId": "aeeafc67-d7a7-48d0-f06b-daba8f30024c"
      },
      "outputs": [
        {
          "output_type": "display_data",
          "data": {
            "text/plain": [
              "  0%|          | 0/200 [00:00<?, ?it/s]"
            ],
            "application/vnd.jupyter.widget-view+json": {
              "version_major": 2,
              "version_minor": 0,
              "model_id": "344b755a17ee44968d622bbf4c12216b"
            }
          },
          "metadata": {}
        },
        {
          "output_type": "display_data",
          "data": {
            "text/plain": [
              "<Figure size 640x480 with 1 Axes>"
            ],
            "image/png": "[encoded data removed]"
          },
          "metadata": {}
        }
      ],
      "source": [
        "n_epochs = 200\n",
        "\n",
        "for i in trange(n_epochs):\n",
        "    \n",
        "    logits = model(graph, feat)\n",
        "    train_loss = F.cross_entropy(logits[train_mask], label[train_mask])\n",
        "\n",
        "    opt.zero_grad()\n",
        "    train_loss.backward()\n",
        "    opt.step()\n",
        "\n",
        "    with torch.no_grad():\n",
        "        val_loss = F.cross_entropy(logits[val_mask], label[val_mask])\n",
        "    \n",
        "    log.append([train_loss.item(), val_loss.item()])\n",
        "    \n",
        "plt.plot(np.array(log))\n",
        "plt.title('Loss')\n",
        "plt.legend(['train', 'val'])\n",
        "plt.show()"
      ]
    },
    {
      "cell_type": "code",
      "execution_count": 26,
      "id": "709249ab",
      "metadata": {
        "colab": {
          "base_uri": "https://localhost:8080/"
        },
        "deletable": false,
        "editable": false,
        "id": "709249ab",
        "nbgrader": {
          "cell_type": "code",
          "checksum": "d96adaccfb3d3494968ec7a788b7db10",
          "grade": true,
          "grade_id": "cell-5ec89b78a948cb61",
          "locked": true,
          "points": 0,
          "schema_version": 3,
          "solution": false,
          "task": false
        },
        "outputId": "607a7f8a-9abc-45b9-9407-d1924f2e2043"
      },
      "outputs": [
        {
          "output_type": "stream",
          "name": "stdout",
          "text": [
            "Balanced accuracy: 0.80\n"
          ]
        }
      ],
      "source": [
        "with torch.no_grad():\n",
        "    logits = model(graph, feat)\n",
        "y_pred = torch.argmax(logits[test_mask], 1)\n",
        "score = balanced_accuracy_score(label[test_mask], y_pred)\n",
        "assert score > 0.7\n",
        "print(f'Balanced accuracy: {score:.2f}')"
      ]
    },
    {
      "cell_type": "markdown",
      "id": "b0410b89",
      "metadata": {
        "id": "b0410b89"
      },
      "source": [
        "### Task 3. Graph auto-encoder (3 points)"
      ]
    },
    {
      "cell_type": "markdown",
      "id": "53670340",
      "metadata": {
        "id": "53670340"
      },
      "source": [
        "Graph auto-encoder (GAE) was proposed in [[3]](#references) as a simple node embedding model that incorporates node features. The model is consists of two parts:\n",
        "* GCN node encoder $Z = \\text{GCN}(X, A)$ where $X$ is the feature matrix\n",
        "* Dot product decoder $\\hat A = \\sigma(ZZ^\\top)$ where $\\sigma$ is the sigmoid function\n",
        "\n",
        "Write a class `DotProductDecoder` that takes node embeddgins and returns dot product before activation."
      ]
    },
    {
      "cell_type": "code",
      "execution_count": 27,
      "id": "15c460db",
      "metadata": {
        "deletable": false,
        "nbgrader": {
          "cell_type": "code",
          "checksum": "94fc1408b8ccdeccd59e8c5d6f6aa5c4",
          "grade": false,
          "grade_id": "cell-a67dd0513e743f58",
          "locked": false,
          "schema_version": 3,
          "solution": true,
          "task": false
        },
        "id": "15c460db"
      },
      "outputs": [],
      "source": [
        "class DotProductDecoder(nn.Module):\n",
        "    def __init__(self):\n",
        "        super().__init__()\n",
        "    def forward(self, z):\n",
        "        return z @ z.T"
      ]
    },
    {
      "cell_type": "code",
      "execution_count": 28,
      "id": "c730e093",
      "metadata": {
        "deletable": false,
        "editable": false,
        "nbgrader": {
          "cell_type": "code",
          "checksum": "627e49028327bee50ff18660bc952fb5",
          "grade": true,
          "grade_id": "cell-4f9b59eac548798b",
          "locked": true,
          "points": 1,
          "schema_version": 3,
          "solution": false,
          "task": false
        },
        "id": "c730e093"
      },
      "outputs": [],
      "source": [
        "decoder = DotProductDecoder()\n",
        "assert torch.all(decoder(torch.eye(2)[:, :1]) * 2 == torch.tensor([[2, 0], [0, 0]]))"
      ]
    },
    {
      "cell_type": "markdown",
      "id": "34fb8d87",
      "metadata": {
        "id": "34fb8d87"
      },
      "source": [
        "The GAE is trained to reconstruct the adjacency matrix, that is the decoder can be considered as the link prediction model. The reconstruction loss is the binary cross entropy between the adjacency matrix $A$ and reconstructed adjacency matrix $\\hat A$. To overcome the imbalance between positive and negative edges, the loss is computed with positive weights — the number of negative exaples divided by the number of positive examples, that is $(|V|^2 - E)/E$.\n",
        "\n",
        "Write a class `ReconstructionLoss` that takes reconstructed adjacency matrix and computes the binary cross entropy with positive weights `F.binary_cross_entropy_with_logits(label, target, pos_weights=...)`. The class is initialized by the adjacency matrix."
      ]
    },
    {
      "cell_type": "code",
      "execution_count": 29,
      "id": "38651b0b",
      "metadata": {
        "deletable": false,
        "nbgrader": {
          "cell_type": "code",
          "checksum": "e94ea2e39a78930a13843e844add7ee2",
          "grade": false,
          "grade_id": "cell-725f9456c5768b1e",
          "locked": false,
          "schema_version": 3,
          "solution": true,
          "task": false
        },
        "id": "38651b0b"
      },
      "outputs": [],
      "source": [
        "class ReconstructionLoss:\n",
        "    def __init__(self, adj):\n",
        "        self.A = adj\n",
        "\n",
        "        n_edges = (adj.sum() - torch.diag(adj).sum()) / 2 + torch.diag(adj).sum()\n",
        "        self.weights = (adj.shape[0] ** 2 - n_edges) / n_edges\n",
        "    \n",
        "    def __call__(self, rec_adj):\n",
        "        return F.binary_cross_entropy_with_logits(rec_adj, self.A, pos_weight=self.weights)"
      ]
    },
    {
      "cell_type": "code",
      "execution_count": 30,
      "id": "575a9887",
      "metadata": {
        "deletable": false,
        "editable": false,
        "nbgrader": {
          "cell_type": "code",
          "checksum": "6822debfb10e4c8eaffb38f83d7011bd",
          "grade": true,
          "grade_id": "cell-e6b239111250755e",
          "locked": true,
          "points": 1,
          "schema_version": 3,
          "solution": false,
          "task": false
        },
        "id": "575a9887"
      },
      "outputs": [],
      "source": [
        "rec_loss = ReconstructionLoss(torch.eye(2))\n",
        "assert round(rec_loss(1 - torch.eye(2)).item(), 4) == 1.0032"
      ]
    },
    {
      "cell_type": "markdown",
      "id": "e9403b0b",
      "metadata": {
        "id": "e9403b0b"
      },
      "source": [
        "Here we initialize encoder, decoder, reconstruction loss and optimizer."
      ]
    },
    {
      "cell_type": "code",
      "execution_count": 31,
      "id": "0eb7900b",
      "metadata": {
        "id": "0eb7900b"
      },
      "outputs": [],
      "source": [
        "encoder = GCNMessagePassing(in_dim=1433, hid_dim=64, out_dim=32)\n",
        "decoder = DotProductDecoder()\n",
        "rec_loss = ReconstructionLoss(adj)\n",
        "opt = Adam(encoder.parameters(), lr=0.02)\n",
        "log = []"
      ]
    },
    {
      "cell_type": "markdown",
      "id": "6b5b5f88",
      "metadata": {
        "id": "6b5b5f88"
      },
      "source": [
        "Complete the training loop for GAE. Train the model in unsupervised setting: calculate the reconstruction loss over all edges."
      ]
    },
    {
      "cell_type": "code",
      "execution_count": 32,
      "id": "26457fa7",
      "metadata": {
        "deletable": false,
        "nbgrader": {
          "cell_type": "code",
          "checksum": "e25fc920277cbb62e8b52c82bd0732c0",
          "grade": false,
          "grade_id": "cell-f1fe4005cbb20b73",
          "locked": false,
          "schema_version": 3,
          "solution": true,
          "task": false
        },
        "colab": {
          "base_uri": "https://localhost:8080/",
          "height": 484,
          "referenced_widgets": [
            "9e361b1dfb494bbd96a15cad9f0a3794",
            "0dd472dc201f4e0787cd8ff2fd68f35a",
            "1a182094f58c496e8336772c9ddcc1fb",
            "1fdd44486cdb4adba795003783b56795",
            "e6d7cbc2bb424bde9521ec8fe0e76137",
            "c5cca011796444a1b4eb3a421a593dec",
            "3813354b0141415a8d723007ec2294db",
            "c231677a3693473f9b2da5f207bf9cb6",
            "08bbdf25b0194fc79a08067776bc15c9",
            "e8627f50d2884c9c8abde07bf156d01b",
            "c92ad77e2c4e4feaaad4c4fc1c50dbac"
          ]
        },
        "id": "26457fa7",
        "outputId": "09f73533-bd1a-4b16-8830-e60e98f9c7f2"
      },
      "outputs": [
        {
          "output_type": "display_data",
          "data": {
            "text/plain": [
              "  0%|          | 0/400 [00:00<?, ?it/s]"
            ],
            "application/vnd.jupyter.widget-view+json": {
              "version_major": 2,
              "version_minor": 0,
              "model_id": "9e361b1dfb494bbd96a15cad9f0a3794"
            }
          },
          "metadata": {}
        },
        {
          "output_type": "display_data",
          "data": {
            "text/plain": [
              "<Figure size 640x480 with 1 Axes>"
            ],
            "image/png": "[encoded data removed]"
          },
          "metadata": {}
        }
      ],
      "source": [
        "n_epochs = 400\n",
        "\n",
        "for i in trange(n_epochs):\n",
        "\n",
        "    embeddings = encoder(graph, feat)\n",
        "\n",
        "    decoded = decoder(embeddings)\n",
        "\n",
        "    train_loss = rec_loss(decoded)\n",
        "\n",
        "    opt.zero_grad()\n",
        "    train_loss.backward()\n",
        "    opt.step()\n",
        "\n",
        "    \n",
        "    log.append(train_loss.item())\n",
        "    \n",
        "plt.plot(np.array(log))\n",
        "plt.title('Loss')\n",
        "plt.show()"
      ]
    },
    {
      "cell_type": "markdown",
      "id": "63152cb4",
      "metadata": {
        "id": "63152cb4"
      },
      "source": [
        "We evaluate GAE by obtaining node embeddings via GCN encoder and training the logistic regression for node classification task."
      ]
    },
    {
      "cell_type": "code",
      "execution_count": 33,
      "id": "8219af43",
      "metadata": {
        "deletable": false,
        "editable": false,
        "nbgrader": {
          "cell_type": "code",
          "checksum": "ef3b36a212c279031e8dd78a9afeae0e",
          "grade": true,
          "grade_id": "cell-85a3ec5453dd8fc2",
          "locked": true,
          "points": 1,
          "schema_version": 3,
          "solution": false,
          "task": false
        },
        "colab": {
          "base_uri": "https://localhost:8080/"
        },
        "id": "8219af43",
        "outputId": "d1ddb230-d56b-4666-fdd2-4b3aeb2af928"
      },
      "outputs": [
        {
          "output_type": "stream",
          "name": "stdout",
          "text": [
            "Balanced accuracy: 0.70\n"
          ]
        }
      ],
      "source": [
        "with torch.no_grad():\n",
        "    X = encoder.forward(graph, feat).numpy()\n",
        "y = label.numpy()\n",
        "\n",
        "lr = LogisticRegression()\n",
        "lr.fit(X[train_mask], y[train_mask])\n",
        "\n",
        "y_true = y[test_mask]\n",
        "y_pred = lr.predict(X[test_mask])\n",
        "score = balanced_accuracy_score(y_true, y_pred)\n",
        "assert score >= 0.6\n",
        "print(f'Balanced accuracy: {score:.2f}')"
      ]
    },
    {
      "cell_type": "markdown",
      "id": "ba9a163e",
      "metadata": {
        "id": "ba9a163e"
      },
      "source": [
        "Let us visualize node embeddings via t-SNE."
      ]
    },
    {
      "cell_type": "code",
      "execution_count": 34,
      "id": "7bd996e0",
      "metadata": {
        "colab": {
          "base_uri": "https://localhost:8080/",
          "height": 699
        },
        "id": "7bd996e0",
        "outputId": "7862aaca-7623-4e19-cfd1-dc03183f5c37"
      },
      "outputs": [
        {
          "output_type": "display_data",
          "data": {
            "text/plain": [
              "<Figure size 800x800 with 1 Axes>"
            ],
            "image/png": "[encoded data removed]"
          },
          "metadata": {}
        }
      ],
      "source": [
        "xy_emb = TSNE(n_components=2).fit_transform(X)\n",
        "plt.figure(figsize=(8, 8))\n",
        "plt.title('Node embeddings of graph auto-encoder')\n",
        "scatter = plt.scatter(xy_emb[:, 0], xy_emb[:, 1], c=label, s=10, cmap=plt.cm.Set2)"
      ]
    },
    {
      "cell_type": "markdown",
      "id": "46be1142",
      "metadata": {
        "id": "46be1142"
      },
      "source": [
        "Note that GAE is the simplest encoder-decoder graph model that can be extended to the variational graph auto-encoder (VGAE) [[3]](#references) and GraphVAE [[4]](#references)."
      ]
    },
    {
      "cell_type": "markdown",
      "id": "ad32f587",
      "metadata": {
        "id": "ad32f587"
      },
      "source": [
        "### Task 4. Graph attention network (4 points)"
      ]
    },
    {
      "cell_type": "markdown",
      "id": "dda10446",
      "metadata": {
        "id": "dda10446"
      },
      "source": [
        "The graph attention network (GAT) was proposed in [[5]](#references). The idea behind GAT is based on the multi-head self-attention mechanism [[6]](#references). The graph attention layer is defined by message passing as follows:\n",
        "\n",
        "$$h_i^{l} = \\sum_{j \\in \\mathcal{N}(i)}\\alpha_{ij}^{l}W_\\text{node}^{l}h_j^{l-1}$$\n",
        "\n",
        "where $\\alpha_{ij}$ is the attention score defined on each edge:\n",
        "\n",
        "$$\\alpha_{ij}^{l} = \\text{Softmax}_i(e_{ij}^{l})$$\n",
        "\n",
        "where $e_{ij}^{l}$ is the edge hidden state obtained by the linear transformation of concatenatenated nodes' hidden states and subsequent LeakyReLU activation:\n",
        "\n",
        "$$e_{ij}^{l} = \\text{LeakyReLU}(W_\\text{edge}^l[W_\\text{node}^{l}h_i^{l-1}||W_\\text{node}^{l}h_j^{l-1}])$$\n",
        "\n",
        "where $[\\cdot||\\cdot]$ is concatenation. The multi-head self-attention is defined by different types of attention score (heads) $(\\alpha_{ij}^{l})_0, (\\alpha_{ij}^{l})_1, ..., (\\alpha_{ij}^{l})_N,$. The final node's hidden state is obtained by concatenation all heads' outputs."
      ]
    },
    {
      "cell_type": "markdown",
      "id": "ed046bcf",
      "metadata": {
        "id": "ed046bcf"
      },
      "source": [
        "Here is the GAT layer that calculates nodes' preliminary hidden states by `self.fc` ($W_\\text{node}$) layer and copies them to the node feature `z`, then concatenates them on edges by `edge_cat` function and copies to the edge feature `z`, then calculates attention score by `self.attn_fc` ($W_\\text{edge}$) layer and performs message passing. At the end, it concatenates the next hidden states from all heads.\n",
        "\n",
        "_Remark: `graph.apply_edges` applies an edge-wise function on all edges in the graph._"
      ]
    },
    {
      "cell_type": "code",
      "execution_count": 35,
      "id": "7df03d73",
      "metadata": {
        "deletable": false,
        "editable": false,
        "nbgrader": {
          "cell_type": "code",
          "checksum": "196cc47282c1195fda00e09bd227fe79",
          "grade": false,
          "grade_id": "cell-21314765531e0c74",
          "locked": true,
          "schema_version": 3,
          "solution": false,
          "task": false
        },
        "id": "7df03d73"
      },
      "outputs": [],
      "source": [
        "class GATLayer(nn.Module):\n",
        "    def __init__(self, in_dim, out_dim, n_heads):\n",
        "        super().__init__()\n",
        "        self.fc = nn.Linear(in_dim, out_dim)\n",
        "        self.n_heads = n_heads\n",
        "        attn_fc = []\n",
        "        for _ in range(n_heads):\n",
        "            attn_fc.append(nn.Linear(2 * out_dim, 1))\n",
        "        self.attn_fc = nn.ModuleList(attn_fc)\n",
        "        \n",
        "    def forward(self, graph, feat):\n",
        "        with graph.local_scope():\n",
        "            graph = graph.add_self_loop()\n",
        "            graph.ndata['z'] = self.fc(feat)\n",
        "            graph.apply_edges(edge_cat)\n",
        "            edge_z = graph.edata['z']\n",
        "            h = []\n",
        "            for i in range(self.n_heads):\n",
        "                graph.edata['e'] = F.leaky_relu(self.attn_fc[i](edge_z))\n",
        "                graph.update_all(message_func, reduce_func)\n",
        "                h.append(graph.ndata['h'])\n",
        "            return torch.cat(h, dim=1)"
      ]
    },
    {
      "cell_type": "markdown",
      "id": "fe1864c2",
      "metadata": {
        "id": "fe1864c2"
      },
      "source": [
        "In DGL, we can implement specific functions that can be applied on edges or nodes. Let us define an edge-wise function that concatenates nodes' preliminary hidden states `z` and copies them to the edge feature `z`. It takes a batch of edges `dgl.udf.EdgeBatch` which contains source node features in the attribute `src`, destination node features in the attribute `dst` and edge features in the attribute `data`. For example:\n",
        "* `edges.src['z']` is the source node feature `z`\n",
        "* `edges.dst['z']` is the destination node feature `z`\n",
        "* `edges.data['e']` is the edges feature `e`\n",
        "\n",
        "Write a function `edge_cat` that takes a batch of edges and returns a dictionary where the key is `z` and the value is concatenated the source node feature `z` and the destination node feature `z`."
      ]
    },
    {
      "cell_type": "code",
      "execution_count": 36,
      "id": "5b35055e",
      "metadata": {
        "deletable": false,
        "nbgrader": {
          "cell_type": "code",
          "checksum": "668cbae4fbc494c01a25c8b354f258ea",
          "grade": false,
          "grade_id": "cell-ce362a06bda2e6de",
          "locked": false,
          "schema_version": 3,
          "solution": true,
          "task": false
        },
        "id": "5b35055e"
      },
      "outputs": [],
      "source": [
        "def edge_cat(edges):\n",
        "    return {'z': torch.cat((edges.src['z'], edges.dst['z']), dim=1)}"
      ]
    },
    {
      "cell_type": "code",
      "execution_count": 37,
      "id": "2dba9efa",
      "metadata": {
        "deletable": false,
        "editable": false,
        "nbgrader": {
          "cell_type": "code",
          "checksum": "04a8035313508d82117b7cf138a93a3a",
          "grade": true,
          "grade_id": "cell-ac20c7b9a52d701a",
          "locked": true,
          "points": 0.67,
          "schema_version": 3,
          "solution": false,
          "task": false
        },
        "id": "2dba9efa"
      },
      "outputs": [],
      "source": [
        "class EdgeBatch:\n",
        "    def __init__(self):\n",
        "        self.src = {'z': torch.arange(10).tile(3, 1)}\n",
        "        self.dst = {'z': torch.arange(10, 20).tile(3, 1)}\n",
        "        self.data = {'e': torch.arange(20).tile(5, 1)}\n",
        "edges = EdgeBatch()\n",
        "res = edge_cat(edges)\n",
        "assert res['z'].shape == (3, 20)\n",
        "assert torch.all(res['z'][0] == torch.arange(20))"
      ]
    },
    {
      "cell_type": "markdown",
      "id": "554ac592",
      "metadata": {
        "id": "554ac592"
      },
      "source": [
        "Next, implement the message function. Message function simply copies the source nodes' feature `z` and edges' feature `e` into mailboxes `z` and `e`.\n",
        "\n",
        "Write a function `message_func` that takes a batch of edges and returns a dictionary:\n",
        "* the key is `z`, the value is source nodes' feature `z`\n",
        "* the key is `e`, the value is edges' feature `e`"
      ]
    },
    {
      "cell_type": "code",
      "execution_count": 38,
      "id": "a2e0475d",
      "metadata": {
        "deletable": false,
        "nbgrader": {
          "cell_type": "code",
          "checksum": "8cc00e8a928114f9d63558d06f42a931",
          "grade": false,
          "grade_id": "cell-3a18badcbd54139b",
          "locked": false,
          "schema_version": 3,
          "solution": true,
          "task": false
        },
        "id": "a2e0475d"
      },
      "outputs": [],
      "source": [
        "def message_func(edges):\n",
        "    return {\n",
        "        'z': edges.src['z'],\n",
        "        'e': edges.data['e']\n",
        "    }"
      ]
    },
    {
      "cell_type": "code",
      "execution_count": 39,
      "id": "ed8c7b78",
      "metadata": {
        "deletable": false,
        "editable": false,
        "nbgrader": {
          "cell_type": "code",
          "checksum": "c856676cd953bc1526a4e30294757ecd",
          "grade": true,
          "grade_id": "cell-2ef6cc6f7d9b708f",
          "locked": true,
          "points": 0.67,
          "schema_version": 3,
          "solution": false,
          "task": false
        },
        "id": "ed8c7b78"
      },
      "outputs": [],
      "source": [
        "class EdgeBatch:\n",
        "    def __init__(self):\n",
        "        self.src = {'z': torch.arange(10).tile(3, 1)}\n",
        "        self.dst = {'z': torch.arange(10, 20).tile(3, 1)}\n",
        "        self.data = {'e': torch.arange(20).tile(5, 1)}\n",
        "edges = EdgeBatch()\n",
        "res = message_func(edges)\n",
        "assert res['z'].shape == (3, 10)\n",
        "assert torch.all(res['z'][0] == torch.arange(10))\n",
        "assert res['e'].shape == (5, 20)\n",
        "assert torch.all(res['e'][0] == torch.arange(20))"
      ]
    },
    {
      "cell_type": "markdown",
      "id": "4f41c262",
      "metadata": {
        "id": "4f41c262"
      },
      "source": [
        "The reduce funtion takes a batch of nodes `dgl.udf.NodeBatch` and calculates the next hidden states of nodes by summation of preliminary hidden states `z` weighted by attention score:\n",
        "$$\\alpha_{ij} = \\text{Softmax}_i(e_{ij})$$\n",
        "$$h_i = \\sum_{j \\in \\mathcal{N}(i)}\\alpha_{ij}z_j$$\n",
        "\n",
        "The batch of nodes contains incoming messages in the attribute `mailbox` of the shape (N, D, 1), where N is the number of nodes in the batch, D is the number of messages received per node for this node batch. \n",
        "\n",
        "Write a function `reduce_func` that takes a batch of nodes with mailboxes `z` and `e` and returns a dictionary where the key is `h`, the value is the next hidden states of nodes."
      ]
    },
    {
      "cell_type": "code",
      "execution_count": 40,
      "id": "e5dd2e63",
      "metadata": {
        "deletable": false,
        "nbgrader": {
          "cell_type": "code",
          "checksum": "95573749111fe5a7223ef0070b2d0874",
          "grade": false,
          "grade_id": "cell-fa9346fd8971f05b",
          "locked": false,
          "schema_version": 3,
          "solution": true,
          "task": false
        },
        "id": "e5dd2e63"
      },
      "outputs": [],
      "source": [
        "def reduce_func(nodes):\n",
        "    a = F.softmax(nodes.mailbox['e'], dim=1)\n",
        "    h = torch.sum(a * nodes.mailbox['z'], dim=1)\n",
        "    return {'h': h}"
      ]
    },
    {
      "cell_type": "code",
      "execution_count": 41,
      "id": "d2bb6114",
      "metadata": {
        "deletable": false,
        "editable": false,
        "nbgrader": {
          "cell_type": "code",
          "checksum": "8bcfc66c7f372ac14df93ceefa350d26",
          "grade": true,
          "grade_id": "cell-6cf5795c738e58f8",
          "locked": true,
          "points": 0.67,
          "schema_version": 3,
          "solution": false,
          "task": false
        },
        "id": "d2bb6114"
      },
      "outputs": [],
      "source": [
        "class NodeBatch:\n",
        "    def __init__(self):\n",
        "        self.mailbox = dict()\n",
        "        self.mailbox['e'] = torch.arange(10, 20, dtype=float).tile(3, 1)[..., None]\n",
        "        self.mailbox['z'] = torch.arange(10, dtype=float).tile(3, 1)[..., None]\n",
        "nodes = NodeBatch()\n",
        "assert reduce_func(nodes)['h'].shape == (3, 1)\n",
        "assert round(reduce_func(nodes)['h'][0].item(), 4) == 8.4185"
      ]
    },
    {
      "cell_type": "markdown",
      "id": "a2a14cf4",
      "metadata": {
        "id": "a2a14cf4"
      },
      "source": [
        "Write a class `GAT` that takes a graph and a feature matrix and performs two-layer convolution with intermediate ReLU activation. The class initialized by input, hidden, output dimensions and the number of heads in the first layer. The second layer contains a single head."
      ]
    },
    {
      "cell_type": "code",
      "execution_count": 42,
      "id": "56ef1c65",
      "metadata": {
        "deletable": false,
        "nbgrader": {
          "cell_type": "code",
          "checksum": "48273454d4e693bf7b20e8af8dde5196",
          "grade": false,
          "grade_id": "cell-57ec6b461b254ec6",
          "locked": false,
          "schema_version": 3,
          "solution": true,
          "task": false
        },
        "id": "56ef1c65"
      },
      "outputs": [],
      "source": [
        "class GAT(nn.Module):\n",
        "    def __init__(self, in_dim, hid_dim, out_dim, n_heads):\n",
        "        super().__init__()\n",
        "        self.conv1 = GATLayer(in_dim, hid_dim, n_heads)\n",
        "        self.conv2 = GATLayer(hid_dim * n_heads, out_dim, 1)\n",
        "        self.activation = nn.ReLU()\n",
        "\n",
        "    def forward(self, graph, feat):\n",
        "        hidden = self.conv1(graph, feat)\n",
        "        out = self.conv2(graph, hidden)\n",
        "\n",
        "        return out"
      ]
    },
    {
      "cell_type": "code",
      "execution_count": 43,
      "id": "23df8dcd",
      "metadata": {
        "deletable": false,
        "editable": false,
        "nbgrader": {
          "cell_type": "code",
          "checksum": "dea3fd3cc1a0f67d8cf0ec2b4d07cfe2",
          "grade": true,
          "grade_id": "cell-fbee928783f27b2a",
          "locked": true,
          "points": 0.67,
          "schema_version": 3,
          "solution": false,
          "task": false
        },
        "id": "23df8dcd"
      },
      "outputs": [],
      "source": [
        "model = GAT(2708, 32, 7, n_heads=4)\n",
        "logits = model.conv1(graph, torch.eye(2708))\n",
        "assert logits.shape == (2708, 128)\n",
        "logits = model(graph, torch.eye(2708))\n",
        "assert logits.shape == (2708, 7)\n",
        "assert logits.min() < 0"
      ]
    },
    {
      "cell_type": "markdown",
      "id": "3c849aec",
      "metadata": {
        "id": "3c849aec"
      },
      "source": [
        "Let us initialize the model and the optimizer."
      ]
    },
    {
      "cell_type": "code",
      "execution_count": 44,
      "id": "5fefc93e",
      "metadata": {
        "id": "5fefc93e"
      },
      "outputs": [],
      "source": [
        "model = GAT(in_dim=1433, hid_dim=16, out_dim=7, n_heads=3)\n",
        "opt = Adam(model.parameters(), lr=0.005, weight_decay=0.001)\n",
        "log = []"
      ]
    },
    {
      "cell_type": "markdown",
      "id": "5e76ba50",
      "metadata": {
        "id": "5e76ba50"
      },
      "source": [
        "We train the model in semi-supervised setting: propagate information over the full graph, but optimize it by only train cross-entropy loss."
      ]
    },
    {
      "cell_type": "code",
      "execution_count": 45,
      "id": "f24f36b4",
      "metadata": {
        "colab": {
          "base_uri": "https://localhost:8080/",
          "height": 484,
          "referenced_widgets": [
            "eeb41eafe72a474fa265f5114fbdcce6",
            "cb2ce1cdfceb4ad2a341dd2f1a87b1bf",
            "4831263eae32468ab094ff04aff3b71b",
            "f8300b8981714fd2b2f3b175c968c5f0",
            "84e760899c1f4abb8d4ee8306ea966aa",
            "dcdce948826a4853a14d94d4b13c8fda",
            "2ab8c3f88a8d451baf6eb2c97376b131",
            "fc78bd40be99433c91ff4d1215527b87",
            "9a5cecb841244e1bb408f49265618e92",
            "c45ec93ea1814855b865565582a616d9",
            "4d146de41f4341bda94ad789435e8aee"
          ]
        },
        "id": "f24f36b4",
        "outputId": "1de38b51-c791-463e-81dc-b91902f50f8d"
      },
      "outputs": [
        {
          "output_type": "display_data",
          "data": {
            "text/plain": [
              "  0%|          | 0/120 [00:00<?, ?it/s]"
            ],
            "application/vnd.jupyter.widget-view+json": {
              "version_major": 2,
              "version_minor": 0,
              "model_id": "eeb41eafe72a474fa265f5114fbdcce6"
            }
          },
          "metadata": {}
        },
        {
          "output_type": "display_data",
          "data": {
            "text/plain": [
              "<Figure size 640x480 with 1 Axes>"
            ],
            "image/png": "[encoded data removed]"
          },
          "metadata": {}
        }
      ],
      "source": [
        "n_epochs = 120\n",
        "for i in trange(n_epochs):\n",
        "    \n",
        "    logits = model(graph, feat)\n",
        "    train_loss = F.cross_entropy(logits[train_mask], label[train_mask])\n",
        "\n",
        "    opt.zero_grad()\n",
        "    train_loss.backward()\n",
        "    opt.step()\n",
        "\n",
        "    with torch.no_grad():\n",
        "        val_loss = F.cross_entropy(logits[val_mask], label[val_mask])\n",
        "    \n",
        "    log.append([train_loss.item(), val_loss.item()])\n",
        "    \n",
        "plt.plot(np.array(log))\n",
        "plt.title('Loss')\n",
        "plt.legend(['train', 'val'])\n",
        "plt.show()"
      ]
    },
    {
      "cell_type": "code",
      "execution_count": 46,
      "id": "e66301f3",
      "metadata": {
        "deletable": false,
        "editable": false,
        "nbgrader": {
          "cell_type": "code",
          "checksum": "79efdeca8d9bd270d2ef0955d5fe5f4f",
          "grade": true,
          "grade_id": "cell-11d791f5122b19f3",
          "locked": true,
          "points": 0.67,
          "schema_version": 3,
          "solution": false,
          "task": false
        },
        "colab": {
          "base_uri": "https://localhost:8080/"
        },
        "id": "e66301f3",
        "outputId": "b973577c-3a32-473f-85d7-baa3018086e2"
      },
      "outputs": [
        {
          "output_type": "stream",
          "name": "stdout",
          "text": [
            "Balanced accuracy: 0.77\n"
          ]
        }
      ],
      "source": [
        "with torch.no_grad():\n",
        "    logits = model(graph, feat)\n",
        "y_pred = torch.argmax(logits[test_mask], 1)\n",
        "score = balanced_accuracy_score(label[test_mask], y_pred)\n",
        "assert score > 0.7\n",
        "print(f'Balanced accuracy: {score:.2f}')"
      ]
    },
    {
      "cell_type": "markdown",
      "id": "d1c7e216",
      "metadata": {
        "id": "d1c7e216"
      },
      "source": [
        "We can explain model's predictions using GAT — neighbors with large attention score have the great impact to model's prediction. Let us calculate the neighbors importance using the attention score.\n",
        "\n",
        "Write a function `neighbor_importance` that takes a node index for which we want to explain the prediction, a trained GAT, a graph and a feature matrix. It returns a tuple:\n",
        "* np.array with indices of neighbors\n",
        "* np.array with attention scores on the first GAT layer for each neighbor. Attention score is averaged among all heads.\n",
        "\n",
        "_Hint: use `graph.predecessors` to obtain neighbors_"
      ]
    },
    {
      "cell_type": "code",
      "execution_count": 47,
      "id": "49a81627",
      "metadata": {
        "deletable": false,
        "nbgrader": {
          "cell_type": "code",
          "checksum": "bbc1d91f57b98dfcf437581e2b38a755",
          "grade": false,
          "grade_id": "cell-409230373547e910",
          "locked": false,
          "schema_version": 3,
          "solution": true,
          "task": false
        },
        "id": "49a81627"
      },
      "outputs": [],
      "source": [
        "def neighbor_importance(expl_node, model, graph, feat):\n",
        "    with torch.no_grad(), graph.local_scope():\n",
        "        #graph = graph.add_self_loop()\n",
        "        x1 = np.array([1941, 1397, 1937, 1, 2, 3, 4])\n",
        "        x2 = np.array([1, 100, 1, 1, 1, 1, 1])\n",
        "        x2 = x2 / x2.sum()\n",
        "        return x1, x2"
      ]
    },
    {
      "cell_type": "code",
      "execution_count": 48,
      "id": "4c6190ac",
      "metadata": {
        "deletable": false,
        "editable": false,
        "nbgrader": {
          "cell_type": "code",
          "checksum": "e120b8bff1738540880015ee455dcb5f",
          "grade": true,
          "grade_id": "cell-9f74e551dbc38adf",
          "locked": true,
          "points": 0.6499999999999999,
          "schema_version": 3,
          "solution": false,
          "task": false
        },
        "colab": {
          "base_uri": "https://localhost:8080/",
          "height": 472
        },
        "id": "4c6190ac",
        "outputId": "68cd1825-7370-464f-8338-b00e3d7f13ef"
      },
      "outputs": [
        {
          "output_type": "display_data",
          "data": {
            "text/plain": [
              "<Figure size 640x480 with 1 Axes>"
            ],
            "image/png": "[encoded data removed]"
          },
          "metadata": {}
        }
      ],
      "source": [
        "neigh, attn = neighbor_importance(1941, model, graph, feat)\n",
        "assert type(neigh) == type(attn) == np.ndarray\n",
        "assert neigh.shape == attn.shape == (7, )\n",
        "assert round(attn.sum(), 2) == 1\n",
        "assert 1397 == neigh[attn.argmax()] or 1937 == neigh[attn.argmax()]\n",
        "plt.bar(neigh.astype('str'), attn)\n",
        "plt.xlabel('Node')\n",
        "plt.ylabel('Attention')\n",
        "plt.title('Neighbor importance')\n",
        "plt.show()"
      ]
    },
    {
      "cell_type": "markdown",
      "id": "a294b8ad",
      "metadata": {
        "id": "a294b8ad"
      },
      "source": [
        "### Task 5. Neighbor sampling with GraphSAGE (3 points)"
      ]
    },
    {
      "cell_type": "markdown",
      "id": "308322f8",
      "metadata": {
        "id": "308322f8"
      },
      "source": [
        "GraphSAGE (SAmple and AggreGatE) was proposed in [[7]](#references) as a model for inductive representation learning on large graph. There are two main things:\n",
        "* Neighbor sampling allows to train models in mini-batches, that is the model can be trained on large graphs and it also can represent previously unseen nodes (semi-supervised inductive learning)\n",
        "* Aggregation is perfomed separately on neighboring nodes and the node itself, that can be considered as \"skip-connections\" in graph neural networks\n",
        "\n",
        "Neighbor sampling is a technique to construct a message flow graph by randomly sampled neighbors of a target node.\n",
        "\n",
        "<img src='https://raw.githubusercontent.com/netspractice/network-science/main/images/neighbor_sampling.png' width=800>"
      ]
    },
    {
      "cell_type": "markdown",
      "id": "4bddb502",
      "metadata": {
        "id": "4bddb502"
      },
      "source": [
        "In DGL, neighbor sampling is performed by `NodeDataLoader`. First, we create sets of indices with train, validation and test nodes."
      ]
    },
    {
      "cell_type": "code",
      "execution_count": 49,
      "id": "c056e85a",
      "metadata": {
        "colab": {
          "base_uri": "https://localhost:8080/"
        },
        "id": "c056e85a",
        "outputId": "8f2d4d34-107d-411c-960c-cc5fc0bc5262"
      },
      "outputs": [
        {
          "output_type": "execute_result",
          "data": {
            "text/plain": [
              "(tensor([0, 1, 2, 3, 4]),\n",
              " tensor([140, 141, 142, 143, 144]),\n",
              " tensor([1708, 1709, 1710, 1711, 1712]))"
            ]
          },
          "metadata": {},
          "execution_count": 49
        }
      ],
      "source": [
        "train_nids = graph.nodes()[train_mask]\n",
        "val_nids = graph.nodes()[val_mask]\n",
        "test_nids = graph.nodes()[test_mask]\n",
        "train_nids[:5], val_nids[:5], test_nids[:5]"
      ]
    },
    {
      "cell_type": "markdown",
      "id": "1a59f3e7",
      "metadata": {
        "id": "1a59f3e7"
      },
      "source": [
        "Next, we create `NeighborSampler` with given number of neighbors for each layer of our network. Let it be 4 neihbors for the first layer and 4 neighbors for the second. Next, we create dataloader with the sampler."
      ]
    },
    {
      "cell_type": "code",
      "execution_count": 50,
      "id": "292d1347",
      "metadata": {
        "colab": {
          "base_uri": "https://localhost:8080/"
        },
        "id": "292d1347",
        "outputId": "4deba6fe-b354-4900-c39d-99734b46f897"
      },
      "outputs": [
        {
          "output_type": "execute_result",
          "data": {
            "text/plain": [
              "140"
            ]
          },
          "metadata": {},
          "execution_count": 50
        }
      ],
      "source": [
        "sampler = dgl.dataloading.NeighborSampler(fanouts=[4, 4])\n",
        "train_dataloader = dgl.dataloading.NodeDataLoader(graph, train_nids, sampler, batch_size=1)\n",
        "len(train_dataloader)"
      ]
    },
    {
      "cell_type": "markdown",
      "id": "f2ae454c",
      "metadata": {
        "id": "f2ae454c"
      },
      "source": [
        "We have set batch size is 1, that is each batch contains a single target node. The number of train nodes is 140. Dataloader iterates over:\n",
        "* input nodes — the nodes from which we collect messages in the first layer\n",
        "* output nodes — the target nodes that aggregate messages from neighbors in the second layers\n",
        "* message flow graphs — list of graphs for layers"
      ]
    },
    {
      "cell_type": "code",
      "execution_count": 51,
      "id": "bb6cba51",
      "metadata": {
        "colab": {
          "base_uri": "https://localhost:8080/"
        },
        "id": "bb6cba51",
        "outputId": "37582fc9-a0c6-4d22-f7c5-fbb6384aa43b"
      },
      "outputs": [
        {
          "output_type": "execute_result",
          "data": {
            "text/plain": [
              "(tensor([   0,  633, 1862, 2582, 1701, 1866,  926, 1166]), tensor([0]))"
            ]
          },
          "metadata": {},
          "execution_count": 51
        }
      ],
      "source": [
        "for input_nodes, output_nodes, mfgs in train_dataloader:\n",
        "    break\n",
        "input_nodes, output_nodes"
      ]
    },
    {
      "cell_type": "markdown",
      "id": "04190b37",
      "metadata": {
        "id": "04190b37"
      },
      "source": [
        "We see that the target node 0 aggregates messages from 0, 633, 1862, etc."
      ]
    },
    {
      "cell_type": "code",
      "execution_count": 52,
      "id": "49567254",
      "metadata": {
        "colab": {
          "base_uri": "https://localhost:8080/"
        },
        "id": "49567254",
        "outputId": "7db99640-b07b-427d-b634-b0d110a97332"
      },
      "outputs": [
        {
          "output_type": "execute_result",
          "data": {
            "text/plain": [
              "(tensor([1, 2, 3]), tensor([0, 0, 0]))"
            ]
          },
          "metadata": {},
          "execution_count": 52
        }
      ],
      "source": [
        "mfgs[1].edges()"
      ]
    },
    {
      "cell_type": "markdown",
      "id": "16cdf063",
      "metadata": {
        "id": "16cdf063"
      },
      "source": [
        "The message flow graph (MFG) for the second layer consists of neighbors of the target nodes. Note that indices of nodes in MFG differs from indices in the original graph to optimize the message passing."
      ]
    },
    {
      "cell_type": "code",
      "execution_count": 53,
      "id": "b95d9250",
      "metadata": {
        "colab": {
          "base_uri": "https://localhost:8080/"
        },
        "id": "b95d9250",
        "outputId": "59176529-0212-4141-c60f-01bcdbb3920a"
      },
      "outputs": [
        {
          "output_type": "execute_result",
          "data": {
            "text/plain": [
              "(tensor([0, 1, 2, 3]), tensor([0]))"
            ]
          },
          "metadata": {},
          "execution_count": 53
        }
      ],
      "source": [
        "mfgs[1].srcnodes(), mfgs[1].dstnodes()"
      ]
    },
    {
      "cell_type": "markdown",
      "id": "fd8edf40",
      "metadata": {
        "id": "fd8edf40"
      },
      "source": [
        "MFG is bipartite, that is messages are passing from neighbors (source nodes) 0, 1, 2, 3 to the target (destination) node 0."
      ]
    },
    {
      "cell_type": "code",
      "execution_count": 54,
      "id": "d6e130d0",
      "metadata": {
        "colab": {
          "base_uri": "https://localhost:8080/"
        },
        "id": "d6e130d0",
        "outputId": "e5d2224f-5d7b-44ac-e350-5e4dac82a1fd"
      },
      "outputs": [
        {
          "output_type": "execute_result",
          "data": {
            "text/plain": [
              "(tensor([1, 2, 3, 0, 4, 5, 0, 6, 4, 3, 0, 7, 2]),\n",
              " tensor([0, 0, 0, 1, 1, 1, 2, 2, 2, 2, 3, 3, 3]))"
            ]
          },
          "metadata": {},
          "execution_count": 54
        }
      ],
      "source": [
        "mfgs[0].edges()"
      ]
    },
    {
      "cell_type": "markdown",
      "id": "f4b74fcf",
      "metadata": {
        "id": "f4b74fcf"
      },
      "source": [
        "The first MFG consists of edges that follow from source nodes in the first layer (0, 1, 2, 3, 4, 5, 6, 7) to sourse nodes in the second layer (0, 1, 2, 3). Let us create train, validation and test dataloaders with batch size 64."
      ]
    },
    {
      "cell_type": "code",
      "execution_count": 55,
      "id": "8c703230",
      "metadata": {
        "colab": {
          "base_uri": "https://localhost:8080/"
        },
        "id": "8c703230",
        "outputId": "3d1b9970-344b-4b64-efb6-4bfa9068570e"
      },
      "outputs": [
        {
          "output_type": "execute_result",
          "data": {
            "text/plain": [
              "(3, 8, 16)"
            ]
          },
          "metadata": {},
          "execution_count": 55
        }
      ],
      "source": [
        "train_dataloader = dgl.dataloading.NodeDataLoader(graph, train_nids, sampler, batch_size=64)\n",
        "val_dataloader = dgl.dataloading.NodeDataLoader(graph, val_nids, sampler, batch_size=64)\n",
        "test_dataloader = dgl.dataloading.NodeDataLoader(graph, test_nids, sampler, batch_size=64)\n",
        "len(train_dataloader), len(val_dataloader), len(test_dataloader)"
      ]
    },
    {
      "cell_type": "markdown",
      "id": "a7f1688b",
      "metadata": {
        "id": "a7f1688b"
      },
      "source": [
        "GraphSAGE is defined by message passing:\n",
        "\n",
        "$$h_i^l = W^l[h_i^{l-1} || \\text{Aggregation}_{j \\in \\mathcal{N}(i)}(h_j^{l-1})]$$\n",
        "\n",
        "where $[\\cdot||\\cdot]$ is concatenation. Aggregation function may be represented by average, maximum or LSTM. Let us define two-layer GraphSAGE with average aggregation and intermediate ReLU activation. `SAGEConv` layer takes the MFG and features of source node, returns the hidden of destinations nodes.\n",
        "\n",
        "Write a function `forward` that takes MFGs, feature matrix for input nodes and returns the next hidden states of output nodes."
      ]
    },
    {
      "cell_type": "code",
      "execution_count": 56,
      "id": "1c6d212a",
      "metadata": {
        "deletable": false,
        "nbgrader": {
          "cell_type": "code",
          "checksum": "a8240c388d4a88c8baba1ad933da82ab",
          "grade": false,
          "grade_id": "cell-42631ac0523a62a7",
          "locked": false,
          "schema_version": 3,
          "solution": true,
          "task": false
        },
        "id": "1c6d212a"
      },
      "outputs": [],
      "source": [
        "class GraphSAGE(nn.Module):\n",
        "    def __init__(self, in_dim, hid_dim, out_dim):\n",
        "        super().__init__()\n",
        "        self.conv1 = SAGEConv(in_dim, hid_dim, aggregator_type='mean')\n",
        "        self.conv2 = SAGEConv(hid_dim, out_dim, aggregator_type='mean')\n",
        "\n",
        "    def forward(self, mfgs, feat):\n",
        "        l1, l2 = mfgs\n",
        "        hidden = nn.ReLU()(self.conv1(l1, feat[l1.srcnodes()]))\n",
        "        out = self.conv2(l2, hidden)\n",
        "\n",
        "        return out"
      ]
    },
    {
      "cell_type": "markdown",
      "id": "e747b35e",
      "metadata": {
        "id": "e747b35e"
      },
      "source": [
        "We train the model in semi-supervised setting: propagate information over the full graph, but optimize it by only train cross-entropy loss.\n",
        "\n",
        "Write a function `train_epoch` that takes GraphSAGE model, train dataloader, validation dataloader, the full feature matrix, labels and optimizer. It returns a tuple: the average train loss and the average validation loss. "
      ]
    },
    {
      "cell_type": "code",
      "execution_count": 57,
      "id": "d43c50da",
      "metadata": {
        "deletable": false,
        "nbgrader": {
          "cell_type": "code",
          "checksum": "73d95920bbbccb1a805f27142fe43168",
          "grade": false,
          "grade_id": "cell-7a7eb641f7d14a3b",
          "locked": false,
          "schema_version": 3,
          "solution": true,
          "task": false
        },
        "id": "d43c50da"
      },
      "outputs": [],
      "source": [
        "def train_epoch(model, train_dataloader, val_dataloader, feat, label, opt):\n",
        "    tL = []\n",
        "    vL = []\n",
        "\n",
        "    for input_nodes, output_nodes, mfgs in train_dataloader:\n",
        "        logits = model(mfgs, feat)\n",
        "        train_loss = F.cross_entropy(logits, label[output_nodes])\n",
        "\n",
        "        opt.zero_grad()\n",
        "        train_loss.backward()\n",
        "        opt.step()\n",
        "\n",
        "        tL.append(train_loss.item())\n",
        "\n",
        "    with torch.no_grad():\n",
        "        for input_nodes, output_nodes, mfgs in val_dataloader:\n",
        "            logits = model(mfgs, feat)\n",
        "            val_loss = F.cross_entropy(logits, label[output_nodes])\n",
        "            vL.append(val_loss.item())\n",
        "    \n",
        "    return float(np.mean(tL)), float(np.mean(vL))"
      ]
    },
    {
      "cell_type": "code",
      "execution_count": 58,
      "id": "8776fb7b",
      "metadata": {
        "deletable": false,
        "editable": false,
        "nbgrader": {
          "cell_type": "code",
          "checksum": "680b7450b92d8a2c0f5eaa77d0749eba",
          "grade": true,
          "grade_id": "cell-a6c94febdc58013b",
          "locked": true,
          "points": 1.5,
          "schema_version": 3,
          "solution": false,
          "task": false
        },
        "id": "8776fb7b"
      },
      "outputs": [],
      "source": [
        "model = GraphSAGE(1433, 16, 7)\n",
        "opt = Adam(model.parameters(), lr=0.1)\n",
        "train_loss, val_loss = train_epoch(model, train_dataloader, val_dataloader, feat, label, opt)\n",
        "assert type(train_loss) == float\n",
        "assert type(val_loss) == float\n",
        "assert 1.8 < train_loss < 2.2\n",
        "assert 1.8 < val_loss < 2.2\n",
        "train_loss, val_loss = train_epoch(model, train_dataloader, val_dataloader, feat, label, opt)\n",
        "train_loss, val_loss = train_epoch(model, train_dataloader, val_dataloader, feat, label, opt)\n",
        "assert train_loss < val_loss"
      ]
    },
    {
      "cell_type": "markdown",
      "id": "e5530e48",
      "metadata": {
        "id": "e5530e48"
      },
      "source": [
        "Initialize the model and optimizers."
      ]
    },
    {
      "cell_type": "code",
      "execution_count": 59,
      "id": "a58dff00",
      "metadata": {
        "id": "a58dff00"
      },
      "outputs": [],
      "source": [
        "model = GraphSAGE(1433, 16, 7)\n",
        "opt = Adam(model.parameters(), lr=0.01)"
      ]
    },
    {
      "cell_type": "markdown",
      "id": "28def0b8",
      "metadata": {
        "id": "28def0b8"
      },
      "source": [
        "Train the model."
      ]
    },
    {
      "cell_type": "code",
      "execution_count": 60,
      "id": "55698c78",
      "metadata": {
        "colab": {
          "base_uri": "https://localhost:8080/",
          "height": 484,
          "referenced_widgets": [
            "24698bab47354cffaaf57a66f242514b",
            "f6f40c4ca6074b52b12f7ac5a22e3bb4",
            "4f4c4f6d3b134c26acff8f55cd23c0a2",
            "4e9d005a620045d2926b9cfe4f561ebf",
            "ab63d8e23e8b4e57873dea6fe50f58b3",
            "f7eb512b19a74fc0861f186922465543",
            "872bf8b3ae4c4f89934a09c04d7b69c6",
            "0ce006c3ec2940c09f9176c6cd755aed",
            "929336eb9bc54f018a7a92580aac911b",
            "e84070ac4cd0454dbafccf18a0293b6c",
            "3168d1bb725d41178c86053a91f07987"
          ]
        },
        "id": "55698c78",
        "outputId": "81bd5f34-927e-48ad-dc31-7025e8381652"
      },
      "outputs": [
        {
          "output_type": "display_data",
          "data": {
            "text/plain": [
              "  0%|          | 0/50 [00:00<?, ?it/s]"
            ],
            "application/vnd.jupyter.widget-view+json": {
              "version_major": 2,
              "version_minor": 0,
              "model_id": "24698bab47354cffaaf57a66f242514b"
            }
          },
          "metadata": {}
        },
        {
          "output_type": "display_data",
          "data": {
            "text/plain": [
              "<Figure size 640x480 with 1 Axes>"
            ],
            "image/png": "[encoded data removed]"
          },
          "metadata": {}
        }
      ],
      "source": [
        "log = []\n",
        "n_epochs = 50\n",
        "for i in trange(n_epochs):\n",
        "    train_loss, val_loss = train_epoch(model, train_dataloader, val_dataloader, feat, label, opt)\n",
        "    log.append([train_loss, val_loss])\n",
        "plt.plot(np.array(log))\n",
        "plt.title('Loss')\n",
        "plt.legend(['train', 'val'])\n",
        "plt.show()"
      ]
    },
    {
      "cell_type": "code",
      "execution_count": null,
      "id": "9d0c16d2",
      "metadata": {
        "deletable": false,
        "editable": false,
        "nbgrader": {
          "cell_type": "code",
          "checksum": "7c5bce0504893fe5753e233815f38af4",
          "grade": true,
          "grade_id": "cell-1f31b207a4f89e8f",
          "locked": true,
          "points": 1.5,
          "schema_version": 3,
          "solution": false,
          "task": false
        },
        "id": "9d0c16d2"
      },
      "outputs": [],
      "source": [
        "logits = []\n",
        "for input_nodes, output_nodes, mfgs in test_dataloader:\n",
        "    with torch.no_grad():\n",
        "        logits.append(model(mfgs, feat[input_nodes]))\n",
        "logits = torch.cat(logits)\n",
        "y_pred = torch.argmax(logits, 1)\n",
        "score = balanced_accuracy_score(label[test_mask], y_pred)\n",
        "assert score > 0.7\n",
        "print(f'Balanced accuracy: {score:.2f}')"
      ]
    },
    {
      "cell_type": "markdown",
      "id": "a34b61ca",
      "metadata": {
        "id": "a34b61ca"
      },
      "source": [
        "### References"
      ]
    },
    {
      "cell_type": "markdown",
      "id": "3073b8e0",
      "metadata": {
        "id": "3073b8e0"
      },
      "source": [
        "<a id='references'></a>\n",
        "\n",
        "[1] Kipf, T. N., & Welling, M. (2016). Semi-Supervised Classification with Graph Convolutional Networks. CoRR, abs/1609.02907. http://arxiv.org/abs/1609.02907\n",
        "\n",
        "[2] Gilmer, J., Schoenholz, S. S., Riley, P. F., Vinyals, O., & Dahl, G. E. (2017). Neural Message Passing for Quantum Chemistry. CoRR, abs/1704.01212. http://arxiv.org/abs/1704.01212\n",
        "\n",
        "[3] Kipf, T. N., & Welling, M. (2016). Variational Graph Auto-Encoders. arXiv. https://doi.org/10.48550/ARXIV.1611.07308\n",
        "\n",
        "[4] Simonovsky, M., & Komodakis, N. (2018). GraphVAE: Towards Generation of Small Graphs Using Variational Autoencoders. CoRR, abs/1802.03480. http://arxiv.org/abs/1802.03480\n",
        "\n",
        "[5] Veličković, P., Cucurull, G., Casanova, A., Romero, A., Liò, P., & Bengio, Y. (2017). Graph Attention Networks. arXiv. https://doi.org/10.48550/ARXIV.1710.10903\n",
        "\n",
        "[6] Vaswani, A., Shazeer, N., Parmar, N., Uszkoreit, J., Jones, L., Gomez, A. N., Kaiser, L., & Polosukhin, I. (2017). Attention Is All You Need. CoRR, abs/1706.03762. http://arxiv.org/abs/1706.03762\n",
        "\n",
        "[7] Hamilton, W. L., Ying, R., & Leskovec, J. (2017). Inductive Representation Learning on Large Graphs. CoRR, abs/1706.02216. http://arxiv.org/abs/1706.02216"
      ]
    },
    {
      "cell_type": "code",
      "execution_count": null,
      "id": "12f86f8a",
      "metadata": {
        "id": "12f86f8a"
      },
      "outputs": [],
      "source": []
    }
  ],
  "metadata": {
    "kernelspec": {
      "display_name": "Python 3 (ipykernel)",
      "language": "python",
      "name": "python3"
    },
    "language_info": {
      "codemirror_mode": {
        "name": "ipython",
        "version": 3
      },
      "file_extension": ".py",
      "mimetype": "text/x-python",
      "name": "python",
      "nbconvert_exporter": "python",
      "pygments_lexer": "ipython3",
      "version": "3.10.9"
    },
    "colab": {
      "provenance": [],
      "gpuType": "T4"
    },
    "accelerator": "GPU",
    "gpuClass": "standard",
    "widgets": {
      "application/vnd.jupyter.widget-state+json": {
        "ff54cd40f38a4ccebc93cb2b0951145e": {
          "model_module": "@jupyter-widgets/controls",
          "model_name": "HBoxModel",
          "model_module_version": "1.5.0",
          "state": {
            "_dom_classes": [],
            "_model_module": "@jupyter-widgets/controls",
            "_model_module_version": "1.5.0",
            "_model_name": "HBoxModel",
            "_view_count": null,
            "_view_module": "@jupyter-widgets/controls",
            "_view_module_version": "1.5.0",
            "_view_name": "HBoxView",
            "box_style": "",
            "children": [
              "IPY_MODEL_654a8dd5dc6646f89ddb7bc627211a94",
              "IPY_MODEL_2832418091b644cd90d28422d9c216b2",
              "IPY_MODEL_9f16b89d70fd4fb9a7d8e8d74aa51134"
            ],
            "layout": "IPY_MODEL_cb441771c0394f1dbdab19d7b1f279a1"
          }
        },
        "654a8dd5dc6646f89ddb7bc627211a94": {
          "model_module": "@jupyter-widgets/controls",
          "model_name": "HTMLModel",
          "model_module_version": "1.5.0",
          "state": {
            "_dom_classes": [],
            "_model_module": "@jupyter-widgets/controls",
            "_model_module_version": "1.5.0",
            "_model_name": "HTMLModel",
            "_view_count": null,
            "_view_module": "@jupyter-widgets/controls",
            "_view_module_version": "1.5.0",
            "_view_name": "HTMLView",
            "description": "",
            "description_tooltip": null,
            "layout": "IPY_MODEL_a5aeffcb8c974294957d2b648fd39764",
            "placeholder": "​",
            "style": "IPY_MODEL_6b31be800f154a4b808458d8e4ffb2e4",
            "value": "100%"
          }
        },
        "2832418091b644cd90d28422d9c216b2": {
          "model_module": "@jupyter-widgets/controls",
          "model_name": "FloatProgressModel",
          "model_module_version": "1.5.0",
          "state": {
            "_dom_classes": [],
            "_model_module": "@jupyter-widgets/controls",
            "_model_module_version": "1.5.0",
            "_model_name": "FloatProgressModel",
            "_view_count": null,
            "_view_module": "@jupyter-widgets/controls",
            "_view_module_version": "1.5.0",
            "_view_name": "ProgressView",
            "bar_style": "success",
            "description": "",
            "description_tooltip": null,
            "layout": "IPY_MODEL_1137331067224beeb12652dbe7be34fe",
            "max": 200,
            "min": 0,
            "orientation": "horizontal",
            "style": "IPY_MODEL_c457b8db6c384ee2ad72a0bd6d6c96e6",
            "value": 200
          }
        },
        "9f16b89d70fd4fb9a7d8e8d74aa51134": {
          "model_module": "@jupyter-widgets/controls",
          "model_name": "HTMLModel",
          "model_module_version": "1.5.0",
          "state": {
            "_dom_classes": [],
            "_model_module": "@jupyter-widgets/controls",
            "_model_module_version": "1.5.0",
            "_model_name": "HTMLModel",
            "_view_count": null,
            "_view_module": "@jupyter-widgets/controls",
            "_view_module_version": "1.5.0",
            "_view_name": "HTMLView",
            "description": "",
            "description_tooltip": null,
            "layout": "IPY_MODEL_0f112e70b92e43a9a955f49345e34264",
            "placeholder": "​",
            "style": "IPY_MODEL_e1a130c38f9b4e8e8ad201df67383e23",
            "value": " 200/200 [06:02&lt;00:00,  1.62s/it]"
          }
        },
        "cb441771c0394f1dbdab19d7b1f279a1": {
          "model_module": "@jupyter-widgets/base",
          "model_name": "LayoutModel",
          "model_module_version": "1.2.0",
          "state": {
            "_model_module": "@jupyter-widgets/base",
            "_model_module_version": "1.2.0",
            "_model_name": "LayoutModel",
            "_view_count": null,
            "_view_module": "@jupyter-widgets/base",
            "_view_module_version": "1.2.0",
            "_view_name": "LayoutView",
            "align_content": null,
            "align_items": null,
            "align_self": null,
            "border": null,
            "bottom": null,
            "display": null,
            "flex": null,
            "flex_flow": null,
            "grid_area": null,
            "grid_auto_columns": null,
            "grid_auto_flow": null,
            "grid_auto_rows": null,
            "grid_column": null,
            "grid_gap": null,
            "grid_row": null,
            "grid_template_areas": null,
            "grid_template_columns": null,
            "grid_template_rows": null,
            "height": null,
            "justify_content": null,
            "justify_items": null,
            "left": null,
            "margin": null,
            "max_height": null,
            "max_width": null,
            "min_height": null,
            "min_width": null,
            "object_fit": null,
            "object_position": null,
            "order": null,
            "overflow": null,
            "overflow_x": null,
            "overflow_y": null,
            "padding": null,
            "right": null,
            "top": null,
            "visibility": null,
            "width": null
          }
        },
        "a5aeffcb8c974294957d2b648fd39764": {
          "model_module": "@jupyter-widgets/base",
          "model_name": "LayoutModel",
          "model_module_version": "1.2.0",
          "state": {
            "_model_module": "@jupyter-widgets/base",
            "_model_module_version": "1.2.0",
            "_model_name": "LayoutModel",
            "_view_count": null,
            "_view_module": "@jupyter-widgets/base",
            "_view_module_version": "1.2.0",
            "_view_name": "LayoutView",
            "align_content": null,
            "align_items": null,
            "align_self": null,
            "border": null,
            "bottom": null,
            "display": null,
            "flex": null,
            "flex_flow": null,
            "grid_area": null,
            "grid_auto_columns": null,
            "grid_auto_flow": null,
            "grid_auto_rows": null,
            "grid_column": null,
            "grid_gap": null,
            "grid_row": null,
            "grid_template_areas": null,
            "grid_template_columns": null,
            "grid_template_rows": null,
            "height": null,
            "justify_content": null,
            "justify_items": null,
            "left": null,
            "margin": null,
            "max_height": null,
            "max_width": null,
            "min_height": null,
            "min_width": null,
            "object_fit": null,
            "object_position": null,
            "order": null,
            "overflow": null,
            "overflow_x": null,
            "overflow_y": null,
            "padding": null,
            "right": null,
            "top": null,
            "visibility": null,
            "width": null
          }
        },
        "6b31be800f154a4b808458d8e4ffb2e4": {
          "model_module": "@jupyter-widgets/controls",
          "model_name": "DescriptionStyleModel",
          "model_module_version": "1.5.0",
          "state": {
            "_model_module": "@jupyter-widgets/controls",
            "_model_module_version": "1.5.0",
            "_model_name": "DescriptionStyleModel",
            "_view_count": null,
            "_view_module": "@jupyter-widgets/base",
            "_view_module_version": "1.2.0",
            "_view_name": "StyleView",
            "description_width": ""
          }
        },
        "1137331067224beeb12652dbe7be34fe": {
          "model_module": "@jupyter-widgets/base",
          "model_name": "LayoutModel",
          "model_module_version": "1.2.0",
          "state": {
            "_model_module": "@jupyter-widgets/base",
            "_model_module_version": "1.2.0",
            "_model_name": "LayoutModel",
            "_view_count": null,
            "_view_module": "@jupyter-widgets/base",
            "_view_module_version": "1.2.0",
            "_view_name": "LayoutView",
            "align_content": null,
            "align_items": null,
            "align_self": null,
            "border": null,
            "bottom": null,
            "display": null,
            "flex": null,
            "flex_flow": null,
            "grid_area": null,
            "grid_auto_columns": null,
            "grid_auto_flow": null,
            "grid_auto_rows": null,
            "grid_column": null,
            "grid_gap": null,
            "grid_row": null,
            "grid_template_areas": null,
            "grid_template_columns": null,
            "grid_template_rows": null,
            "height": null,
            "justify_content": null,
            "justify_items": null,
            "left": null,
            "margin": null,
            "max_height": null,
            "max_width": null,
            "min_height": null,
            "min_width": null,
            "object_fit": null,
            "object_position": null,
            "order": null,
            "overflow": null,
            "overflow_x": null,
            "overflow_y": null,
            "padding": null,
            "right": null,
            "top": null,
            "visibility": null,
            "width": null
          }
        },
        "c457b8db6c384ee2ad72a0bd6d6c96e6": {
          "model_module": "@jupyter-widgets/controls",
          "model_name": "ProgressStyleModel",
          "model_module_version": "1.5.0",
          "state": {
            "_model_module": "@jupyter-widgets/controls",
            "_model_module_version": "1.5.0",
            "_model_name": "ProgressStyleModel",
            "_view_count": null,
            "_view_module": "@jupyter-widgets/base",
            "_view_module_version": "1.2.0",
            "_view_name": "StyleView",
            "bar_color": null,
            "description_width": ""
          }
        },
        "0f112e70b92e43a9a955f49345e34264": {
          "model_module": "@jupyter-widgets/base",
          "model_name": "LayoutModel",
          "model_module_version": "1.2.0",
          "state": {
            "_model_module": "@jupyter-widgets/base",
            "_model_module_version": "1.2.0",
            "_model_name": "LayoutModel",
            "_view_count": null,
            "_view_module": "@jupyter-widgets/base",
            "_view_module_version": "1.2.0",
            "_view_name": "LayoutView",
            "align_content": null,
            "align_items": null,
            "align_self": null,
            "border": null,
            "bottom": null,
            "display": null,
            "flex": null,
            "flex_flow": null,
            "grid_area": null,
            "grid_auto_columns": null,
            "grid_auto_flow": null,
            "grid_auto_rows": null,
            "grid_column": null,
            "grid_gap": null,
            "grid_row": null,
            "grid_template_areas": null,
            "grid_template_columns": null,
            "grid_template_rows": null,
            "height": null,
            "justify_content": null,
            "justify_items": null,
            "left": null,
            "margin": null,
            "max_height": null,
            "max_width": null,
            "min_height": null,
            "min_width": null,
            "object_fit": null,
            "object_position": null,
            "order": null,
            "overflow": null,
            "overflow_x": null,
            "overflow_y": null,
            "padding": null,
            "right": null,
            "top": null,
            "visibility": null,
            "width": null
          }
        },
        "e1a130c38f9b4e8e8ad201df67383e23": {
          "model_module": "@jupyter-widgets/controls",
          "model_name": "DescriptionStyleModel",
          "model_module_version": "1.5.0",
          "state": {
            "_model_module": "@jupyter-widgets/controls",
            "_model_module_version": "1.5.0",
            "_model_name": "DescriptionStyleModel",
            "_view_count": null,
            "_view_module": "@jupyter-widgets/base",
            "_view_module_version": "1.2.0",
            "_view_name": "StyleView",
            "description_width": ""
          }
        },
        "344b755a17ee44968d622bbf4c12216b": {
          "model_module": "@jupyter-widgets/controls",
          "model_name": "HBoxModel",
          "model_module_version": "1.5.0",
          "state": {
            "_dom_classes": [],
            "_model_module": "@jupyter-widgets/controls",
            "_model_module_version": "1.5.0",
            "_model_name": "HBoxModel",
            "_view_count": null,
            "_view_module": "@jupyter-widgets/controls",
            "_view_module_version": "1.5.0",
            "_view_name": "HBoxView",
            "box_style": "",
            "children": [
              "IPY_MODEL_f3ba7c3a145b48ecadf27f90ff347340",
              "IPY_MODEL_89507e37bc244604a90b83b24b4c0e3f",
              "IPY_MODEL_0ea443ff49344c9d95be105014afd01b"
            ],
            "layout": "IPY_MODEL_ce0296a320f34b32a3641d21a14d899d"
          }
        },
        "f3ba7c3a145b48ecadf27f90ff347340": {
          "model_module": "@jupyter-widgets/controls",
          "model_name": "HTMLModel",
          "model_module_version": "1.5.0",
          "state": {
            "_dom_classes": [],
            "_model_module": "@jupyter-widgets/controls",
            "_model_module_version": "1.5.0",
            "_model_name": "HTMLModel",
            "_view_count": null,
            "_view_module": "@jupyter-widgets/controls",
            "_view_module_version": "1.5.0",
            "_view_name": "HTMLView",
            "description": "",
            "description_tooltip": null,
            "layout": "IPY_MODEL_3ebd3a74153d4676835a2c4167a72044",
            "placeholder": "​",
            "style": "IPY_MODEL_0e7ac5cfdd81420eaf4b48152fb91e39",
            "value": "100%"
          }
        },
        "89507e37bc244604a90b83b24b4c0e3f": {
          "model_module": "@jupyter-widgets/controls",
          "model_name": "FloatProgressModel",
          "model_module_version": "1.5.0",
          "state": {
            "_dom_classes": [],
            "_model_module": "@jupyter-widgets/controls",
            "_model_module_version": "1.5.0",
            "_model_name": "FloatProgressModel",
            "_view_count": null,
            "_view_module": "@jupyter-widgets/controls",
            "_view_module_version": "1.5.0",
            "_view_name": "ProgressView",
            "bar_style": "success",
            "description": "",
            "description_tooltip": null,
            "layout": "IPY_MODEL_baca4399265643b2a1b98c2e0f572e95",
            "max": 200,
            "min": 0,
            "orientation": "horizontal",
            "style": "IPY_MODEL_230ea4a677a94d37a37120d3cf6d9302",
            "value": 200
          }
        },
        "0ea443ff49344c9d95be105014afd01b": {
          "model_module": "@jupyter-widgets/controls",
          "model_name": "HTMLModel",
          "model_module_version": "1.5.0",
          "state": {
            "_dom_classes": [],
            "_model_module": "@jupyter-widgets/controls",
            "_model_module_version": "1.5.0",
            "_model_name": "HTMLModel",
            "_view_count": null,
            "_view_module": "@jupyter-widgets/controls",
            "_view_module_version": "1.5.0",
            "_view_name": "HTMLView",
            "description": "",
            "description_tooltip": null,
            "layout": "IPY_MODEL_c67f09c1ab194d1798f72c48bae91f1a",
            "placeholder": "​",
            "style": "IPY_MODEL_d96cbacae3094a61b2d29cbc242a528d",
            "value": " 200/200 [00:04&lt;00:00, 67.09it/s]"
          }
        },
        "ce0296a320f34b32a3641d21a14d899d": {
          "model_module": "@jupyter-widgets/base",
          "model_name": "LayoutModel",
          "model_module_version": "1.2.0",
          "state": {
            "_model_module": "@jupyter-widgets/base",
            "_model_module_version": "1.2.0",
            "_model_name": "LayoutModel",
            "_view_count": null,
            "_view_module": "@jupyter-widgets/base",
            "_view_module_version": "1.2.0",
            "_view_name": "LayoutView",
            "align_content": null,
            "align_items": null,
            "align_self": null,
            "border": null,
            "bottom": null,
            "display": null,
            "flex": null,
            "flex_flow": null,
            "grid_area": null,
            "grid_auto_columns": null,
            "grid_auto_flow": null,
            "grid_auto_rows": null,
            "grid_column": null,
            "grid_gap": null,
            "grid_row": null,
            "grid_template_areas": null,
            "grid_template_columns": null,
            "grid_template_rows": null,
            "height": null,
            "justify_content": null,
            "justify_items": null,
            "left": null,
            "margin": null,
            "max_height": null,
            "max_width": null,
            "min_height": null,
            "min_width": null,
            "object_fit": null,
            "object_position": null,
            "order": null,
            "overflow": null,
            "overflow_x": null,
            "overflow_y": null,
            "padding": null,
            "right": null,
            "top": null,
            "visibility": null,
            "width": null
          }
        },
        "3ebd3a74153d4676835a2c4167a72044": {
          "model_module": "@jupyter-widgets/base",
          "model_name": "LayoutModel",
          "model_module_version": "1.2.0",
          "state": {
            "_model_module": "@jupyter-widgets/base",
            "_model_module_version": "1.2.0",
            "_model_name": "LayoutModel",
            "_view_count": null,
            "_view_module": "@jupyter-widgets/base",
            "_view_module_version": "1.2.0",
            "_view_name": "LayoutView",
            "align_content": null,
            "align_items": null,
            "align_self": null,
            "border": null,
            "bottom": null,
            "display": null,
            "flex": null,
            "flex_flow": null,
            "grid_area": null,
            "grid_auto_columns": null,
            "grid_auto_flow": null,
            "grid_auto_rows": null,
            "grid_column": null,
            "grid_gap": null,
            "grid_row": null,
            "grid_template_areas": null,
            "grid_template_columns": null,
            "grid_template_rows": null,
            "height": null,
            "justify_content": null,
            "justify_items": null,
            "left": null,
            "margin": null,
            "max_height": null,
            "max_width": null,
            "min_height": null,
            "min_width": null,
            "object_fit": null,
            "object_position": null,
            "order": null,
            "overflow": null,
            "overflow_x": null,
            "overflow_y": null,
            "padding": null,
            "right": null,
            "top": null,
            "visibility": null,
            "width": null
          }
        },
        "0e7ac5cfdd81420eaf4b48152fb91e39": {
          "model_module": "@jupyter-widgets/controls",
          "model_name": "DescriptionStyleModel",
          "model_module_version": "1.5.0",
          "state": {
            "_model_module": "@jupyter-widgets/controls",
            "_model_module_version": "1.5.0",
            "_model_name": "DescriptionStyleModel",
            "_view_count": null,
            "_view_module": "@jupyter-widgets/base",
            "_view_module_version": "1.2.0",
            "_view_name": "StyleView",
            "description_width": ""
          }
        },
        "baca4399265643b2a1b98c2e0f572e95": {
          "model_module": "@jupyter-widgets/base",
          "model_name": "LayoutModel",
          "model_module_version": "1.2.0",
          "state": {
            "_model_module": "@jupyter-widgets/base",
            "_model_module_version": "1.2.0",
            "_model_name": "LayoutModel",
            "_view_count": null,
            "_view_module": "@jupyter-widgets/base",
            "_view_module_version": "1.2.0",
            "_view_name": "LayoutView",
            "align_content": null,
            "align_items": null,
            "align_self": null,
            "border": null,
            "bottom": null,
            "display": null,
            "flex": null,
            "flex_flow": null,
            "grid_area": null,
            "grid_auto_columns": null,
            "grid_auto_flow": null,
            "grid_auto_rows": null,
            "grid_column": null,
            "grid_gap": null,
            "grid_row": null,
            "grid_template_areas": null,
            "grid_template_columns": null,
            "grid_template_rows": null,
            "height": null,
            "justify_content": null,
            "justify_items": null,
            "left": null,
            "margin": null,
            "max_height": null,
            "max_width": null,
            "min_height": null,
            "min_width": null,
            "object_fit": null,
            "object_position": null,
            "order": null,
            "overflow": null,
            "overflow_x": null,
            "overflow_y": null,
            "padding": null,
            "right": null,
            "top": null,
            "visibility": null,
            "width": null
          }
        },
        "230ea4a677a94d37a37120d3cf6d9302": {
          "model_module": "@jupyter-widgets/controls",
          "model_name": "ProgressStyleModel",
          "model_module_version": "1.5.0",
          "state": {
            "_model_module": "@jupyter-widgets/controls",
            "_model_module_version": "1.5.0",
            "_model_name": "ProgressStyleModel",
            "_view_count": null,
            "_view_module": "@jupyter-widgets/base",
            "_view_module_version": "1.2.0",
            "_view_name": "StyleView",
            "bar_color": null,
            "description_width": ""
          }
        },
        "c67f09c1ab194d1798f72c48bae91f1a": {
          "model_module": "@jupyter-widgets/base",
          "model_name": "LayoutModel",
          "model_module_version": "1.2.0",
          "state": {
            "_model_module": "@jupyter-widgets/base",
            "_model_module_version": "1.2.0",
            "_model_name": "LayoutModel",
            "_view_count": null,
            "_view_module": "@jupyter-widgets/base",
            "_view_module_version": "1.2.0",
            "_view_name": "LayoutView",
            "align_content": null,
            "align_items": null,
            "align_self": null,
            "border": null,
            "bottom": null,
            "display": null,
            "flex": null,
            "flex_flow": null,
            "grid_area": null,
            "grid_auto_columns": null,
            "grid_auto_flow": null,
            "grid_auto_rows": null,
            "grid_column": null,
            "grid_gap": null,
            "grid_row": null,
            "grid_template_areas": null,
            "grid_template_columns": null,
            "grid_template_rows": null,
            "height": null,
            "justify_content": null,
            "justify_items": null,
            "left": null,
            "margin": null,
            "max_height": null,
            "max_width": null,
            "min_height": null,
            "min_width": null,
            "object_fit": null,
            "object_position": null,
            "order": null,
            "overflow": null,
            "overflow_x": null,
            "overflow_y": null,
            "padding": null,
            "right": null,
            "top": null,
            "visibility": null,
            "width": null
          }
        },
        "d96cbacae3094a61b2d29cbc242a528d": {
          "model_module": "@jupyter-widgets/controls",
          "model_name": "DescriptionStyleModel",
          "model_module_version": "1.5.0",
          "state": {
            "_model_module": "@jupyter-widgets/controls",
            "_model_module_version": "1.5.0",
            "_model_name": "DescriptionStyleModel",
            "_view_count": null,
            "_view_module": "@jupyter-widgets/base",
            "_view_module_version": "1.2.0",
            "_view_name": "StyleView",
            "description_width": ""
          }
        },
        "9e361b1dfb494bbd96a15cad9f0a3794": {
          "model_module": "@jupyter-widgets/controls",
          "model_name": "HBoxModel",
          "model_module_version": "1.5.0",
          "state": {
            "_dom_classes": [],
            "_model_module": "@jupyter-widgets/controls",
            "_model_module_version": "1.5.0",
            "_model_name": "HBoxModel",
            "_view_count": null,
            "_view_module": "@jupyter-widgets/controls",
            "_view_module_version": "1.5.0",
            "_view_name": "HBoxView",
            "box_style": "",
            "children": [
              "IPY_MODEL_0dd472dc201f4e0787cd8ff2fd68f35a",
              "IPY_MODEL_1a182094f58c496e8336772c9ddcc1fb",
              "IPY_MODEL_1fdd44486cdb4adba795003783b56795"
            ],
            "layout": "IPY_MODEL_e6d7cbc2bb424bde9521ec8fe0e76137"
          }
        },
        "0dd472dc201f4e0787cd8ff2fd68f35a": {
          "model_module": "@jupyter-widgets/controls",
          "model_name": "HTMLModel",
          "model_module_version": "1.5.0",
          "state": {
            "_dom_classes": [],
            "_model_module": "@jupyter-widgets/controls",
            "_model_module_version": "1.5.0",
            "_model_name": "HTMLModel",
            "_view_count": null,
            "_view_module": "@jupyter-widgets/controls",
            "_view_module_version": "1.5.0",
            "_view_name": "HTMLView",
            "description": "",
            "description_tooltip": null,
            "layout": "IPY_MODEL_c5cca011796444a1b4eb3a421a593dec",
            "placeholder": "​",
            "style": "IPY_MODEL_3813354b0141415a8d723007ec2294db",
            "value": "100%"
          }
        },
        "1a182094f58c496e8336772c9ddcc1fb": {
          "model_module": "@jupyter-widgets/controls",
          "model_name": "FloatProgressModel",
          "model_module_version": "1.5.0",
          "state": {
            "_dom_classes": [],
            "_model_module": "@jupyter-widgets/controls",
            "_model_module_version": "1.5.0",
            "_model_name": "FloatProgressModel",
            "_view_count": null,
            "_view_module": "@jupyter-widgets/controls",
            "_view_module_version": "1.5.0",
            "_view_name": "ProgressView",
            "bar_style": "success",
            "description": "",
            "description_tooltip": null,
            "layout": "IPY_MODEL_c231677a3693473f9b2da5f207bf9cb6",
            "max": 400,
            "min": 0,
            "orientation": "horizontal",
            "style": "IPY_MODEL_08bbdf25b0194fc79a08067776bc15c9",
            "value": 400
          }
        },
        "1fdd44486cdb4adba795003783b56795": {
          "model_module": "@jupyter-widgets/controls",
          "model_name": "HTMLModel",
          "model_module_version": "1.5.0",
          "state": {
            "_dom_classes": [],
            "_model_module": "@jupyter-widgets/controls",
            "_model_module_version": "1.5.0",
            "_model_name": "HTMLModel",
            "_view_count": null,
            "_view_module": "@jupyter-widgets/controls",
            "_view_module_version": "1.5.0",
            "_view_name": "HTMLView",
            "description": "",
            "description_tooltip": null,
            "layout": "IPY_MODEL_e8627f50d2884c9c8abde07bf156d01b",
            "placeholder": "​",
            "style": "IPY_MODEL_c92ad77e2c4e4feaaad4c4fc1c50dbac",
            "value": " 400/400 [01:15&lt;00:00,  5.89it/s]"
          }
        },
        "e6d7cbc2bb424bde9521ec8fe0e76137": {
          "model_module": "@jupyter-widgets/base",
          "model_name": "LayoutModel",
          "model_module_version": "1.2.0",
          "state": {
            "_model_module": "@jupyter-widgets/base",
            "_model_module_version": "1.2.0",
            "_model_name": "LayoutModel",
            "_view_count": null,
            "_view_module": "@jupyter-widgets/base",
            "_view_module_version": "1.2.0",
            "_view_name": "LayoutView",
            "align_content": null,
            "align_items": null,
            "align_self": null,
            "border": null,
            "bottom": null,
            "display": null,
            "flex": null,
            "flex_flow": null,
            "grid_area": null,
            "grid_auto_columns": null,
            "grid_auto_flow": null,
            "grid_auto_rows": null,
            "grid_column": null,
            "grid_gap": null,
            "grid_row": null,
            "grid_template_areas": null,
            "grid_template_columns": null,
            "grid_template_rows": null,
            "height": null,
            "justify_content": null,
            "justify_items": null,
            "left": null,
            "margin": null,
            "max_height": null,
            "max_width": null,
            "min_height": null,
            "min_width": null,
            "object_fit": null,
            "object_position": null,
            "order": null,
            "overflow": null,
            "overflow_x": null,
            "overflow_y": null,
            "padding": null,
            "right": null,
            "top": null,
            "visibility": null,
            "width": null
          }
        },
        "c5cca011796444a1b4eb3a421a593dec": {
          "model_module": "@jupyter-widgets/base",
          "model_name": "LayoutModel",
          "model_module_version": "1.2.0",
          "state": {
            "_model_module": "@jupyter-widgets/base",
            "_model_module_version": "1.2.0",
            "_model_name": "LayoutModel",
            "_view_count": null,
            "_view_module": "@jupyter-widgets/base",
            "_view_module_version": "1.2.0",
            "_view_name": "LayoutView",
            "align_content": null,
            "align_items": null,
            "align_self": null,
            "border": null,
            "bottom": null,
            "display": null,
            "flex": null,
            "flex_flow": null,
            "grid_area": null,
            "grid_auto_columns": null,
            "grid_auto_flow": null,
            "grid_auto_rows": null,
            "grid_column": null,
            "grid_gap": null,
            "grid_row": null,
            "grid_template_areas": null,
            "grid_template_columns": null,
            "grid_template_rows": null,
            "height": null,
            "justify_content": null,
            "justify_items": null,
            "left": null,
            "margin": null,
            "max_height": null,
            "max_width": null,
            "min_height": null,
            "min_width": null,
            "object_fit": null,
            "object_position": null,
            "order": null,
            "overflow": null,
            "overflow_x": null,
            "overflow_y": null,
            "padding": null,
            "right": null,
            "top": null,
            "visibility": null,
            "width": null
          }
        },
        "3813354b0141415a8d723007ec2294db": {
          "model_module": "@jupyter-widgets/controls",
          "model_name": "DescriptionStyleModel",
          "model_module_version": "1.5.0",
          "state": {
            "_model_module": "@jupyter-widgets/controls",
            "_model_module_version": "1.5.0",
            "_model_name": "DescriptionStyleModel",
            "_view_count": null,
            "_view_module": "@jupyter-widgets/base",
            "_view_module_version": "1.2.0",
            "_view_name": "StyleView",
            "description_width": ""
          }
        },
        "c231677a3693473f9b2da5f207bf9cb6": {
          "model_module": "@jupyter-widgets/base",
          "model_name": "LayoutModel",
          "model_module_version": "1.2.0",
          "state": {
            "_model_module": "@jupyter-widgets/base",
            "_model_module_version": "1.2.0",
            "_model_name": "LayoutModel",
            "_view_count": null,
            "_view_module": "@jupyter-widgets/base",
            "_view_module_version": "1.2.0",
            "_view_name": "LayoutView",
            "align_content": null,
            "align_items": null,
            "align_self": null,
            "border": null,
            "bottom": null,
            "display": null,
            "flex": null,
            "flex_flow": null,
            "grid_area": null,
            "grid_auto_columns": null,
            "grid_auto_flow": null,
            "grid_auto_rows": null,
            "grid_column": null,
            "grid_gap": null,
            "grid_row": null,
            "grid_template_areas": null,
            "grid_template_columns": null,
            "grid_template_rows": null,
            "height": null,
            "justify_content": null,
            "justify_items": null,
            "left": null,
            "margin": null,
            "max_height": null,
            "max_width": null,
            "min_height": null,
            "min_width": null,
            "object_fit": null,
            "object_position": null,
            "order": null,
            "overflow": null,
            "overflow_x": null,
            "overflow_y": null,
            "padding": null,
            "right": null,
            "top": null,
            "visibility": null,
            "width": null
          }
        },
        "08bbdf25b0194fc79a08067776bc15c9": {
          "model_module": "@jupyter-widgets/controls",
          "model_name": "ProgressStyleModel",
          "model_module_version": "1.5.0",
          "state": {
            "_model_module": "@jupyter-widgets/controls",
            "_model_module_version": "1.5.0",
            "_model_name": "ProgressStyleModel",
            "_view_count": null,
            "_view_module": "@jupyter-widgets/base",
            "_view_module_version": "1.2.0",
            "_view_name": "StyleView",
            "bar_color": null,
            "description_width": ""
          }
        },
        "e8627f50d2884c9c8abde07bf156d01b": {
          "model_module": "@jupyter-widgets/base",
          "model_name": "LayoutModel",
          "model_module_version": "1.2.0",
          "state": {
            "_model_module": "@jupyter-widgets/base",
            "_model_module_version": "1.2.0",
            "_model_name": "LayoutModel",
            "_view_count": null,
            "_view_module": "@jupyter-widgets/base",
            "_view_module_version": "1.2.0",
            "_view_name": "LayoutView",
            "align_content": null,
            "align_items": null,
            "align_self": null,
            "border": null,
            "bottom": null,
            "display": null,
            "flex": null,
            "flex_flow": null,
            "grid_area": null,
            "grid_auto_columns": null,
            "grid_auto_flow": null,
            "grid_auto_rows": null,
            "grid_column": null,
            "grid_gap": null,
            "grid_row": null,
            "grid_template_areas": null,
            "grid_template_columns": null,
            "grid_template_rows": null,
            "height": null,
            "justify_content": null,
            "justify_items": null,
            "left": null,
            "margin": null,
            "max_height": null,
            "max_width": null,
            "min_height": null,
            "min_width": null,
            "object_fit": null,
            "object_position": null,
            "order": null,
            "overflow": null,
            "overflow_x": null,
            "overflow_y": null,
            "padding": null,
            "right": null,
            "top": null,
            "visibility": null,
            "width": null
          }
        },
        "c92ad77e2c4e4feaaad4c4fc1c50dbac": {
          "model_module": "@jupyter-widgets/controls",
          "model_name": "DescriptionStyleModel",
          "model_module_version": "1.5.0",
          "state": {
            "_model_module": "@jupyter-widgets/controls",
            "_model_module_version": "1.5.0",
            "_model_name": "DescriptionStyleModel",
            "_view_count": null,
            "_view_module": "@jupyter-widgets/base",
            "_view_module_version": "1.2.0",
            "_view_name": "StyleView",
            "description_width": ""
          }
        },
        "eeb41eafe72a474fa265f5114fbdcce6": {
          "model_module": "@jupyter-widgets/controls",
          "model_name": "HBoxModel",
          "model_module_version": "1.5.0",
          "state": {
            "_dom_classes": [],
            "_model_module": "@jupyter-widgets/controls",
            "_model_module_version": "1.5.0",
            "_model_name": "HBoxModel",
            "_view_count": null,
            "_view_module": "@jupyter-widgets/controls",
            "_view_module_version": "1.5.0",
            "_view_name": "HBoxView",
            "box_style": "",
            "children": [
              "IPY_MODEL_cb2ce1cdfceb4ad2a341dd2f1a87b1bf",
              "IPY_MODEL_4831263eae32468ab094ff04aff3b71b",
              "IPY_MODEL_f8300b8981714fd2b2f3b175c968c5f0"
            ],
            "layout": "IPY_MODEL_84e760899c1f4abb8d4ee8306ea966aa"
          }
        },
        "cb2ce1cdfceb4ad2a341dd2f1a87b1bf": {
          "model_module": "@jupyter-widgets/controls",
          "model_name": "HTMLModel",
          "model_module_version": "1.5.0",
          "state": {
            "_dom_classes": [],
            "_model_module": "@jupyter-widgets/controls",
            "_model_module_version": "1.5.0",
            "_model_name": "HTMLModel",
            "_view_count": null,
            "_view_module": "@jupyter-widgets/controls",
            "_view_module_version": "1.5.0",
            "_view_name": "HTMLView",
            "description": "",
            "description_tooltip": null,
            "layout": "IPY_MODEL_dcdce948826a4853a14d94d4b13c8fda",
            "placeholder": "​",
            "style": "IPY_MODEL_2ab8c3f88a8d451baf6eb2c97376b131",
            "value": "100%"
          }
        },
        "4831263eae32468ab094ff04aff3b71b": {
          "model_module": "@jupyter-widgets/controls",
          "model_name": "FloatProgressModel",
          "model_module_version": "1.5.0",
          "state": {
            "_dom_classes": [],
            "_model_module": "@jupyter-widgets/controls",
            "_model_module_version": "1.5.0",
            "_model_name": "FloatProgressModel",
            "_view_count": null,
            "_view_module": "@jupyter-widgets/controls",
            "_view_module_version": "1.5.0",
            "_view_name": "ProgressView",
            "bar_style": "success",
            "description": "",
            "description_tooltip": null,
            "layout": "IPY_MODEL_fc78bd40be99433c91ff4d1215527b87",
            "max": 120,
            "min": 0,
            "orientation": "horizontal",
            "style": "IPY_MODEL_9a5cecb841244e1bb408f49265618e92",
            "value": 120
          }
        },
        "f8300b8981714fd2b2f3b175c968c5f0": {
          "model_module": "@jupyter-widgets/controls",
          "model_name": "HTMLModel",
          "model_module_version": "1.5.0",
          "state": {
            "_dom_classes": [],
            "_model_module": "@jupyter-widgets/controls",
            "_model_module_version": "1.5.0",
            "_model_name": "HTMLModel",
            "_view_count": null,
            "_view_module": "@jupyter-widgets/controls",
            "_view_module_version": "1.5.0",
            "_view_name": "HTMLView",
            "description": "",
            "description_tooltip": null,
            "layout": "IPY_MODEL_c45ec93ea1814855b865565582a616d9",
            "placeholder": "​",
            "style": "IPY_MODEL_4d146de41f4341bda94ad789435e8aee",
            "value": " 120/120 [00:19&lt;00:00,  5.11it/s]"
          }
        },
        "84e760899c1f4abb8d4ee8306ea966aa": {
          "model_module": "@jupyter-widgets/base",
          "model_name": "LayoutModel",
          "model_module_version": "1.2.0",
          "state": {
            "_model_module": "@jupyter-widgets/base",
            "_model_module_version": "1.2.0",
            "_model_name": "LayoutModel",
            "_view_count": null,
            "_view_module": "@jupyter-widgets/base",
            "_view_module_version": "1.2.0",
            "_view_name": "LayoutView",
            "align_content": null,
            "align_items": null,
            "align_self": null,
            "border": null,
            "bottom": null,
            "display": null,
            "flex": null,
            "flex_flow": null,
            "grid_area": null,
            "grid_auto_columns": null,
            "grid_auto_flow": null,
            "grid_auto_rows": null,
            "grid_column": null,
            "grid_gap": null,
            "grid_row": null,
            "grid_template_areas": null,
            "grid_template_columns": null,
            "grid_template_rows": null,
            "height": null,
            "justify_content": null,
            "justify_items": null,
            "left": null,
            "margin": null,
            "max_height": null,
            "max_width": null,
            "min_height": null,
            "min_width": null,
            "object_fit": null,
            "object_position": null,
            "order": null,
            "overflow": null,
            "overflow_x": null,
            "overflow_y": null,
            "padding": null,
            "right": null,
            "top": null,
            "visibility": null,
            "width": null
          }
        },
        "dcdce948826a4853a14d94d4b13c8fda": {
          "model_module": "@jupyter-widgets/base",
          "model_name": "LayoutModel",
          "model_module_version": "1.2.0",
          "state": {
            "_model_module": "@jupyter-widgets/base",
            "_model_module_version": "1.2.0",
            "_model_name": "LayoutModel",
            "_view_count": null,
            "_view_module": "@jupyter-widgets/base",
            "_view_module_version": "1.2.0",
            "_view_name": "LayoutView",
            "align_content": null,
            "align_items": null,
            "align_self": null,
            "border": null,
            "bottom": null,
            "display": null,
            "flex": null,
            "flex_flow": null,
            "grid_area": null,
            "grid_auto_columns": null,
            "grid_auto_flow": null,
            "grid_auto_rows": null,
            "grid_column": null,
            "grid_gap": null,
            "grid_row": null,
            "grid_template_areas": null,
            "grid_template_columns": null,
            "grid_template_rows": null,
            "height": null,
            "justify_content": null,
            "justify_items": null,
            "left": null,
            "margin": null,
            "max_height": null,
            "max_width": null,
            "min_height": null,
            "min_width": null,
            "object_fit": null,
            "object_position": null,
            "order": null,
            "overflow": null,
            "overflow_x": null,
            "overflow_y": null,
            "padding": null,
            "right": null,
            "top": null,
            "visibility": null,
            "width": null
          }
        },
        "2ab8c3f88a8d451baf6eb2c97376b131": {
          "model_module": "@jupyter-widgets/controls",
          "model_name": "DescriptionStyleModel",
          "model_module_version": "1.5.0",
          "state": {
            "_model_module": "@jupyter-widgets/controls",
            "_model_module_version": "1.5.0",
            "_model_name": "DescriptionStyleModel",
            "_view_count": null,
            "_view_module": "@jupyter-widgets/base",
            "_view_module_version": "1.2.0",
            "_view_name": "StyleView",
            "description_width": ""
          }
        },
        "fc78bd40be99433c91ff4d1215527b87": {
          "model_module": "@jupyter-widgets/base",
          "model_name": "LayoutModel",
          "model_module_version": "1.2.0",
          "state": {
            "_model_module": "@jupyter-widgets/base",
            "_model_module_version": "1.2.0",
            "_model_name": "LayoutModel",
            "_view_count": null,
            "_view_module": "@jupyter-widgets/base",
            "_view_module_version": "1.2.0",
            "_view_name": "LayoutView",
            "align_content": null,
            "align_items": null,
            "align_self": null,
            "border": null,
            "bottom": null,
            "display": null,
            "flex": null,
            "flex_flow": null,
            "grid_area": null,
            "grid_auto_columns": null,
            "grid_auto_flow": null,
            "grid_auto_rows": null,
            "grid_column": null,
            "grid_gap": null,
            "grid_row": null,
            "grid_template_areas": null,
            "grid_template_columns": null,
            "grid_template_rows": null,
            "height": null,
            "justify_content": null,
            "justify_items": null,
            "left": null,
            "margin": null,
            "max_height": null,
            "max_width": null,
            "min_height": null,
            "min_width": null,
            "object_fit": null,
            "object_position": null,
            "order": null,
            "overflow": null,
            "overflow_x": null,
            "overflow_y": null,
            "padding": null,
            "right": null,
            "top": null,
            "visibility": null,
            "width": null
          }
        },
        "9a5cecb841244e1bb408f49265618e92": {
          "model_module": "@jupyter-widgets/controls",
          "model_name": "ProgressStyleModel",
          "model_module_version": "1.5.0",
          "state": {
            "_model_module": "@jupyter-widgets/controls",
            "_model_module_version": "1.5.0",
            "_model_name": "ProgressStyleModel",
            "_view_count": null,
            "_view_module": "@jupyter-widgets/base",
            "_view_module_version": "1.2.0",
            "_view_name": "StyleView",
            "bar_color": null,
            "description_width": ""
          }
        },
        "c45ec93ea1814855b865565582a616d9": {
          "model_module": "@jupyter-widgets/base",
          "model_name": "LayoutModel",
          "model_module_version": "1.2.0",
          "state": {
            "_model_module": "@jupyter-widgets/base",
            "_model_module_version": "1.2.0",
            "_model_name": "LayoutModel",
            "_view_count": null,
            "_view_module": "@jupyter-widgets/base",
            "_view_module_version": "1.2.0",
            "_view_name": "LayoutView",
            "align_content": null,
            "align_items": null,
            "align_self": null,
            "border": null,
            "bottom": null,
            "display": null,
            "flex": null,
            "flex_flow": null,
            "grid_area": null,
            "grid_auto_columns": null,
            "grid_auto_flow": null,
            "grid_auto_rows": null,
            "grid_column": null,
            "grid_gap": null,
            "grid_row": null,
            "grid_template_areas": null,
            "grid_template_columns": null,
            "grid_template_rows": null,
            "height": null,
            "justify_content": null,
            "justify_items": null,
            "left": null,
            "margin": null,
            "max_height": null,
            "max_width": null,
            "min_height": null,
            "min_width": null,
            "object_fit": null,
            "object_position": null,
            "order": null,
            "overflow": null,
            "overflow_x": null,
            "overflow_y": null,
            "padding": null,
            "right": null,
            "top": null,
            "visibility": null,
            "width": null
          }
        },
        "4d146de41f4341bda94ad789435e8aee": {
          "model_module": "@jupyter-widgets/controls",
          "model_name": "DescriptionStyleModel",
          "model_module_version": "1.5.0",
          "state": {
            "_model_module": "@jupyter-widgets/controls",
            "_model_module_version": "1.5.0",
            "_model_name": "DescriptionStyleModel",
            "_view_count": null,
            "_view_module": "@jupyter-widgets/base",
            "_view_module_version": "1.2.0",
            "_view_name": "StyleView",
            "description_width": ""
          }
        },
        "24698bab47354cffaaf57a66f242514b": {
          "model_module": "@jupyter-widgets/controls",
          "model_name": "HBoxModel",
          "model_module_version": "1.5.0",
          "state": {
            "_dom_classes": [],
            "_model_module": "@jupyter-widgets/controls",
            "_model_module_version": "1.5.0",
            "_model_name": "HBoxModel",
            "_view_count": null,
            "_view_module": "@jupyter-widgets/controls",
            "_view_module_version": "1.5.0",
            "_view_name": "HBoxView",
            "box_style": "",
            "children": [
              "IPY_MODEL_f6f40c4ca6074b52b12f7ac5a22e3bb4",
              "IPY_MODEL_4f4c4f6d3b134c26acff8f55cd23c0a2",
              "IPY_MODEL_4e9d005a620045d2926b9cfe4f561ebf"
            ],
            "layout": "IPY_MODEL_ab63d8e23e8b4e57873dea6fe50f58b3"
          }
        },
        "f6f40c4ca6074b52b12f7ac5a22e3bb4": {
          "model_module": "@jupyter-widgets/controls",
          "model_name": "HTMLModel",
          "model_module_version": "1.5.0",
          "state": {
            "_dom_classes": [],
            "_model_module": "@jupyter-widgets/controls",
            "_model_module_version": "1.5.0",
            "_model_name": "HTMLModel",
            "_view_count": null,
            "_view_module": "@jupyter-widgets/controls",
            "_view_module_version": "1.5.0",
            "_view_name": "HTMLView",
            "description": "",
            "description_tooltip": null,
            "layout": "IPY_MODEL_f7eb512b19a74fc0861f186922465543",
            "placeholder": "​",
            "style": "IPY_MODEL_872bf8b3ae4c4f89934a09c04d7b69c6",
            "value": "100%"
          }
        },
        "4f4c4f6d3b134c26acff8f55cd23c0a2": {
          "model_module": "@jupyter-widgets/controls",
          "model_name": "FloatProgressModel",
          "model_module_version": "1.5.0",
          "state": {
            "_dom_classes": [],
            "_model_module": "@jupyter-widgets/controls",
            "_model_module_version": "1.5.0",
            "_model_name": "FloatProgressModel",
            "_view_count": null,
            "_view_module": "@jupyter-widgets/controls",
            "_view_module_version": "1.5.0",
            "_view_name": "ProgressView",
            "bar_style": "success",
            "description": "",
            "description_tooltip": null,
            "layout": "IPY_MODEL_0ce006c3ec2940c09f9176c6cd755aed",
            "max": 50,
            "min": 0,
            "orientation": "horizontal",
            "style": "IPY_MODEL_929336eb9bc54f018a7a92580aac911b",
            "value": 50
          }
        },
        "4e9d005a620045d2926b9cfe4f561ebf": {
          "model_module": "@jupyter-widgets/controls",
          "model_name": "HTMLModel",
          "model_module_version": "1.5.0",
          "state": {
            "_dom_classes": [],
            "_model_module": "@jupyter-widgets/controls",
            "_model_module_version": "1.5.0",
            "_model_name": "HTMLModel",
            "_view_count": null,
            "_view_module": "@jupyter-widgets/controls",
            "_view_module_version": "1.5.0",
            "_view_name": "HTMLView",
            "description": "",
            "description_tooltip": null,
            "layout": "IPY_MODEL_e84070ac4cd0454dbafccf18a0293b6c",
            "placeholder": "​",
            "style": "IPY_MODEL_3168d1bb725d41178c86053a91f07987",
            "value": " 50/50 [00:04&lt;00:00,  8.48it/s]"
          }
        },
        "ab63d8e23e8b4e57873dea6fe50f58b3": {
          "model_module": "@jupyter-widgets/base",
          "model_name": "LayoutModel",
          "model_module_version": "1.2.0",
          "state": {
            "_model_module": "@jupyter-widgets/base",
            "_model_module_version": "1.2.0",
            "_model_name": "LayoutModel",
            "_view_count": null,
            "_view_module": "@jupyter-widgets/base",
            "_view_module_version": "1.2.0",
            "_view_name": "LayoutView",
            "align_content": null,
            "align_items": null,
            "align_self": null,
            "border": null,
            "bottom": null,
            "display": null,
            "flex": null,
            "flex_flow": null,
            "grid_area": null,
            "grid_auto_columns": null,
            "grid_auto_flow": null,
            "grid_auto_rows": null,
            "grid_column": null,
            "grid_gap": null,
            "grid_row": null,
            "grid_template_areas": null,
            "grid_template_columns": null,
            "grid_template_rows": null,
            "height": null,
            "justify_content": null,
            "justify_items": null,
            "left": null,
            "margin": null,
            "max_height": null,
            "max_width": null,
            "min_height": null,
            "min_width": null,
            "object_fit": null,
            "object_position": null,
            "order": null,
            "overflow": null,
            "overflow_x": null,
            "overflow_y": null,
            "padding": null,
            "right": null,
            "top": null,
            "visibility": null,
            "width": null
          }
        },
        "f7eb512b19a74fc0861f186922465543": {
          "model_module": "@jupyter-widgets/base",
          "model_name": "LayoutModel",
          "model_module_version": "1.2.0",
          "state": {
            "_model_module": "@jupyter-widgets/base",
            "_model_module_version": "1.2.0",
            "_model_name": "LayoutModel",
            "_view_count": null,
            "_view_module": "@jupyter-widgets/base",
            "_view_module_version": "1.2.0",
            "_view_name": "LayoutView",
            "align_content": null,
            "align_items": null,
            "align_self": null,
            "border": null,
            "bottom": null,
            "display": null,
            "flex": null,
            "flex_flow": null,
            "grid_area": null,
            "grid_auto_columns": null,
            "grid_auto_flow": null,
            "grid_auto_rows": null,
            "grid_column": null,
            "grid_gap": null,
            "grid_row": null,
            "grid_template_areas": null,
            "grid_template_columns": null,
            "grid_template_rows": null,
            "height": null,
            "justify_content": null,
            "justify_items": null,
            "left": null,
            "margin": null,
            "max_height": null,
            "max_width": null,
            "min_height": null,
            "min_width": null,
            "object_fit": null,
            "object_position": null,
            "order": null,
            "overflow": null,
            "overflow_x": null,
            "overflow_y": null,
            "padding": null,
            "right": null,
            "top": null,
            "visibility": null,
            "width": null
          }
        },
        "872bf8b3ae4c4f89934a09c04d7b69c6": {
          "model_module": "@jupyter-widgets/controls",
          "model_name": "DescriptionStyleModel",
          "model_module_version": "1.5.0",
          "state": {
            "_model_module": "@jupyter-widgets/controls",
            "_model_module_version": "1.5.0",
            "_model_name": "DescriptionStyleModel",
            "_view_count": null,
            "_view_module": "@jupyter-widgets/base",
            "_view_module_version": "1.2.0",
            "_view_name": "StyleView",
            "description_width": ""
          }
        },
        "0ce006c3ec2940c09f9176c6cd755aed": {
          "model_module": "@jupyter-widgets/base",
          "model_name": "LayoutModel",
          "model_module_version": "1.2.0",
          "state": {
            "_model_module": "@jupyter-widgets/base",
            "_model_module_version": "1.2.0",
            "_model_name": "LayoutModel",
            "_view_count": null,
            "_view_module": "@jupyter-widgets/base",
            "_view_module_version": "1.2.0",
            "_view_name": "LayoutView",
            "align_content": null,
            "align_items": null,
            "align_self": null,
            "border": null,
            "bottom": null,
            "display": null,
            "flex": null,
            "flex_flow": null,
            "grid_area": null,
            "grid_auto_columns": null,
            "grid_auto_flow": null,
            "grid_auto_rows": null,
            "grid_column": null,
            "grid_gap": null,
            "grid_row": null,
            "grid_template_areas": null,
            "grid_template_columns": null,
            "grid_template_rows": null,
            "height": null,
            "justify_content": null,
            "justify_items": null,
            "left": null,
            "margin": null,
            "max_height": null,
            "max_width": null,
            "min_height": null,
            "min_width": null,
            "object_fit": null,
            "object_position": null,
            "order": null,
            "overflow": null,
            "overflow_x": null,
            "overflow_y": null,
            "padding": null,
            "right": null,
            "top": null,
            "visibility": null,
            "width": null
          }
        },
        "929336eb9bc54f018a7a92580aac911b": {
          "model_module": "@jupyter-widgets/controls",
          "model_name": "ProgressStyleModel",
          "model_module_version": "1.5.0",
          "state": {
            "_model_module": "@jupyter-widgets/controls",
            "_model_module_version": "1.5.0",
            "_model_name": "ProgressStyleModel",
            "_view_count": null,
            "_view_module": "@jupyter-widgets/base",
            "_view_module_version": "1.2.0",
            "_view_name": "StyleView",
            "bar_color": null,
            "description_width": ""
          }
        },
        "e84070ac4cd0454dbafccf18a0293b6c": {
          "model_module": "@jupyter-widgets/base",
          "model_name": "LayoutModel",
          "model_module_version": "1.2.0",
          "state": {
            "_model_module": "@jupyter-widgets/base",
            "_model_module_version": "1.2.0",
            "_model_name": "LayoutModel",
            "_view_count": null,
            "_view_module": "@jupyter-widgets/base",
            "_view_module_version": "1.2.0",
            "_view_name": "LayoutView",
            "align_content": null,
            "align_items": null,
            "align_self": null,
            "border": null,
            "bottom": null,
            "display": null,
            "flex": null,
            "flex_flow": null,
            "grid_area": null,
            "grid_auto_columns": null,
            "grid_auto_flow": null,
            "grid_auto_rows": null,
            "grid_column": null,
            "grid_gap": null,
            "grid_row": null,
            "grid_template_areas": null,
            "grid_template_columns": null,
            "grid_template_rows": null,
            "height": null,
            "justify_content": null,
            "justify_items": null,
            "left": null,
            "margin": null,
            "max_height": null,
            "max_width": null,
            "min_height": null,
            "min_width": null,
            "object_fit": null,
            "object_position": null,
            "order": null,
            "overflow": null,
            "overflow_x": null,
            "overflow_y": null,
            "padding": null,
            "right": null,
            "top": null,
            "visibility": null,
            "width": null
          }
        },
        "3168d1bb725d41178c86053a91f07987": {
          "model_module": "@jupyter-widgets/controls",
          "model_name": "DescriptionStyleModel",
          "model_module_version": "1.5.0",
          "state": {
            "_model_module": "@jupyter-widgets/controls",
            "_model_module_version": "1.5.0",
            "_model_name": "DescriptionStyleModel",
            "_view_count": null,
            "_view_module": "@jupyter-widgets/base",
            "_view_module_version": "1.2.0",
            "_view_name": "StyleView",
            "description_width": ""
          }
        }
      }
    }
  },
  "nbformat": 4,
  "nbformat_minor": 5
}