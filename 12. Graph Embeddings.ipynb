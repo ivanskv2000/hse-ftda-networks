{
  "cells": [
    {
      "cell_type": "markdown",
      "id": "3d7dd97c",
      "metadata": {
        "id": "3d7dd97c"
      },
      "source": [
        "# Assignment — Graph Embeddings"
      ]
    },
    {
      "cell_type": "code",
      "execution_count": null,
      "id": "a5fc4aed",
      "metadata": {
        "id": "a5fc4aed"
      },
      "outputs": [],
      "source": [
        "from sklearn.metrics import mutual_info_score\n",
        "from sklearn.cluster import k_means\n",
        "import numpy as np\n",
        "import torch\n",
        "from scipy.sparse import csr_matrix\n",
        "from sklearn.decomposition import PCA\n",
        "from torch.utils.data import Dataset\n",
        "import torch.nn as nn\n",
        "from torch.optim import Adam\n",
        "from torch.utils.data import DataLoader\n",
        "import matplotlib.pyplot as plt\n",
        "from sklearn.manifold import TSNE\n",
        "from tqdm.notebook import tqdm, trange\n",
        "from scipy.sparse.linalg import svds\n",
        "import requests\n",
        "import networkx as nx"
      ]
    },
    {
      "cell_type": "markdown",
      "id": "1607604d",
      "metadata": {
        "id": "1607604d"
      },
      "source": [
        "### Facebook graph"
      ]
    },
    {
      "cell_type": "markdown",
      "id": "05cba833",
      "metadata": {
        "id": "05cba833"
      },
      "source": [
        "In this assignment, we will evaluate node embedding methods on the facebook graph where nodes are pages and edges are links. Each node has a category: government, tv-show, company, politician."
      ]
    },
    {
      "cell_type": "code",
      "execution_count": null,
      "id": "20ca6ef5",
      "metadata": {
        "colab": {
          "base_uri": "https://localhost:8080/"
        },
        "id": "20ca6ef5",
        "outputId": "75b3f245-9d60-4223-9892-c62a67f5b92a"
      },
      "outputs": [],
      "source": [
        "url = 'https://raw.githubusercontent.com/netspractice/network-science/main/datasets/musae_facebook_ego_802.gml'\n",
        "open('musae_facebook_ego_802.gml', 'wb').write(requests.get(url).content)\n",
        "G = nx.read_gml('musae_facebook_ego_802.gml')\n",
        "G = nx.convert_node_labels_to_integers(G)\n",
        "_labels = np.array(list(nx.get_node_attributes(G, 'value').values()))\n",
        "unique = list(set(_labels))\n",
        "labels = np.array([unique.index(l) for l in _labels])\n",
        "len(G), labels"
      ]
    },
    {
      "cell_type": "markdown",
      "id": "5aaad914",
      "metadata": {
        "id": "5aaad914"
      },
      "source": [
        "### Task 1. DeepWalk (0 points)"
      ]
    },
    {
      "cell_type": "code",
      "execution_count": null,
      "id": "5afaa979",
      "metadata": {
        "id": "5afaa979"
      },
      "outputs": [],
      "source": [
        "import warnings\n",
        "warnings.simplefilter(action='ignore', category=FutureWarning)"
      ]
    },
    {
      "cell_type": "markdown",
      "id": "b33ccb4f",
      "metadata": {
        "id": "b33ccb4f"
      },
      "source": [
        "Deepwalk is an approach for learning latent representations of nodes in a network. The motivation of DeepWalk is based on an observation that the frequency of nodes occurrence in the short random walks in social networks is similar to the frequency of words occurrence in sentences in natural languages.\n",
        "\n",
        "<img src=\"https://raw.githubusercontent.com/netspractice/network-science/main/images/node_word_powerlaw.png\" width=600>\n",
        "\n",
        "The both follow a power-law distribution, therefore NLP word embedding models can help to represent nodes in networks. DeepWalk is based on SkipGram model that is trained to predict the context for a given word.\n",
        "\n",
        "<img src='https://lena-voita.github.io/resources/lectures/word_emb/w2v/window_prob1-min.png' width=600>\n",
        "\n",
        "(an image is taken from [NLP Course For You](https://lena-voita.github.io/nlp_course.html))\n",
        "\n",
        "DeepWalk uses nodes instead of words and random walks on a network instead of sentences. Let a central word be a start node of a random walk, context words be nodes in a tail of a random walk."
      ]
    },
    {
      "cell_type": "markdown",
      "id": "6067034b",
      "metadata": {
        "id": "6067034b"
      },
      "source": [
        "Write a function `sample_random_walks` that takes a graph, number of walks per node and the length of walks, returns np.array of the shape (total number of walks) x (length)."
      ]
    },
    {
      "cell_type": "code",
      "execution_count": null,
      "id": "3fe4a8a7",
      "metadata": {
        "deletable": false,
        "id": "3fe4a8a7",
        "nbgrader": {
          "cell_type": "code",
          "checksum": "d3ce58f440fdc8e196671a9575dd819b",
          "grade": false,
          "grade_id": "cell-6dae7ab8bdd8bca1",
          "locked": false,
          "schema_version": 3,
          "solution": true,
          "task": false
        }
      },
      "outputs": [],
      "source": [
        "!pip install pybind11\n",
        "!pip install graph-walker\n",
        "from tqdm import tqdm\n",
        "import walker\n",
        "\n",
        "def sample_random_walks(G, walks_per_node, length):\n",
        "\n",
        "    rw = walker.random_walks(G, n_walks=walks_per_node, walk_len=length)\n",
        "    rw = rw[np.argsort(rw[:,0]), :]\n",
        "\n",
        "    return rw.astype(np.int64)\n",
        "\n",
        "    A = nx.to_numpy_array(G)\n",
        "    Dinv = np.diag(1./np.sum(A, axis=0))\n",
        "    T = Dinv @ A\n",
        "\n",
        "    random_walks = []\n",
        "\n",
        "    def sample_random_walk(n, node_id):\n",
        "        p = np.zeros(n)\n",
        "        p[node_id] = 1\n",
        "        p = p.reshape(-1,1)\n",
        "\n",
        "        visited = [node_id]\n",
        "\n",
        "        for _ in range(length - 1):\n",
        "            p = T @ p\n",
        "            p = p / p.sum()\n",
        "            iter_visit = np.random.choice(p.flatten().shape[0], 1, p=p.flatten())[0]\n",
        "\n",
        "            p = np.zeros_like(p)\n",
        "            p[iter_visit,:] = 1\n",
        "\n",
        "            visited.append(iter_visit)\n",
        "\n",
        "        return np.array(visited)\n",
        "    \n",
        "    for node in tqdm(range(A.shape[0])):\n",
        "        for _ in range(walks_per_node):\n",
        "            rw = sample_random_walk(A.shape[0], node)\n",
        "            random_walks.append(rw)\n",
        "\n",
        "    return np.array(random_walks)"
      ]
    },
    {
      "cell_type": "code",
      "execution_count": null,
      "id": "faf5aeed",
      "metadata": {
        "colab": {
          "base_uri": "https://localhost:8080/"
        },
        "deletable": false,
        "editable": false,
        "id": "faf5aeed",
        "nbgrader": {
          "cell_type": "code",
          "checksum": "bf580c164d7ab96868a44d09bf855390",
          "grade": true,
          "grade_id": "cell-6804ce30d354612f",
          "locked": true,
          "points": 0,
          "schema_version": 3,
          "solution": false,
          "task": false
        },
        "outputId": "10b3cd09-80eb-4b22-8e7e-9f9b036b5752"
      },
      "outputs": [],
      "source": [
        "walks_per_node = 5\n",
        "length = 5\n",
        "rwalks = sample_random_walks(G, walks_per_node, length)\n",
        "assert rwalks.shape == (len(G) * walks_per_node, length)\n",
        "assert np.all(rwalks[:, 0][::5] == np.arange(len(G)))\n",
        "A = nx.to_numpy_array(G)\n",
        "assert np.all(A[rwalks[0, :-1], rwalks[0, 1:]] == 1)"
      ]
    },
    {
      "cell_type": "markdown",
      "id": "24aa9ea7",
      "metadata": {
        "id": "24aa9ea7"
      },
      "source": [
        "Consider a graph $G=(V,E)$. Let the first node in each random walk be _start node_ and others be _context nodes_. DeepWalk uses two embedding layers:\n",
        "* $v_i: \\{0, 1\\}^{|V|} \\to \\mathbb R^{d}$ embeds the one-hot encoded vector of the start node $i$ to latent space\n",
        "* $u_j: \\{0, 1\\}^{|V|} \\to \\mathbb R^{d}$ embeds the one-hot encoded vector of the context node $j$ to latent space\n",
        "\n",
        "The objective is to maximize the probability that $i$ and $j$ co-occur on a random walk over the network. Maximizing of the probability is equivalent to minimizing negative log-likelihood:\n",
        "\n",
        "$$\\mathcal L = - \\frac{1}{|V|\\times N} \\sum_{i=1}^{|V|\\times N} \\sum_{j=1}^L \\log P(j|i)$$\n",
        "\n",
        "where $N$ is the number of walks per node, $L$ is the length of a random walk excluding start node. $P(j|i)$ can be modelled by softmax with dot product similarity score $\\text{sim}(i, j) = u_i^\\top v_j$ as follows:\n",
        "\n",
        "$$\\mathcal L = - \\frac{1}{|V|\\times N} \\sum_{i=1}^{|V|\\times N} \\sum_{j=1}^L \\log \\frac{\\exp(v_i^\\top u_j)}{\\sum_{k=1}^{|V|}\\exp(u_k^\\top v_i)}$$\n",
        "\n",
        "However, calculating $\\sum_{k=1}^{|V|}\\exp(v_i^\\top u_j)$ is computationally expensive in a large network. To overcome such an obstacle, we can approximate softmax by binary cross-entropy with _negative sampling_. Instead of calculating softmax, we draw some random (negative) context and minimize binary cross-entropy using sigmoid function:\n",
        "\n",
        "$$\\mathcal L^{\\text{pos}}_{ij} = -\\log P(j|i) = - \\log \\sigma(v_i^\\top u_j) \\\\\n",
        "\\mathcal L^\\text{neg}_{ij} = -\\sum_{k=1}^K \\log P(k|i) = -\\sum_{k=1}^K \\log (1 - \\sigma(v_i^\\top u_k)) \\\\ \n",
        "\\mathcal L = \\frac{1}{|V|\\times N} \\sum_{i=1}^{|V|\\times N} \\sum_{j=1}^L \\left(\\mathcal L^{\\text{pos}}_{ij} + \\mathcal L^\\text{neg}_{ij}\\right)$$\n",
        "\n",
        "where $K$ is the number of negative nodes for each context node."
      ]
    },
    {
      "cell_type": "markdown",
      "id": "d534609d",
      "metadata": {
        "id": "d534609d"
      },
      "source": [
        "Let us create a dataset for computing a such loss function. Write a class `NodeContextDataset`. \n",
        "\n",
        "Function `__init__` takes random walks, the number of nodes in a graph and the number of negative nodes per each context node.\n",
        "\n",
        "Function `__len__` returns the number of random walks.\n",
        "\n",
        "Function `__getitem__` takes an index of random walk, sample a negative context and returns a tuple:\n",
        "\n",
        "* start node, torch.int64\n",
        "* positive context nodes, torch.tensor of the shape (number of context nodes)\n",
        "* negative context nodes, torch.tensor of the shape (number of context nodes, number of negative nodes)"
      ]
    },
    {
      "cell_type": "code",
      "execution_count": null,
      "id": "79043f56",
      "metadata": {
        "deletable": false,
        "id": "79043f56",
        "nbgrader": {
          "cell_type": "code",
          "checksum": "f37ac528f7f9c27b886cd738c11ed47f",
          "grade": false,
          "grade_id": "cell-92d80df6a92f6fc2",
          "locked": false,
          "schema_version": 3,
          "solution": true,
          "task": false
        }
      },
      "outputs": [],
      "source": [
        "class NodeContextDataset(Dataset):\n",
        "    def __init__(self, rwalks, n_nodes, n_neg):\n",
        "        self.rwalks = rwalks\n",
        "        self.n_nodes = n_nodes\n",
        "        self.n_neg = n_neg\n",
        "\n",
        "    def __len__(self):\n",
        "        return self.rwalks.shape[0]\n",
        "\n",
        "    def __getitem__(self, idx):\n",
        "        start_node = self.rwalks[idx][0]\n",
        "\n",
        "        negative_context_idx = np.random.choice(\n",
        "            np.append(np.arange(0, idx), np.arange(idx+1, self.rwalks.shape[0])),\n",
        "            self.n_neg,\n",
        "            replace=False\n",
        "            )\n",
        "\n",
        "        if type(self.rwalks) == torch.Tensor:\n",
        "          start_node = start_node.type(torch.int64)\n",
        "          positive_context = self.rwalks[idx][1:]\n",
        "          negative_context = self.rwalks[negative_context_idx, 1:].T\n",
        "        else:\n",
        "          start_node = torch.tensor(start_node).type(torch.int64)\n",
        "          positive_context = torch.tensor(self.rwalks[idx][1:])\n",
        "          negative_context = torch.tensor(self.rwalks[negative_context_idx, 1:].T)\n",
        "\n",
        "        return start_node, positive_context, negative_context"
      ]
    },
    {
      "cell_type": "code",
      "execution_count": null,
      "id": "14140e24",
      "metadata": {
        "deletable": false,
        "editable": false,
        "id": "14140e24",
        "nbgrader": {
          "cell_type": "code",
          "checksum": "33e459957a271d9fbd1451657741be76",
          "grade": true,
          "grade_id": "cell-a745361ad8b8827a",
          "locked": true,
          "points": 0,
          "schema_version": 3,
          "solution": false,
          "task": false
        }
      },
      "outputs": [],
      "source": [
        "dataset = NodeContextDataset(rwalks, len(G), n_neg=5)\n",
        "assert len(dataset) == rwalks.shape[0]\n",
        "start_node, pos_context, neg_context0 = dataset[0]\n",
        "start_node, pos_context, neg_context1 = dataset[0]\n",
        "assert start_node == 0\n",
        "assert start_node.dtype == torch.int64\n",
        "assert start_node.shape == ()\n",
        "assert pos_context.shape == (4, )\n",
        "assert neg_context0.shape == neg_context1.shape ==(4, 5)\n",
        "assert not torch.all(neg_context0 == neg_context1)\n",
        "dloader = DataLoader(dataset, batch_size=2)\n",
        "for start_nodes, pos_context, neg_context in dloader:\n",
        "    break\n",
        "assert start_nodes.shape == (2,)\n",
        "assert pos_context.shape == (2, 4)\n",
        "assert neg_context.shape == (2, 4, 5)"
      ]
    },
    {
      "cell_type": "markdown",
      "id": "fc9f8aec",
      "metadata": {
        "id": "fc9f8aec"
      },
      "source": [
        "Write a function `cross_entropy` that takes vectors $v$, positive $u$, negative $u$ and returns the binary cross-entropy loss before reduction $\\frac{1}{|V|\\times N} \\sum_{i=1}^{|V|\\times N} \\sum_{j=1}^L$.\n",
        "\n",
        "_Remark: to prevent $-\\infty$ in log, add $\\varepsilon=1^{-6}$ as follows `torch.log(x + 1e-6)`_"
      ]
    },
    {
      "cell_type": "code",
      "execution_count": null,
      "id": "323f3ec4",
      "metadata": {
        "deletable": false,
        "id": "323f3ec4",
        "nbgrader": {
          "cell_type": "code",
          "checksum": "8c52f1255915a57c9e9e136063d7a1bb",
          "grade": false,
          "grade_id": "cell-e2f4ba57342fd5e8",
          "locked": false,
          "schema_version": 3,
          "solution": true,
          "task": false
        }
      },
      "outputs": [],
      "source": [
        "def cross_entropy(v, u_pos, u_neg):\n",
        "    VxN = v.shape[0]\n",
        "\n",
        "    L_pos = v @ u_pos.transpose(1, 2)\n",
        "    L_pos = torch.diagonal(L_pos, dim1=0, dim2=1).T\n",
        "    L_pos = - torch.log(torch.sigmoid(L_pos) + 1e-6)\n",
        "\n",
        "    #L_neg = v @ u_neg.transpose(0, 2).transpose(1, 2).transpose(2, 3)\n",
        "    #L_neg = torch.diagonal(L_neg, dim1=1, dim2=2).T\n",
        "    #L_neg = - torch.log(1 - torch.sigmoid(L_neg) + 1e-6)\n",
        "    #L_neg = torch.sum(L_neg, dim=2)\n",
        "\n",
        "    L_neg = torch.cat([torch.diagonal(u_neg[:,k,:,:] @ v.T, dim1=0, dim2=2)[None,:,:] for k in range(u_neg.shape[1])], dim=0)\n",
        "    L_neg = - torch.log(1 - torch.sigmoid(L_neg) + 1e-6)\n",
        "    L_neg = L_neg.sum(dim=1).T\n",
        "\n",
        "    L = L_pos + L_neg\n",
        "    \n",
        "    return L"
      ]
    },
    {
      "cell_type": "code",
      "execution_count": null,
      "id": "d142273b",
      "metadata": {
        "colab": {
          "base_uri": "https://localhost:8080/"
        },
        "deletable": false,
        "editable": false,
        "id": "d142273b",
        "nbgrader": {
          "cell_type": "code",
          "checksum": "6560bbf935e37888e3e3b1bf47bd0881",
          "grade": true,
          "grade_id": "cell-588d17c4193a2d02",
          "locked": true,
          "points": 0,
          "schema_version": 3,
          "solution": false,
          "task": false
        },
        "outputId": "5057ff7e-452d-4999-a74f-a8fb9ef08e26"
      },
      "outputs": [],
      "source": [
        "np.random.seed(0)\n",
        "start_node_emb = torch.randn(len(G), 16)\n",
        "context_emb = torch.randn(len(G), 16)\n",
        "v = start_node_emb[start_nodes]\n",
        "u_pos = context_emb[pos_context]\n",
        "u_neg = context_emb[neg_context]\n",
        "loss = cross_entropy(v, u_pos, u_neg)\n",
        "assert loss.shape == (2, 4)\n",
        "lpos = -torch.log(torch.sigmoid(v[0] @ u_pos[0, 0]) + 1e-6)\n",
        "lneg = -torch.log(1 - torch.sigmoid(torch.tensor([v[0] @ u_neg[0, 0, i] for i in range(5)])) + 1e-6).sum()\n",
        "assert round((lpos + lneg).item(), 2) == round(loss[0, 0].item(), 2)"
      ]
    },
    {
      "cell_type": "markdown",
      "id": "724cb87d",
      "metadata": {
        "id": "724cb87d"
      },
      "source": [
        "Here is SkipGram model with negative sampling. It takes start nodes and positive, negative context nodes, returns cross-entropy loss."
      ]
    },
    {
      "cell_type": "code",
      "execution_count": null,
      "id": "97156679",
      "metadata": {
        "deletable": false,
        "editable": false,
        "id": "97156679",
        "nbgrader": {
          "cell_type": "code",
          "checksum": "fc264bd4d5ca49b71b8ebd673adcb1d7",
          "grade": false,
          "grade_id": "cell-79e82ef853f9c439",
          "locked": true,
          "schema_version": 3,
          "solution": false,
          "task": false
        }
      },
      "outputs": [],
      "source": [
        "class SkipGramNegativeSampling(nn.Module):\n",
        "    def __init__(self, n_nodes, dim):\n",
        "        super().__init__()\n",
        "        self.start_node_emb = nn.Embedding(n_nodes, dim)\n",
        "        self.context_emb = nn.Embedding(n_nodes, dim)\n",
        "    def forward(self, start_nodes, pos_context, neg_context):\n",
        "        v = self.start_node_emb(start_nodes)\n",
        "        u_pos = self.context_emb(pos_context)\n",
        "        u_neg = self.context_emb(neg_context)\n",
        "        return cross_entropy(v, u_pos, u_neg)"
      ]
    },
    {
      "cell_type": "markdown",
      "id": "01b92d93",
      "metadata": {
        "id": "01b92d93"
      },
      "source": [
        "Let us train the model using Adam optimizer."
      ]
    },
    {
      "cell_type": "code",
      "execution_count": null,
      "id": "d09f9677",
      "metadata": {
        "colab": {
          "base_uri": "https://localhost:8080/",
          "height": 462,
          "referenced_widgets": [
            "ef5c9c9282564866a333f2f5381f7f9c",
            "ff7b6cd2d3b34558a1016a5ea76e9070",
            "01988487a61247e7b9c1b0e90ff31f67",
            "6f5a414514b1495fbf23a4aac46b2ed7",
            "2c2d159111ea4735a50278fd86fb9019",
            "9f2e1e9764a945e0a76cfc2e320a5864",
            "d42286f1924448ed9ecec88d458c75ad",
            "ae0fae46a1d0422eb032824885729326",
            "d3763c02cfcc4ed4ad3093f9d34f227f",
            "7a183f89170b4c23ad40de808c9f1961",
            "dfd354fc1cfb436693ed994500b3973c"
          ]
        },
        "id": "d09f9677",
        "outputId": "bdba6c96-f386-4b52-e61e-59b32287e3a7"
      },
      "outputs": [],
      "source": [
        "sgmodel = SkipGramNegativeSampling(n_nodes=len(G), dim=16)\n",
        "epoch_loss = []\n",
        "opt = Adam(sgmodel.parameters(), lr=0.1)\n",
        "dloader = DataLoader(dataset, batch_size=len(G))\n",
        "for epoch in trange(50):\n",
        "    for start_nodes, pos_context, neg_context in dloader:\n",
        "        loss = sgmodel(start_nodes, pos_context, neg_context).sum(dim=1).mean()\n",
        "        opt.zero_grad()\n",
        "        loss.backward()\n",
        "        opt.step()\n",
        "    epoch_loss.append(loss.item())\n",
        "\n",
        "plt.plot(epoch_loss);"
      ]
    },
    {
      "cell_type": "markdown",
      "id": "fc431c1c",
      "metadata": {
        "id": "fc431c1c"
      },
      "source": [
        "We evaluate the model by mutual information between ground truth labels and cluster indices."
      ]
    },
    {
      "cell_type": "code",
      "execution_count": null,
      "id": "d6c01a21",
      "metadata": {
        "deletable": false,
        "editable": false,
        "id": "d6c01a21",
        "nbgrader": {
          "cell_type": "code",
          "checksum": "95d47fc2fc4c52f43987f446abb71cb2",
          "grade": true,
          "grade_id": "cell-1685a473a18d47f8",
          "locked": true,
          "points": 0,
          "schema_version": 3,
          "solution": false,
          "task": false
        }
      },
      "outputs": [],
      "source": [
        "with torch.no_grad():\n",
        "    emb = sgmodel.start_node_emb(torch.arange(len(G)))\n",
        "_, pred_labels, _ = k_means(emb, n_clusters=8)\n",
        "mi = mutual_info_score(labels, pred_labels)\n",
        "assert mi > 0.15"
      ]
    },
    {
      "cell_type": "markdown",
      "id": "4ce78a35",
      "metadata": {
        "id": "4ce78a35"
      },
      "source": [
        "Let us plot the t-SNE visualization of node embeddings."
      ]
    },
    {
      "cell_type": "code",
      "execution_count": null,
      "id": "15c151d3",
      "metadata": {
        "colab": {
          "base_uri": "https://localhost:8080/",
          "height": 699
        },
        "id": "15c151d3",
        "outputId": "b8085225-6b50-4c16-8194-5112677c79b5"
      },
      "outputs": [],
      "source": [
        "decomposition = TSNE(n_components=2)\n",
        "xy_emb = decomposition.fit_transform(emb)\n",
        "\n",
        "plt.figure(figsize=(8, 8))\n",
        "scatter = plt.scatter(xy_emb[:, 0], xy_emb[:, 1], c=labels, s=10, cmap=plt.cm.Set2)\n",
        "\n",
        "plt.legend(handles=scatter.legend_elements()[0], labels=unique)\n",
        "plt.title(f'MI: {mi:.4f}');"
      ]
    },
    {
      "cell_type": "markdown",
      "id": "379d3814",
      "metadata": {
        "id": "379d3814"
      },
      "source": [
        "### Task 2. Node2Vec (3 points)"
      ]
    },
    {
      "cell_type": "markdown",
      "id": "252e7a47",
      "metadata": {
        "id": "252e7a47"
      },
      "source": [
        "In this task, we will consider Node2Vec embedding algorithm. In Node2Vec, we learn a mapping of nodes to a low-dimensional space of features that maximizes the likelihood of preserving network neighborhoods of nodes. It is similar to DeepWalk, but uses *biased random walk procedure* which efficiently explores diverse neighborhoods. There are two parameters:\n",
        "\n",
        "* Return parameter $p$ controls the likelihood of immediately revisiting a node in the walk. Setting it to a high value ensures that we are less likely to sample an already-visited node in the following two steps.\n",
        "\n",
        "* In-out parameter $q$ allows the search to differentiate between “inward” and “outward” nodes. If $q > 1$, the random walk is biased towards nodes close to previous node. In contrast, if $q < 1$, the walk is more inclined to visit nodes which are further away from the previous node.\n",
        "\n",
        "<img src='https://raw.githubusercontent.com/netspractice/network-science/main/images/biased_random_walk.png' width=300>\n",
        "\n",
        "Consider that we just moved from the node $t$ to $v$ and now we want to decide on the next step so it evaluates the transition probabilities on edges ($v$, $x$) leading from $v$. Then the *unnormalized* probability is\n",
        "\n",
        "$$\\alpha = \\begin{cases}\n",
        "\\frac{1}{p} &  \\text{ if } d_{tx} = 0\\\\\n",
        "1 & \\text{ if } d_{tx} = 1\\\\\n",
        "\\frac{1}{q} & \\text{ if } d_{tx} = 2\\\\\n",
        "\\end{cases}$$\n",
        "\n",
        "where $d_{tx}$ is the shortest path distance between nodes $t$ and $x$. To compute the true probability, we need to normalize values so that the sum is 1."
      ]
    },
    {
      "cell_type": "markdown",
      "id": "706b6487",
      "metadata": {
        "id": "706b6487"
      },
      "source": [
        "Write a function `biased_random_walk` that takes a graph, node for which we start random walk, length of walk, parameters `p` and `q` and returns a list with random walks.\n",
        "\n",
        "*Hint: do not use `nx.shortest_path` to calcule shortest paths, it is too expensive. Look at the image above — we can explicitly calculate probabilities for all neighbors of $v$ using neighborhood of $t$*."
      ]
    },
    {
      "cell_type": "code",
      "execution_count": null,
      "id": "738446aa",
      "metadata": {
        "deletable": false,
        "id": "738446aa",
        "nbgrader": {
          "cell_type": "code",
          "checksum": "248810a536b6d7a59e0b93a8937cf7a8",
          "grade": false,
          "grade_id": "cell-982226ce9aa30f91",
          "locked": false,
          "schema_version": 3,
          "solution": true,
          "task": false
        }
      },
      "outputs": [],
      "source": [
        "def biased_random_walk(G, node, length, p, q):\n",
        "\n",
        "    def conclude_probability(node, t, t_neighbors, v_neighbors, *pq_args):\n",
        "        p, q = pq_args\n",
        "\n",
        "        if node == t:\n",
        "            return 1/p\n",
        "        elif (node in t_neighbors) and (node in v_neighbors):\n",
        "            return 1\n",
        "        else:\n",
        "            return 1/q\n",
        "        \n",
        "    def get_proba_array(t_node, t_neighbors, v_neighbors, *pq_args):\n",
        "\n",
        "        p_vec = np.array(\n",
        "            [conclude_probability(nbr, t_node, t_neighbors, v_neighbors, *pq_args)\\\n",
        "            for nbr in v_neighbors]\n",
        "            )\n",
        "        p_vec = p_vec/p_vec.sum()\n",
        "\n",
        "        return p_vec\n",
        "    \n",
        "    rw = [node, ]\n",
        "    \n",
        "    t_node = None\n",
        "    v_node = node\n",
        "\n",
        "    \n",
        "    for _ in range(length - 1):\n",
        "\n",
        "        t_neighbors = list(nx.all_neighbors(G, t_node)) if t_node else []\n",
        "        v_neighbors = list(nx.all_neighbors(G, v_node))\n",
        "\n",
        "        P = get_proba_array(t_node, t_neighbors, v_neighbors, *(p, q))\n",
        "        nbr_idx = np.random.choice(P.shape[0], 1, p=P)[0]\n",
        "        iter_step = v_neighbors[nbr_idx]\n",
        "\n",
        "        rw.append(iter_step)\n",
        "        t_node = v_node\n",
        "        v_node = iter_step\n",
        "\n",
        "    return np.array(rw)"
      ]
    },
    {
      "cell_type": "code",
      "execution_count": null,
      "id": "b6a264d9",
      "metadata": {
        "deletable": false,
        "editable": false,
        "id": "b6a264d9",
        "nbgrader": {
          "cell_type": "code",
          "checksum": "2435b88e56db99f5401d6df7bd8aac19",
          "grade": true,
          "grade_id": "cell-0404594e2e4226e7",
          "locked": true,
          "points": 1,
          "schema_version": 3,
          "solution": false,
          "task": false
        }
      },
      "outputs": [],
      "source": [
        "rwalks = biased_random_walk(G, 0, 10, 0.1, 0.5)\n",
        "assert len(rwalks) == 10\n",
        "rwalks = biased_random_walk(G, node=0, length=4, p=0.001, q=1000)\n",
        "assert rwalks[0] == rwalks[2]\n",
        "assert rwalks[1] == rwalks[3]\n",
        "rwalks = biased_random_walk(G, node=0, length=4, p=1000, q=0.001)\n",
        "assert len(set(rwalks)) >= 3"
      ]
    },
    {
      "cell_type": "markdown",
      "id": "57592aa9",
      "metadata": {
        "id": "57592aa9"
      },
      "source": [
        "Let us generate biased random walks."
      ]
    },
    {
      "cell_type": "code",
      "execution_count": null,
      "id": "a74a639e",
      "metadata": {
        "id": "a74a639e"
      },
      "outputs": [],
      "source": [
        "def sample_biased_random_walks(G, walks_per_node, length, p, q):\n",
        "    walks = []\n",
        "    for node in tqdm(G.nodes, leave=False, desc='Sampling biased random walks'):\n",
        "        for _ in range(walks_per_node):\n",
        "            walk_from_node = biased_random_walk(G, node, length, p, q)\n",
        "            walks.append(walk_from_node)\n",
        "    return np.array(walks)"
      ]
    },
    {
      "cell_type": "code",
      "execution_count": null,
      "id": "e7008bcb",
      "metadata": {
        "colab": {
          "base_uri": "https://localhost:8080/"
        },
        "id": "e7008bcb",
        "outputId": "c994faf3-2a5d-4946-a6d9-99973232645b"
      },
      "outputs": [],
      "source": [
        "walks_per_node = 5\n",
        "length = 5\n",
        "rwalks = sample_biased_random_walks(G, walks_per_node, length, p=0.25, q=0.25)\n",
        "rwalks"
      ]
    },
    {
      "cell_type": "markdown",
      "id": "0cf91418",
      "metadata": {
        "id": "0cf91418"
      },
      "source": [
        "Train the model."
      ]
    },
    {
      "cell_type": "code",
      "execution_count": null,
      "id": "d10adc14",
      "metadata": {
        "colab": {
          "base_uri": "https://localhost:8080/",
          "height": 462,
          "referenced_widgets": [
            "0ca84b300ca644dba33255e03a762be4",
            "f9f3958822be4cda83a05cf0de5f7c15",
            "ec44a3356df145e29a0aac9cd43efefb",
            "1110b761c58343c49d1dea28447884d2",
            "e85724ddc5844097a79eb81ccfc9d4bf",
            "648d211cf62c4c41a04f66418df041ff",
            "559ef1f22f3b4d628d3a70b2b9a70814",
            "59ef2cbeb53a406caa26734fc8a54d38",
            "f994c6d4b019440e977f40b2025c43ac",
            "89ff1afac4fa40369b244aece1d3ba2d",
            "790a038c63cd44c9b5ba487c4a9e2296"
          ]
        },
        "id": "d10adc14",
        "outputId": "c9e32f6e-454c-470b-b9d6-63db9bf52e8c"
      },
      "outputs": [],
      "source": [
        "e_loss = []\n",
        "dataset = NodeContextDataset(rwalks, len(G), n_neg=5)\n",
        "dloader = DataLoader(dataset, batch_size=len(G))\n",
        "sgmodel = SkipGramNegativeSampling(n_nodes=len(G), dim=16)\n",
        "opt = Adam(sgmodel.parameters(), lr=0.1)\n",
        "for e in trange(50):\n",
        "    for start_nodes, pos_context, neg_context in dloader:\n",
        "        loss = sgmodel(start_nodes, pos_context, neg_context).sum(dim=1).mean()\n",
        "        opt.zero_grad()\n",
        "        loss.backward()\n",
        "        opt.step()\n",
        "    e_loss.append(loss.item())\n",
        "plt.plot(e_loss);"
      ]
    },
    {
      "cell_type": "code",
      "execution_count": null,
      "id": "b6eeab03",
      "metadata": {
        "deletable": false,
        "editable": false,
        "id": "b6eeab03",
        "nbgrader": {
          "cell_type": "code",
          "checksum": "7005fe5ef24ada019070d2e796d90abd",
          "grade": true,
          "grade_id": "cell-d1d23ef4a88759f7",
          "locked": true,
          "points": 1,
          "schema_version": 3,
          "solution": false,
          "task": false
        }
      },
      "outputs": [],
      "source": [
        "with torch.no_grad():\n",
        "    emb = sgmodel.start_node_emb(torch.arange(len(G)))\n",
        "_, pred_labels, _ = k_means(emb, n_clusters=8)\n",
        "mi = mutual_info_score(labels, pred_labels)\n",
        "assert mi > 0.15"
      ]
    },
    {
      "cell_type": "markdown",
      "id": "8e072e73",
      "metadata": {
        "id": "8e072e73"
      },
      "source": [
        "Find the best $p$ and $q$. Write a function `grid_search_pq` that takes a graph, node labels and returns the best $p$ and $q$ by grid search in $\\{0.01, 0.2, 1, 2, 8\\}$. Sample biased random walks with 5 walks per node and the length 5. Evaluate the model by mutual information score between ground truth labels and k-means with 8 clusters. To pass time limits, calculate the best `p` and `q` and then rewrite the function as\n",
        "\n",
        "```python\n",
        "def grid_search_pq(graph):\n",
        "    return best_p, best_q\n",
        "    # your grid search implementation ...\n",
        "```"
      ]
    },
    {
      "cell_type": "code",
      "execution_count": null,
      "id": "3fa092da",
      "metadata": {
        "deletable": false,
        "id": "3fa092da",
        "nbgrader": {
          "cell_type": "code",
          "checksum": "2381e148a50dffea83ac5792805d7c31",
          "grade": false,
          "grade_id": "cell-63bf0f1902240663",
          "locked": false,
          "schema_version": 3,
          "solution": true,
          "task": false
        }
      },
      "outputs": [],
      "source": [
        "def grid_search_pq(G, labels):\n",
        "\n",
        "    return 2, 0.2\n",
        "\n",
        "    device = torch.device(\"cuda:0\" if torch.cuda.is_available() else \"cpu\")\n",
        "\n",
        "    grid = [0.01, 0.2, 1, 2, 8]\n",
        "    walks_per_node = 5\n",
        "    length = 5\n",
        "\n",
        "    grid_size = len(grid) ** 2\n",
        "    i = 1\n",
        "\n",
        "    best_mi = -np.inf\n",
        "    best_p, best_q = None, None\n",
        "\n",
        "    for p_ in grid:\n",
        "        for q_ in grid:\n",
        "            print(f'Evaluating step {i}/{grid_size} (p={p_}, q={q_})')\n",
        "            i += 1\n",
        "            rwalks = sample_biased_random_walks(G, walks_per_node, length, p=p_, q=q_)\n",
        "\n",
        "            e_loss = []\n",
        "            dataset = NodeContextDataset(torch.tensor(rwalks).to(device), len(G), n_neg=5)\n",
        "            dloader = DataLoader(dataset, batch_size=len(G))\n",
        "            sgmodel = SkipGramNegativeSampling(n_nodes=len(G), dim=16)\n",
        "            sgmodel.to(device)\n",
        "            opt = Adam(sgmodel.parameters(), lr=0.2)\n",
        "            for e in tqdm(range(10), leave=False, desc='Training embedding model'):\n",
        "                for start_nodes, pos_context, neg_context in dloader:\n",
        "                    loss = sgmodel(start_nodes, pos_context, neg_context).sum(dim=1).mean()\n",
        "                    opt.zero_grad()\n",
        "                    loss.backward()\n",
        "                    opt.step()\n",
        "\n",
        "                e_loss.append(loss.item())\n",
        "\n",
        "            plt.plot(e_loss)\n",
        "\n",
        "            with torch.no_grad():\n",
        "                emb = sgmodel.start_node_emb(torch.arange(len(G)).to(device))\n",
        "                emb = emb.cpu()\n",
        "            _, pred_labels, _ = k_means(emb, n_clusters=8)\n",
        "            mi = mutual_info_score(labels, pred_labels)\n",
        "            print(f'\\tMutual info: {np.round(mi, 4)}\\n')\n",
        "\n",
        "            if mi > best_mi:\n",
        "                best_p, best_q = p_, q_\n",
        "                best_mi = mi\n",
        "\n",
        "    return best_p, best_q\n"
      ]
    },
    {
      "cell_type": "code",
      "execution_count": null,
      "id": "482df472",
      "metadata": {
        "colab": {
          "base_uri": "https://localhost:8080/",
          "height": 49,
          "referenced_widgets": [
            "278e7eef0bf04b1482c017f2e4bd496c",
            "82b8285c94a34ff58eb02590448c49d4",
            "fdf29c8995ca4baca24e00f109151e2e",
            "cdf3d122d80341c0af00288211cfe165",
            "931981ed250e4ace835c825db9c82e0e",
            "a2555fd847844a549c6cf72a7139996e",
            "242e4c0a60a44c25a4434d1b6ffc6518",
            "24badcd972e34548850b9e49f9651793",
            "9d2f609b34e7493b914b863fc9d76bec",
            "ccc88b76b10843b399639b7baa425bde",
            "ae1c6202437740fd84eb937bc57ffd98"
          ]
        },
        "deletable": false,
        "editable": false,
        "id": "482df472",
        "nbgrader": {
          "cell_type": "code",
          "checksum": "8e792a5d6956322dfacef58e8503a355",
          "grade": true,
          "grade_id": "cell-6102dd78a7156238",
          "locked": true,
          "points": 1,
          "schema_version": 3,
          "solution": false,
          "task": false
        },
        "outputId": "f1b7d678-4326-4aae-ca1a-24758fa0aacf"
      },
      "outputs": [],
      "source": [
        "best_p, best_q = grid_search_pq(G, labels)\n",
        "rwalks = sample_biased_random_walks(G, 5, 5, best_p, best_q)\n",
        "dataset = NodeContextDataset(rwalks, len(G), n_neg=5)\n",
        "dloader = DataLoader(dataset, batch_size=len(G))\n",
        "sgmodel = SkipGramNegativeSampling(n_nodes=len(G), dim=16)\n",
        "opt = Adam(sgmodel.parameters(), lr=0.1)\n",
        "dloader = DataLoader(dataset, batch_size=len(G))\n",
        "for epoch in trange(50):\n",
        "    for start_nodes, pos_context, neg_context in dloader:\n",
        "        loss = sgmodel(start_nodes, pos_context, neg_context).sum(dim=1).mean()\n",
        "        opt.zero_grad()\n",
        "        loss.backward()\n",
        "        opt.step()\n",
        "with torch.no_grad():\n",
        "    emb = sgmodel.start_node_emb(torch.arange(len(G)))\n",
        "_, pred_labels, _ = k_means(emb, n_clusters=8)\n",
        "mi = mutual_info_score(labels, pred_labels)\n",
        "assert mi > 0.21"
      ]
    },
    {
      "cell_type": "markdown",
      "id": "e8b11faf",
      "metadata": {
        "id": "e8b11faf"
      },
      "source": [
        "Plot t-SNE visualization of node embeddings."
      ]
    },
    {
      "cell_type": "code",
      "execution_count": null,
      "id": "01404606",
      "metadata": {
        "colab": {
          "base_uri": "https://localhost:8080/",
          "height": 699
        },
        "id": "01404606",
        "outputId": "70b5bd9a-ce21-4b29-a6d9-2b2ccf4db78a"
      },
      "outputs": [],
      "source": [
        "decomposition = TSNE(n_components=2)\n",
        "xy_emb = decomposition.fit_transform(emb)\n",
        "\n",
        "plt.figure(figsize=(8, 8))\n",
        "scatter = plt.scatter(xy_emb[:, 0], xy_emb[:, 1], c=labels, s=10, cmap=plt.cm.Set2)\n",
        "\n",
        "plt.legend(handles=scatter.legend_elements()[0], labels=unique)\n",
        "plt.title(f'MI: {mi:.4f}');"
      ]
    },
    {
      "cell_type": "markdown",
      "id": "424ca6b6",
      "metadata": {
        "id": "424ca6b6"
      },
      "source": [
        "### Task 3. Hierarchical softmax (4 points)"
      ]
    },
    {
      "cell_type": "markdown",
      "id": "54588aa6",
      "metadata": {
        "id": "54588aa6"
      },
      "source": [
        "Hierarchical softmax is an alternative way to approximate softmax in DeepWalk and similar models such as Walklets, Node2Vec. Remind the regular loss function with softmax:\n",
        "\n",
        "$$\\mathcal L = - \\frac{1}{|V|\\times N} \\sum_{i=1}^{|V|\\times N} \\sum_{j=1}^L \\log P(j|i) = - \\frac{1}{|V|\\times N} \\sum_{i=1}^{|V|\\times N} \\sum_{j=1}^L \\log \\frac{\\exp(v_i^\\top u_j)}{\\sum_{k=1}^{|V|}\\exp(v_i^\\top u_k)}$$\n",
        "\n",
        "We have observed that computing $\\sum_{k=1}^{|V|}\\exp(v_i^\\top u_k)$ is expensive in a large network. Indeed, it takes $O(|V|)$ since we need to compute $v_i^\\top u_k$ for each $k$. \n",
        "\n",
        "Hierarchical softmax allows to approximate softmax by propagation probabilities in a binary tree where leaves are nodes in the original network. Consider a simple network on 6 nodes and the corresponding binary tree.\n",
        "\n",
        "<img src=\"https://raw.githubusercontent.com/netspractice/network-science/main/images/hs_btree.png\" width=600>\n",
        "\n",
        "We observe that leaves correspond to nodes in the network: the leaf 5 corresponds to the node 0, the leaf 6 corresponds to the node 1 and so on. Let us call all other white nodes in the binary tree units.\n",
        "\n",
        "Write a function `get_binary_tree` that takes number of leaves and returns a binary tree.\n",
        "\n",
        "_Hint: create a binary tree by `nx.balanced_tree(2, depth, nx.DiGraph)` and drop extra leaves. The depth of the tree can be calculated as $\\lceil \\log_2 |V| \\rceil$._"
      ]
    },
    {
      "cell_type": "code",
      "execution_count": null,
      "id": "0e189631",
      "metadata": {
        "deletable": false,
        "id": "0e189631",
        "nbgrader": {
          "cell_type": "code",
          "checksum": "01c8b6fa4bd256a22b699e36c1556bbd",
          "grade": false,
          "grade_id": "cell-fa6e506ce6741f45",
          "locked": false,
          "schema_version": 3,
          "solution": true,
          "task": false
        }
      },
      "outputs": [],
      "source": [
        "def get_binary_tree(n_leaves):\n",
        "\n",
        "    def leaves_to_trim(n_leaves):\n",
        "      min_ = np.log2(n_leaves) - np.int64(np.log2(n_leaves)) == 0\n",
        "      #max_ = np.log2(n_leaves - 1) - np.int64(np.log2(n_leaves - 1)) == 0\n",
        "\n",
        "      if min_:\n",
        "        return 0\n",
        "      else:\n",
        "        min_n_leaves = 2 ** np.floor(np.log2(n_leaves))\n",
        "        max_n_leaves = min_n_leaves + 1\n",
        "        return int((max_n_leaves - 2) * 2 - 2 * (n_leaves - max_n_leaves))\n",
        "\n",
        "\n",
        "    depth = int(np.ceil(np.log2(n_leaves)))\n",
        "    tree = nx.balanced_tree(r=2, h=depth, create_using=nx.DiGraph)\n",
        "    tree_array = nx.to_numpy_array(tree)\n",
        "\n",
        "    ltt = leaves_to_trim(n_leaves)\n",
        "    tree_array = tree_array[:-ltt, :-ltt]\n",
        "    tree = nx.from_numpy_array(tree_array, create_using=nx.DiGraph)\n",
        "    return tree"
      ]
    },
    {
      "cell_type": "code",
      "execution_count": null,
      "id": "e090bf47",
      "metadata": {
        "deletable": false,
        "editable": false,
        "id": "e090bf47",
        "nbgrader": {
          "cell_type": "code",
          "checksum": "8fcd40389d09de393cba575495e2513d",
          "grade": true,
          "grade_id": "cell-12931d335d97bb1c",
          "locked": true,
          "points": 1,
          "schema_version": 3,
          "solution": false,
          "task": false
        }
      },
      "outputs": [],
      "source": [
        "btree = get_binary_tree(n_leaves=len(G))\n",
        "leaves = [n for n in btree.nodes if btree.degree[n] == 1]\n",
        "assert len(leaves) == len(G)\n",
        "assert list(btree.nodes)[0] == 0\n",
        "assert nx.is_weakly_connected(btree)\n",
        "assert btree.in_degree[0] == 0\n",
        "assert np.all([btree.in_degree[n] == 1 for n in range(1, len(btree))])\n",
        "assert np.all([btree.out_degree[n] == 2 for n in range(len(btree) - len(leaves))])\n",
        "assert np.all([btree.out_degree[n] == 0 for n in range(len(btree) - len(leaves), len(btree))])"
      ]
    },
    {
      "cell_type": "markdown",
      "id": "54c33394",
      "metadata": {
        "id": "54c33394"
      },
      "source": [
        "If we assign a probability conditioned by the start node for each unit, we can calculate a probability of each context node as the product of probabilities of all units in the path from the root unit to a corresponding leaf taking $p_i$ if we go to the left and $1 - p_i$ if we go to the right from the unit $i$. For example, consider a path from the root unit to the context node 5 (leaf 10):\n",
        "\n",
        "<img src=\"https://raw.githubusercontent.com/netspractice/network-science/main/images/hs_btree_proba.png\" width=600>\n",
        "\n",
        "$$P(5|i) = p_0\\cdot (1-p_1) \\cdot (1-p_4)$$\n",
        "\n",
        "We can observe following thigs:\n",
        "* Each unit divides probability space into two subspace, so that probabilities on leaves are summed up to 1.\n",
        "* We make only 3 multiplications instead of 6 summations in regular softmax. Indeed, the number of multiplications is equal to the depth of the binary tree $O(\\log_2|V|)$. The number of summations in regular softmax is $O(|V|)$. That is, the cost of calculating probabilities for all context nodes is reduced from $O(|V|^2)$ to $O(|V|\\log_2|V|)$.\n",
        "\n",
        "We condition probabilities by the start node as follows:\n",
        "\n",
        "$$p_j(i) = \\sigma(v_i^\\top u_j)$$\n",
        "\n",
        "where $v_i$ is embedding of the start node $i$ and $u_j$ is embedding of the unit $j$. Thus, we have no embeddings for context nodes in this model. Note that $1-\\sigma(v_i^\\top u_j)$ can be substituted to $\\sigma(-v_i^\\top u_j)$. Let us call a sign under the sigmoid a turn $t_k$: $-1$ if we go to the left and $1$ if we go to the right. Thus the probability of co-occurance of the context node 5 and the start node, say, 1 is\n",
        "\n",
        "$$P(5|1) = \\sigma(t_0 v_1^\\top u_0) \\cdot \\sigma(t_1 v_1^\\top u_1) \\cdot \\sigma(t_2 v_1^\\top u_4)$$\n",
        "\n",
        "where $t_0=1$, $t_1=-1$, $t_2=-1$. Our objective is to maximize the probability of co-occurance of start nodes and context nodes by minimizing the negative log-likelihood, thus the loss function is turned out to\n",
        "\n",
        "$$\\mathcal L = - \\frac{1}{|V|\\times N} \\sum_{i=1}^{|V|\\times N} \\sum_{j=1}^L \\sum_{k=1}^K\\log \\sigma(t_{[jk]} v_i^\\top u_{[jk]})$$\n",
        "\n",
        "where $K$ is the path length from the root to the leaf excluding the leaf. Subscript $[jk]$ means the index corresponded to k-th step of the path to j-th context node. Note that the path length depends on a leaf, it makes calculating loss in mini-batch training inconvenient, so let us set $K$ as the depth of the tree and multiply the loss by _training mask_ $z_{jk}$: $0$ for all $k$ that greater than path length and $1$ otherwise. The final loss function is\n",
        "\n",
        "$$\\mathcal L = - \\frac{1}{|V|\\times N} \\sum_{i=1}^{|V|\\times N} \\sum_{j=1}^L \\sum_{k=1}^K\\log \\sigma(t_{[jk]} v_i^\\top u_{[jk]}) z_{[jk]}$$"
      ]
    },
    {
      "cell_type": "markdown",
      "id": "c3d18ee4",
      "metadata": {
        "id": "c3d18ee4"
      },
      "source": [
        "Let us create a dataset for computing a such loss function. Write a class `NodePathDataset`. \n",
        "\n",
        "Function `__init__` takes random walks, binary tree, depth of the binary tree and finds paths for each leaf.\n",
        "\n",
        "Function `__len__` returns the number of random walks.\n",
        "\n",
        "Function `__getitem__` takes an index of random walk and returns a tuple:\n",
        "\n",
        "* start node, torch.int64\n",
        "* context nodes, torch.tensor of the shape (number of context nodes)\n",
        "* paths to the context nodes excluding a leaf: torch.tensor of the shape (number of context nodes, depth). Padded with zeros if the depth is greater than the path length.\n",
        "* turns on the paths: torch.tensor of the shape (number of context nodes, depth). Padded with zeros if the depth is greater than the path length. Define the left turn as a link to the even unit.\n",
        "* training mask on the paths: torch.tensor of the shape (number of context nodes, depth)\n",
        "\n",
        "_Hint: use `nx.shortest_path(btree, 0, n)` to find a path from the root unit to the leaf `n` in the tree._"
      ]
    },
    {
      "cell_type": "code",
      "execution_count": null,
      "id": "cac4889a",
      "metadata": {
        "deletable": false,
        "id": "cac4889a",
        "nbgrader": {
          "cell_type": "code",
          "checksum": "c0cc9935a2395e5bc227fbeb197535d8",
          "grade": false,
          "grade_id": "cell-48de35ab799a5afd",
          "locked": false,
          "schema_version": 3,
          "solution": true,
          "task": false
        }
      },
      "outputs": [],
      "source": [
        "class NodePathDataset(Dataset):\n",
        "    def __init__(self, rwalks, btree, depth):\n",
        "        self.start_nodes = torch.tensor(rwalks[:, 0])\n",
        "        self.context = torch.tensor(rwalks[:, 1:])\n",
        "        self.paths = []\n",
        "        self.turns = []\n",
        "        self.masks = []\n",
        "\n",
        "        btree_array = nx.to_numpy_array(btree)\n",
        "        leaves = np.argwhere(btree_array.sum(axis=1) == 0).flatten()\n",
        "\n",
        "        for leaf in leaves:\n",
        "          full_path = nx.shortest_path(btree, 0, leaf)\n",
        "          path = full_path[:-1]\n",
        "          turn = [2 * (i % 2) - 1 for i in full_path[1:]]\n",
        "\n",
        "          pad = 0\n",
        "          if depth > len(path):\n",
        "            pad = depth - len(path)\n",
        "            path = np.pad(path, (0, pad), 'constant', constant_values=0).tolist()\n",
        "            turn = np.pad(turn, (0, pad), 'constant', constant_values=0).tolist()\n",
        "\n",
        "          mask = np.ones(len(path))\n",
        "          mask[-pad:] = 0\n",
        "          mask = mask.tolist()\n",
        "          \n",
        "          self.paths.append(path)\n",
        "          self.turns.append(turn)\n",
        "          self.masks.append(mask)\n",
        "\n",
        "        self.paths = torch.tensor(self.paths)\n",
        "        self.turns = torch.tensor(self.turns)\n",
        "        self.masks = torch.tensor(self.masks)\n",
        "\n",
        "    def __len__(self):\n",
        "        return len(self.start_nodes)\n",
        "\n",
        "    def __getitem__(self, idx):\n",
        "        return (\n",
        "            self.start_nodes[idx], \n",
        "            self.context[idx], \n",
        "            self.paths[self.context[idx]], \n",
        "            self.turns[self.context[idx]], \n",
        "            self.masks[self.context[idx]]\n",
        "        )"
      ]
    },
    {
      "cell_type": "code",
      "execution_count": null,
      "id": "a76c831f",
      "metadata": {
        "deletable": false,
        "editable": false,
        "id": "a76c831f",
        "nbgrader": {
          "cell_type": "code",
          "checksum": "d8ce7f617444f4b2c156cc851907e46d",
          "grade": true,
          "grade_id": "cell-41adebff43c8f34d",
          "locked": true,
          "points": 1,
          "schema_version": 3,
          "solution": false,
          "task": false
        }
      },
      "outputs": [],
      "source": [
        "depth = 12\n",
        "dataset = NodePathDataset(rwalks, btree, depth)\n",
        "start_node, context, paths, turns, masks = dataset[0]\n",
        "assert start_node.shape == ()\n",
        "assert context.shape == (4,)\n",
        "assert paths.shape == turns.shape == masks.shape == (4, 12)\n",
        "assert start_node == 0\n",
        "leaves = [n for n in btree.nodes if btree.degree[n] == 1]\n",
        "shortest_path = nx.shortest_path(btree, 0, leaves[context[1]])[:-1]\n",
        "mask = [1] * len(shortest_path)\n",
        "if len(shortest_path) < depth:\n",
        "    n_extra_units = depth - len(shortest_path)\n",
        "    shortest_path = shortest_path + [0] * n_extra_units\n",
        "    mask = mask + [0] * n_extra_units\n",
        "assert np.all(shortest_path == paths[1].numpy())\n",
        "assert np.all(mask == masks[1].numpy())"
      ]
    },
    {
      "cell_type": "code",
      "execution_count": null,
      "id": "4e6cda22",
      "metadata": {
        "colab": {
          "base_uri": "https://localhost:8080/"
        },
        "id": "4e6cda22",
        "outputId": "0a36c7a5-852b-4d31-85aa-e6352ede9db5"
      },
      "outputs": [],
      "source": [
        "dloader = DataLoader(dataset, batch_size=2)\n",
        "for start_nodes, context, paths, turns, masks in dloader:\n",
        "    break\n",
        "start_nodes.shape, context.shape, paths.shape, turns.shape, masks.shape"
      ]
    },
    {
      "cell_type": "markdown",
      "id": "a2b1beb2",
      "metadata": {
        "id": "a2b1beb2"
      },
      "source": [
        "Write a function `hierarchical_softmax_loss` that takes vectors $v$, $u$ and returns the hierarchical softmax loss before reduction $\\frac{1}{|V|\\times N} \\sum_{i=1}^{|V|\\times N} \\sum_{j=1}^L$.\n",
        "\n",
        "_Remark: to prevent $-\\infty$ in log, add $\\varepsilon=1^{-6}$ as follows `torch.log(x + 1e-6)`_"
      ]
    },
    {
      "cell_type": "code",
      "execution_count": null,
      "id": "5414c3c4",
      "metadata": {
        "deletable": false,
        "id": "5414c3c4",
        "nbgrader": {
          "cell_type": "code",
          "checksum": "2d24227f9a5b502d535b0beff12e17f1",
          "grade": false,
          "grade_id": "cell-5580ea00c3649ace",
          "locked": false,
          "schema_version": 3,
          "solution": true,
          "task": false
        }
      },
      "outputs": [],
      "source": [
        "def hierarchical_softmax_loss(v, u, turns, masks):\n",
        "  #X = v @ u.transpose(0, 2).transpose(1, 2).transpose(2, 3)\n",
        "  #X = torch.diagonal(X, dim1=1, dim2=2).T\n",
        "  #X = turns * X\n",
        "\n",
        "  X = torch.cat([torch.diagonal(u[:,k,:,:] @ v.T, dim1=0, dim2=2)[None,:,:] for k in range(u.shape[1])], dim=0).T.transpose(1, 2)\n",
        "  X = turns * X\n",
        "\n",
        "  L = - torch.log(torch.sigmoid(X) + 1e-6) * masks\n",
        "  L = L.sum(axis=2)\n",
        "\n",
        "  return L"
      ]
    },
    {
      "cell_type": "code",
      "execution_count": null,
      "id": "152885f1",
      "metadata": {
        "deletable": false,
        "editable": false,
        "id": "152885f1",
        "nbgrader": {
          "cell_type": "code",
          "checksum": "77571345c5f803b3d52b802c082392e0",
          "grade": true,
          "grade_id": "cell-8c8320b2c7c030eb",
          "locked": true,
          "points": 1,
          "schema_version": 3,
          "solution": false,
          "task": false
        }
      },
      "outputs": [],
      "source": [
        "np.random.seed(0)\n",
        "start_node_emb = torch.randn(len(G), 16)\n",
        "path_emb = torch.randn(len(G) - 1, 16)\n",
        "v = start_node_emb[start_nodes]\n",
        "u = path_emb[paths]\n",
        "loss = hierarchical_softmax_loss(v, u, turns, masks)\n",
        "assert loss.shape == (2, 4)\n",
        "l = -torch.log(torch.sigmoid(torch.tensor([v[0] @ u[0, 0, i] * turns[0, 0, i] for i in range(12)])) + 1e-6) * masks[0, 0]\n",
        "assert round(l.sum().item(), 2) == round(loss[0, 0].item(), 2)"
      ]
    },
    {
      "cell_type": "markdown",
      "id": "8293ac98",
      "metadata": {
        "id": "8293ac98"
      },
      "source": [
        "Here is SkipGram model with hierarchical softmax. The number of vectors in `path_emb` is `n_nodes - 1`, since it can be shown that the number of units is equal to $|V|-1$."
      ]
    },
    {
      "cell_type": "code",
      "execution_count": null,
      "id": "d94223c4",
      "metadata": {
        "deletable": false,
        "editable": false,
        "id": "d94223c4",
        "nbgrader": {
          "cell_type": "code",
          "checksum": "8535c3166b0b7c5bc2e57ab2960ddc75",
          "grade": false,
          "grade_id": "cell-39c948726656b5ba",
          "locked": true,
          "schema_version": 3,
          "solution": false,
          "task": false
        }
      },
      "outputs": [],
      "source": [
        "class SkipGramHierarchicalSoftmax(nn.Module):\n",
        "    def __init__(self, n_nodes, dim):\n",
        "        super().__init__()\n",
        "        self.start_node_emb = nn.Embedding(n_nodes, dim)\n",
        "        self.path_emb = nn.Embedding(n_nodes - 1, dim)\n",
        "    def forward(self, start_nodes, paths, turns, masks):\n",
        "        v = self.start_node_emb(start_nodes)\n",
        "        u = self.path_emb(paths)\n",
        "        loss = hierarchical_softmax_loss(v, u, turns, masks)\n",
        "        return loss"
      ]
    },
    {
      "cell_type": "markdown",
      "id": "f4210a1d",
      "metadata": {
        "id": "f4210a1d"
      },
      "source": [
        "Train the model using Adam optimizer."
      ]
    },
    {
      "cell_type": "code",
      "execution_count": null,
      "id": "93dc26c6",
      "metadata": {
        "colab": {
          "base_uri": "https://localhost:8080/",
          "height": 462,
          "referenced_widgets": [
            "55d777a279bf472f8208554f72813bd3",
            "cd7c0802798f4f6da8bb6b2c01e328f6",
            "0cd8a9b4dd3e4f8a85d7531f72882d8e",
            "3b3b4379f37e4745b139e44f3d1bb3e0",
            "27c93567390b4af9b553df1c64626949",
            "0fc8c55eeff54c798eeb2baa9e355b41",
            "33dab8f3ce9c47c6891ca0417a5d50c5",
            "e3daf5301dcc4c459a9a70ffa20f658b",
            "06ee3e4f52c746b6bf968b656b1fedc6",
            "7e750f3a35c54f1bbb6bccc664f091e7",
            "8e368b5c86d747f6a727d488d9e887a5"
          ]
        },
        "id": "93dc26c6",
        "outputId": "0308a5cb-5fdc-4607-94ce-66cefbd6e10d"
      },
      "outputs": [],
      "source": [
        "sgmodel = SkipGramHierarchicalSoftmax(n_nodes=len(G), dim=16)\n",
        "epoch_loss = []\n",
        "opt = Adam(sgmodel.parameters(), lr=0.1)\n",
        "dloader = DataLoader(dataset, batch_size=len(G))\n",
        "for epoch in trange(50):\n",
        "    for start_nodes, context, paths, turns, masks in dloader:\n",
        "        loss = sgmodel(start_nodes, paths, turns, masks).sum(dim=1).mean()\n",
        "        opt.zero_grad()\n",
        "        loss.backward()\n",
        "        opt.step()\n",
        "    epoch_loss.append(loss.item())\n",
        "plt.plot(epoch_loss);"
      ]
    },
    {
      "cell_type": "markdown",
      "id": "5dfb45c8",
      "metadata": {
        "id": "5dfb45c8"
      },
      "source": [
        "Evaluate the model by mutual information between ground truth labels and cluster indices."
      ]
    },
    {
      "cell_type": "code",
      "execution_count": null,
      "id": "ea4a3750",
      "metadata": {
        "deletable": false,
        "editable": false,
        "id": "ea4a3750",
        "nbgrader": {
          "cell_type": "code",
          "checksum": "163de70b349c978e9503141a12c90a5e",
          "grade": true,
          "grade_id": "cell-736c8f9bf1ffccd8",
          "locked": true,
          "points": 1,
          "schema_version": 3,
          "solution": false,
          "task": false
        }
      },
      "outputs": [],
      "source": [
        "with torch.no_grad():\n",
        "    emb = sgmodel.start_node_emb(torch.arange(len(G)))\n",
        "_, pred_labels, _ = k_means(emb, n_clusters=8)\n",
        "mi = mutual_info_score(labels, pred_labels)\n",
        "assert mi > 0.15"
      ]
    },
    {
      "cell_type": "markdown",
      "id": "3856477c",
      "metadata": {
        "id": "3856477c"
      },
      "source": [
        "Plot t-SNE visualization of node embeddings."
      ]
    },
    {
      "cell_type": "code",
      "execution_count": null,
      "id": "05cba718",
      "metadata": {
        "colab": {
          "base_uri": "https://localhost:8080/",
          "height": 699
        },
        "id": "05cba718",
        "outputId": "165c979e-39f5-4855-90cd-cf3253ed180e"
      },
      "outputs": [],
      "source": [
        "decomposition = TSNE(n_components=2)\n",
        "xy_emb = decomposition.fit_transform(emb)\n",
        "\n",
        "plt.figure(figsize=(8, 8))\n",
        "scatter = plt.scatter(xy_emb[:, 0], xy_emb[:, 1], c=labels, s=10, cmap=plt.cm.Set2)\n",
        "plt.legend(handles=scatter.legend_elements()[0], labels=unique)\n",
        "plt.title(f'MI: {mi:.4f}');"
      ]
    },
    {
      "cell_type": "markdown",
      "id": "61992831",
      "metadata": {
        "id": "61992831"
      },
      "source": [
        "The hierarchical softmax can be improved by building a binary tree where hubs are closer to the root unit. In this task we have used the randomly builded binary tree and we can see that it works pretty well with respect to negative sampling."
      ]
    },
    {
      "cell_type": "markdown",
      "id": "a5165809",
      "metadata": {
        "id": "a5165809"
      },
      "source": [
        "### Task 4. GraRep (3 points)"
      ]
    },
    {
      "cell_type": "markdown",
      "id": "72748b25",
      "metadata": {
        "id": "72748b25"
      },
      "source": [
        "The idea behind GraRep is to account for multiscale relationships between nodes. For example,a student can have 1-hop neighborhood of friends, 2-hop neighborhood of classmates, 3-hop neighborhood of society and so on.\n",
        "\n",
        "<img src=\"https://raw.githubusercontent.com/netspractice/network-science/main/images/multiscale_relationships.png\" width=350>\n",
        "\n",
        "Unlike DeepWalk, GraRep defines different objective functions for capturing the different $k$-step local relational information by manipulating transition matrices in the $k$-th powers defined over the graph. Recall that the transition matrix is $P = D^{-1}A$ where $D$ is a degree matrix. $P_{ij}$ refers to a probability to move from the node $i$ to the node $j$ in one step of a random walk. Therefore, $P^k_{ij}$ is a probability to move from the node $i$ to the node $j$ in $k$ steps of a random walk. "
      ]
    },
    {
      "cell_type": "markdown",
      "id": "bad6b5b8",
      "metadata": {
        "id": "bad6b5b8"
      },
      "source": [
        "Write a function `csr_transition_matrix` that takes a graph and returns a transition matrix. To save memory and speed up the following calculation of powers, convert transition matrix to sparse format by `scipy.sparse.csr_matrix`."
      ]
    },
    {
      "cell_type": "code",
      "execution_count": null,
      "id": "4a7e55cb",
      "metadata": {
        "deletable": false,
        "id": "4a7e55cb",
        "nbgrader": {
          "cell_type": "code",
          "checksum": "bec7a132a8e91292a33f9ce803d9e648",
          "grade": false,
          "grade_id": "cell-f0ec11b1c4da2c21",
          "locked": false,
          "schema_version": 3,
          "solution": true,
          "task": false
        }
      },
      "outputs": [],
      "source": [
        "def csr_transition_matrix(G):\n",
        "    A = csr_matrix(nx.adjacency_matrix(G))\n",
        "    D1 = csr_matrix(np.diag(1. / np.array(A.sum(axis=0)).flatten()))\n",
        "    return D1 @ A"
      ]
    },
    {
      "cell_type": "code",
      "execution_count": null,
      "id": "a5752b27",
      "metadata": {
        "deletable": false,
        "editable": false,
        "id": "a5752b27",
        "nbgrader": {
          "cell_type": "code",
          "checksum": "89c5d34c88f598b589ecaf7c68858755",
          "grade": true,
          "grade_id": "cell-2d2f99d8bac11893",
          "locked": true,
          "points": 0.75,
          "schema_version": 3,
          "solution": false,
          "task": false
        }
      },
      "outputs": [],
      "source": [
        "P = csr_transition_matrix(G)\n",
        "assert type(P) == csr_matrix\n",
        "assert P.shape == (len(G), len(G))\n",
        "assert round(P[3, 9], 4) == 0.0417"
      ]
    },
    {
      "cell_type": "markdown",
      "id": "bb3ec83a",
      "metadata": {
        "id": "bb3ec83a"
      },
      "source": [
        "Similar to DeepWalk, there are two types of embeddings:\n",
        "* $v_i$ is a vector that represents the start node $i$\n",
        "* $u_j$ is a vector that represents the context node $j$\n",
        "\n",
        "Our objective aims to maximize: 1) the probability that these pairs come from the graph, and 2) the probability that all other pairs do not come from the graph (negative samples). The objective function for nodes $i, j$ in the transition matrix of the power $k$ is\n",
        "\n",
        "$$\\mathcal L^k_{ij} = P^k_{ij}\\log \\sigma(v_i^\\top u_j) + \\frac{\\lambda}{|V|}\\sum_{t=1}^{|V|}P^k_{tj}\\log \\sigma(-v_t^\\top u_j)$$\n",
        "\n",
        "where $\\lambda$ is the hyperparameter indicating the number of negative samples. Optimizing this objective makes observed pairs $(i, j)$ have similar embeddings, while scattering unobserved pairs $(t, j)$. Substitution $v_i^\\top u_j = X_{ij}$ and setting $\\frac{\\partial \\mathcal L_{ij}}{ \\partial X_{ij}} = 0$ yields\n",
        "\n",
        "$$v_i^\\top u_j = X_{ij}^k = \\log \\frac{P^k_{ij}}{\\sum_{t=1}^{|V|}P^k_{tj}} - \\log\\frac{\\lambda}{|V|}$$"
      ]
    },
    {
      "cell_type": "markdown",
      "id": "60e520ce",
      "metadata": {
        "id": "60e520ce"
      },
      "source": [
        "Let us call $X^k$ log probabilistic matrix. Write a function `log_probabilistic_matrix` that takes a transition matrix, hyperparameter $\\lambda$ and returns a log probabilistic matrix.\n",
        "\n",
        "_Remark: to prevent $-\\infty$ in log, add $\\varepsilon=1^{-6}$ as follows `np.log(x + 1e-6)`_"
      ]
    },
    {
      "cell_type": "code",
      "execution_count": null,
      "id": "fc40f12a",
      "metadata": {
        "deletable": false,
        "id": "fc40f12a",
        "nbgrader": {
          "cell_type": "code",
          "checksum": "63684003d32189034bf77a52da99cd2b",
          "grade": false,
          "grade_id": "cell-c949fe784127c31a",
          "locked": false,
          "schema_version": 3,
          "solution": true,
          "task": false
        }
      },
      "outputs": [],
      "source": [
        "def log_probabilistic_matrix(P, lambd):\n",
        "    a = P / P.sum(axis=0)\n",
        "    logP = np.log(a + 1e-6)\n",
        "\n",
        "    b = lambd / P.shape[0]\n",
        "    logLambda = np.log(b + 1e-6)\n",
        "\n",
        "    return logP - logLambda"
      ]
    },
    {
      "cell_type": "code",
      "execution_count": null,
      "id": "0938d632",
      "metadata": {
        "deletable": false,
        "editable": false,
        "id": "0938d632",
        "nbgrader": {
          "cell_type": "code",
          "checksum": "f81afad0435cd21fc8814f7974fd775b",
          "grade": true,
          "grade_id": "cell-624f6d1384718d6f",
          "locked": true,
          "points": 0.75,
          "schema_version": 3,
          "solution": false,
          "task": false
        }
      },
      "outputs": [],
      "source": [
        "X = log_probabilistic_matrix(P, lambd=5)\n",
        "assert type(X) == np.matrix\n",
        "assert X.shape == (len(G), len(G))\n",
        "assert round(X[3, 9], 4) == 3.182"
      ]
    },
    {
      "cell_type": "markdown",
      "id": "f1c850d8",
      "metadata": {
        "id": "f1c850d8"
      },
      "source": [
        "The log probabilistic matrix $X^k$ can be approximated by truncated SVD so that\n",
        "\n",
        "$$X^k \\approx X_d^k = U_d^k \\Sigma_d^k (V_d^k)^\\top$$\n",
        "\n",
        "where $d$ is the number of singular values of truncated SVD. Thus, embeddings of start nodes can be obtained by \n",
        "\n",
        "$$v_i = \\left[U_d^k \\sqrt{\\Sigma_d^k}\\right]_i$$ \n",
        "\n",
        "and embeddings of context nodes by \n",
        "\n",
        "$$u_j = \\left[\\sqrt{\\Sigma_d^k} (V_d^k)^\\top\\right]_j$$ \n",
        "\n",
        "_Remark: the power 1/2 makes SVD symmetric. It is empirically shown that the symmetric SVD is better for social graphs and makes embeddings more \"similar\" to corresponding embeddings of SkipGram with negative sampling in a sense of some matrix properties._"
      ]
    },
    {
      "cell_type": "markdown",
      "id": "108f74d7",
      "metadata": {
        "id": "108f74d7"
      },
      "source": [
        "Write a function `svd_emb` that takes a log probabilistic matrix, number of dimensions (number of largest singular values) in truncated SVD and returns embeddings of start nodes.\n",
        "\n",
        "_Hint: use `scipy.sparse.linalg.svds` to calculate truncated SVD for a given number of singular values._"
      ]
    },
    {
      "cell_type": "code",
      "execution_count": null,
      "id": "93cf648d",
      "metadata": {
        "deletable": false,
        "id": "93cf648d",
        "nbgrader": {
          "cell_type": "code",
          "checksum": "64aa1dc62ca5b5035ec1eedfc7372ab7",
          "grade": false,
          "grade_id": "cell-683cb8f26df5fd3a",
          "locked": false,
          "schema_version": 3,
          "solution": true,
          "task": false
        }
      },
      "outputs": [],
      "source": [
        "from scipy.linalg import fractional_matrix_power\n",
        "\n",
        "def svd_emb(X, dim):\n",
        "  u, s, vT = svds(X, dim)\n",
        "\n",
        "  V = u @ fractional_matrix_power(np.diag(s), 0.5)\n",
        "  #U = fractional_matrix_power(np.diag(s), 0.5) @ vT\n",
        "  #U = U.T\n",
        "\n",
        "  return V"
      ]
    },
    {
      "cell_type": "code",
      "execution_count": null,
      "id": "8ff0f161",
      "metadata": {
        "deletable": false,
        "editable": false,
        "id": "8ff0f161",
        "nbgrader": {
          "cell_type": "code",
          "checksum": "b79ac0db377db5bae1f2923b7877e2dc",
          "grade": true,
          "grade_id": "cell-426bb9037fe96aba",
          "locked": true,
          "points": 0.75,
          "schema_version": 3,
          "solution": false,
          "task": false
        }
      },
      "outputs": [],
      "source": [
        "_emb = svd_emb(X, dim=4)\n",
        "assert type(_emb) == np.ndarray\n",
        "assert _emb.shape == (3873, 4)"
      ]
    },
    {
      "cell_type": "markdown",
      "id": "e4c32e06",
      "metadata": {
        "id": "e4c32e06"
      },
      "source": [
        "\n",
        "The resulting node embeddings are concatenated from the log probabilistic matrices $X, X^2, ..., X^k$.\n",
        "\n",
        "In `grarep_emb`, we calculate powers of transition matrix $P, P^2, \\dots, P^k$, calculate and concatenate embeddings of start nodes, then we compress them to the original number of dimensions by PCA."
      ]
    },
    {
      "cell_type": "code",
      "execution_count": null,
      "id": "f1f0f5f9",
      "metadata": {
        "deletable": false,
        "editable": false,
        "id": "f1f0f5f9",
        "nbgrader": {
          "cell_type": "code",
          "checksum": "08744ba53988cb545f953cce607f67c6",
          "grade": false,
          "grade_id": "cell-fe1d6156e8d730ad",
          "locked": true,
          "schema_version": 3,
          "solution": false,
          "task": false
        }
      },
      "outputs": [],
      "source": [
        "def grarep_emb(G, dim, k, lambd):\n",
        "    emb = []\n",
        "    P_1 = csr_transition_matrix(G)\n",
        "    P = P_1.copy()\n",
        "    for i in trange(k):\n",
        "        X = log_probabilistic_matrix(P, lambd=lambd)\n",
        "        _emb = svd_emb(X, dim=dim)\n",
        "        emb.append(_emb)\n",
        "        if i == (k - 1):\n",
        "            continue\n",
        "        P = P @ P_1\n",
        "    emb = PCA(n_components=dim).fit_transform(np.concatenate(emb, axis=1))\n",
        "    return emb"
      ]
    },
    {
      "cell_type": "markdown",
      "id": "d6658d3a",
      "metadata": {
        "id": "d6658d3a"
      },
      "source": [
        "Finally, we evaluate the model by mutual information between ground truth labels and cluster indices."
      ]
    },
    {
      "cell_type": "code",
      "execution_count": null,
      "id": "653f01d7",
      "metadata": {
        "colab": {
          "base_uri": "https://localhost:8080/",
          "height": 49,
          "referenced_widgets": [
            "8c387ad600124b34b0ad8a13071c9c61",
            "057d61744d7b40158a247d1e5d4452e5",
            "5f241825e6824160b1a428b42c6f5d82",
            "2d042a3adc7f4a5fa5d389e8ef2738a2",
            "86c7709d472d49d8a059846e14991f48",
            "7a992538c0694c1fb70a83649f2ebe43",
            "88d50ae7924e4d0e847eb6ac20d194f1",
            "f850f4fdd81a4502ae867aa794ff9283",
            "d2f6d4697f3643c097467ea818d0264d",
            "6aeb08607ff348f6bce4ad85d2f781d5",
            "694b6808e2844571aa538f28810896a2"
          ]
        },
        "deletable": false,
        "editable": false,
        "id": "653f01d7",
        "nbgrader": {
          "cell_type": "code",
          "checksum": "a8be8f00f7fc401b45409cd399e91d28",
          "grade": true,
          "grade_id": "cell-a016b73d556e34c9",
          "locked": true,
          "points": 0.75,
          "schema_version": 3,
          "solution": false,
          "task": false
        },
        "outputId": "8d786b82-8915-4c58-a2f9-8adeb06d34a4"
      },
      "outputs": [],
      "source": [
        "emb = grarep_emb(G, dim=16, k=4, lambd=5)\n",
        "assert emb.shape == (len(G), 16)\n",
        "_, pred_labels, _ = k_means(emb, n_clusters=8)\n",
        "mi = mutual_info_score(labels, pred_labels)\n",
        "assert mi > 0.22"
      ]
    },
    {
      "cell_type": "markdown",
      "id": "0bc7d3f1",
      "metadata": {
        "id": "0bc7d3f1"
      },
      "source": [
        "Plot t-SNE visualization of node embeddings."
      ]
    },
    {
      "cell_type": "code",
      "execution_count": null,
      "id": "5afc7097",
      "metadata": {
        "colab": {
          "base_uri": "https://localhost:8080/",
          "height": 699
        },
        "id": "5afc7097",
        "outputId": "a1f9451a-ef22-427f-a3df-424101ca10e2"
      },
      "outputs": [],
      "source": [
        "decomposition = TSNE(n_components=2)\n",
        "xy_emb = decomposition.fit_transform(emb)\n",
        "\n",
        "plt.figure(figsize=(8, 8))\n",
        "scatter = plt.scatter(xy_emb[:, 0], xy_emb[:, 1], c=labels, s=10, cmap=plt.cm.Set2)\n",
        "plt.legend(handles=scatter.legend_elements()[0], labels=unique)\n",
        "plt.title(f'MI: {mi:.4f}');"
      ]
    },
    {
      "cell_type": "code",
      "execution_count": null,
      "id": "b4c8ec86",
      "metadata": {
        "id": "b4c8ec86"
      },
      "outputs": [],
      "source": []
    }
  ],
  "metadata": {
    "accelerator": "GPU",
    "colab": {
      "provenance": []
    },
    "gpuClass": "standard",
    "kernelspec": {
      "display_name": "Python 3",
      "language": "python",
      "name": "python3"
    },
    "language_info": {
      "codemirror_mode": {
        "name": "ipython",
        "version": 3
      },
      "file_extension": ".py",
      "mimetype": "text/x-python",
      "name": "python",
      "nbconvert_exporter": "python",
      "pygments_lexer": "ipython3",
      "version": "3.9.7"
    },
    "widgets": {
      "application/vnd.jupyter.widget-state+json": {
        "01988487a61247e7b9c1b0e90ff31f67": {
          "model_module": "@jupyter-widgets/controls",
          "model_module_version": "1.5.0",
          "model_name": "FloatProgressModel",
          "state": {
            "_dom_classes": [],
            "_model_module": "@jupyter-widgets/controls",
            "_model_module_version": "1.5.0",
            "_model_name": "FloatProgressModel",
            "_view_count": null,
            "_view_module": "@jupyter-widgets/controls",
            "_view_module_version": "1.5.0",
            "_view_name": "ProgressView",
            "bar_style": "success",
            "description": "",
            "description_tooltip": null,
            "layout": "IPY_MODEL_ae0fae46a1d0422eb032824885729326",
            "max": 50,
            "min": 0,
            "orientation": "horizontal",
            "style": "IPY_MODEL_d3763c02cfcc4ed4ad3093f9d34f227f",
            "value": 50
          }
        },
        "057d61744d7b40158a247d1e5d4452e5": {
          "model_module": "@jupyter-widgets/controls",
          "model_module_version": "1.5.0",
          "model_name": "HTMLModel",
          "state": {
            "_dom_classes": [],
            "_model_module": "@jupyter-widgets/controls",
            "_model_module_version": "1.5.0",
            "_model_name": "HTMLModel",
            "_view_count": null,
            "_view_module": "@jupyter-widgets/controls",
            "_view_module_version": "1.5.0",
            "_view_name": "HTMLView",
            "description": "",
            "description_tooltip": null,
            "layout": "IPY_MODEL_7a992538c0694c1fb70a83649f2ebe43",
            "placeholder": "​",
            "style": "IPY_MODEL_88d50ae7924e4d0e847eb6ac20d194f1",
            "value": "100%"
          }
        },
        "06ee3e4f52c746b6bf968b656b1fedc6": {
          "model_module": "@jupyter-widgets/controls",
          "model_module_version": "1.5.0",
          "model_name": "ProgressStyleModel",
          "state": {
            "_model_module": "@jupyter-widgets/controls",
            "_model_module_version": "1.5.0",
            "_model_name": "ProgressStyleModel",
            "_view_count": null,
            "_view_module": "@jupyter-widgets/base",
            "_view_module_version": "1.2.0",
            "_view_name": "StyleView",
            "bar_color": null,
            "description_width": ""
          }
        },
        "0ca84b300ca644dba33255e03a762be4": {
          "model_module": "@jupyter-widgets/controls",
          "model_module_version": "1.5.0",
          "model_name": "HBoxModel",
          "state": {
            "_dom_classes": [],
            "_model_module": "@jupyter-widgets/controls",
            "_model_module_version": "1.5.0",
            "_model_name": "HBoxModel",
            "_view_count": null,
            "_view_module": "@jupyter-widgets/controls",
            "_view_module_version": "1.5.0",
            "_view_name": "HBoxView",
            "box_style": "",
            "children": [
              "IPY_MODEL_f9f3958822be4cda83a05cf0de5f7c15",
              "IPY_MODEL_ec44a3356df145e29a0aac9cd43efefb",
              "IPY_MODEL_1110b761c58343c49d1dea28447884d2"
            ],
            "layout": "IPY_MODEL_e85724ddc5844097a79eb81ccfc9d4bf"
          }
        },
        "0cd8a9b4dd3e4f8a85d7531f72882d8e": {
          "model_module": "@jupyter-widgets/controls",
          "model_module_version": "1.5.0",
          "model_name": "FloatProgressModel",
          "state": {
            "_dom_classes": [],
            "_model_module": "@jupyter-widgets/controls",
            "_model_module_version": "1.5.0",
            "_model_name": "FloatProgressModel",
            "_view_count": null,
            "_view_module": "@jupyter-widgets/controls",
            "_view_module_version": "1.5.0",
            "_view_name": "ProgressView",
            "bar_style": "success",
            "description": "",
            "description_tooltip": null,
            "layout": "IPY_MODEL_e3daf5301dcc4c459a9a70ffa20f658b",
            "max": 50,
            "min": 0,
            "orientation": "horizontal",
            "style": "IPY_MODEL_06ee3e4f52c746b6bf968b656b1fedc6",
            "value": 50
          }
        },
        "0fc8c55eeff54c798eeb2baa9e355b41": {
          "model_module": "@jupyter-widgets/base",
          "model_module_version": "1.2.0",
          "model_name": "LayoutModel",
          "state": {
            "_model_module": "@jupyter-widgets/base",
            "_model_module_version": "1.2.0",
            "_model_name": "LayoutModel",
            "_view_count": null,
            "_view_module": "@jupyter-widgets/base",
            "_view_module_version": "1.2.0",
            "_view_name": "LayoutView",
            "align_content": null,
            "align_items": null,
            "align_self": null,
            "border": null,
            "bottom": null,
            "display": null,
            "flex": null,
            "flex_flow": null,
            "grid_area": null,
            "grid_auto_columns": null,
            "grid_auto_flow": null,
            "grid_auto_rows": null,
            "grid_column": null,
            "grid_gap": null,
            "grid_row": null,
            "grid_template_areas": null,
            "grid_template_columns": null,
            "grid_template_rows": null,
            "height": null,
            "justify_content": null,
            "justify_items": null,
            "left": null,
            "margin": null,
            "max_height": null,
            "max_width": null,
            "min_height": null,
            "min_width": null,
            "object_fit": null,
            "object_position": null,
            "order": null,
            "overflow": null,
            "overflow_x": null,
            "overflow_y": null,
            "padding": null,
            "right": null,
            "top": null,
            "visibility": null,
            "width": null
          }
        },
        "1110b761c58343c49d1dea28447884d2": {
          "model_module": "@jupyter-widgets/controls",
          "model_module_version": "1.5.0",
          "model_name": "HTMLModel",
          "state": {
            "_dom_classes": [],
            "_model_module": "@jupyter-widgets/controls",
            "_model_module_version": "1.5.0",
            "_model_name": "HTMLModel",
            "_view_count": null,
            "_view_module": "@jupyter-widgets/controls",
            "_view_module_version": "1.5.0",
            "_view_name": "HTMLView",
            "description": "",
            "description_tooltip": null,
            "layout": "IPY_MODEL_89ff1afac4fa40369b244aece1d3ba2d",
            "placeholder": "​",
            "style": "IPY_MODEL_790a038c63cd44c9b5ba487c4a9e2296",
            "value": " 50/50 [32:26&lt;00:00, 39.71s/it]"
          }
        },
        "242e4c0a60a44c25a4434d1b6ffc6518": {
          "model_module": "@jupyter-widgets/controls",
          "model_module_version": "1.5.0",
          "model_name": "DescriptionStyleModel",
          "state": {
            "_model_module": "@jupyter-widgets/controls",
            "_model_module_version": "1.5.0",
            "_model_name": "DescriptionStyleModel",
            "_view_count": null,
            "_view_module": "@jupyter-widgets/base",
            "_view_module_version": "1.2.0",
            "_view_name": "StyleView",
            "description_width": ""
          }
        },
        "24badcd972e34548850b9e49f9651793": {
          "model_module": "@jupyter-widgets/base",
          "model_module_version": "1.2.0",
          "model_name": "LayoutModel",
          "state": {
            "_model_module": "@jupyter-widgets/base",
            "_model_module_version": "1.2.0",
            "_model_name": "LayoutModel",
            "_view_count": null,
            "_view_module": "@jupyter-widgets/base",
            "_view_module_version": "1.2.0",
            "_view_name": "LayoutView",
            "align_content": null,
            "align_items": null,
            "align_self": null,
            "border": null,
            "bottom": null,
            "display": null,
            "flex": null,
            "flex_flow": null,
            "grid_area": null,
            "grid_auto_columns": null,
            "grid_auto_flow": null,
            "grid_auto_rows": null,
            "grid_column": null,
            "grid_gap": null,
            "grid_row": null,
            "grid_template_areas": null,
            "grid_template_columns": null,
            "grid_template_rows": null,
            "height": null,
            "justify_content": null,
            "justify_items": null,
            "left": null,
            "margin": null,
            "max_height": null,
            "max_width": null,
            "min_height": null,
            "min_width": null,
            "object_fit": null,
            "object_position": null,
            "order": null,
            "overflow": null,
            "overflow_x": null,
            "overflow_y": null,
            "padding": null,
            "right": null,
            "top": null,
            "visibility": null,
            "width": null
          }
        },
        "278e7eef0bf04b1482c017f2e4bd496c": {
          "model_module": "@jupyter-widgets/controls",
          "model_module_version": "1.5.0",
          "model_name": "HBoxModel",
          "state": {
            "_dom_classes": [],
            "_model_module": "@jupyter-widgets/controls",
            "_model_module_version": "1.5.0",
            "_model_name": "HBoxModel",
            "_view_count": null,
            "_view_module": "@jupyter-widgets/controls",
            "_view_module_version": "1.5.0",
            "_view_name": "HBoxView",
            "box_style": "",
            "children": [
              "IPY_MODEL_82b8285c94a34ff58eb02590448c49d4",
              "IPY_MODEL_fdf29c8995ca4baca24e00f109151e2e",
              "IPY_MODEL_cdf3d122d80341c0af00288211cfe165"
            ],
            "layout": "IPY_MODEL_931981ed250e4ace835c825db9c82e0e"
          }
        },
        "27c93567390b4af9b553df1c64626949": {
          "model_module": "@jupyter-widgets/base",
          "model_module_version": "1.2.0",
          "model_name": "LayoutModel",
          "state": {
            "_model_module": "@jupyter-widgets/base",
            "_model_module_version": "1.2.0",
            "_model_name": "LayoutModel",
            "_view_count": null,
            "_view_module": "@jupyter-widgets/base",
            "_view_module_version": "1.2.0",
            "_view_name": "LayoutView",
            "align_content": null,
            "align_items": null,
            "align_self": null,
            "border": null,
            "bottom": null,
            "display": null,
            "flex": null,
            "flex_flow": null,
            "grid_area": null,
            "grid_auto_columns": null,
            "grid_auto_flow": null,
            "grid_auto_rows": null,
            "grid_column": null,
            "grid_gap": null,
            "grid_row": null,
            "grid_template_areas": null,
            "grid_template_columns": null,
            "grid_template_rows": null,
            "height": null,
            "justify_content": null,
            "justify_items": null,
            "left": null,
            "margin": null,
            "max_height": null,
            "max_width": null,
            "min_height": null,
            "min_width": null,
            "object_fit": null,
            "object_position": null,
            "order": null,
            "overflow": null,
            "overflow_x": null,
            "overflow_y": null,
            "padding": null,
            "right": null,
            "top": null,
            "visibility": null,
            "width": null
          }
        },
        "2c2d159111ea4735a50278fd86fb9019": {
          "model_module": "@jupyter-widgets/base",
          "model_module_version": "1.2.0",
          "model_name": "LayoutModel",
          "state": {
            "_model_module": "@jupyter-widgets/base",
            "_model_module_version": "1.2.0",
            "_model_name": "LayoutModel",
            "_view_count": null,
            "_view_module": "@jupyter-widgets/base",
            "_view_module_version": "1.2.0",
            "_view_name": "LayoutView",
            "align_content": null,
            "align_items": null,
            "align_self": null,
            "border": null,
            "bottom": null,
            "display": null,
            "flex": null,
            "flex_flow": null,
            "grid_area": null,
            "grid_auto_columns": null,
            "grid_auto_flow": null,
            "grid_auto_rows": null,
            "grid_column": null,
            "grid_gap": null,
            "grid_row": null,
            "grid_template_areas": null,
            "grid_template_columns": null,
            "grid_template_rows": null,
            "height": null,
            "justify_content": null,
            "justify_items": null,
            "left": null,
            "margin": null,
            "max_height": null,
            "max_width": null,
            "min_height": null,
            "min_width": null,
            "object_fit": null,
            "object_position": null,
            "order": null,
            "overflow": null,
            "overflow_x": null,
            "overflow_y": null,
            "padding": null,
            "right": null,
            "top": null,
            "visibility": null,
            "width": null
          }
        },
        "2d042a3adc7f4a5fa5d389e8ef2738a2": {
          "model_module": "@jupyter-widgets/controls",
          "model_module_version": "1.5.0",
          "model_name": "HTMLModel",
          "state": {
            "_dom_classes": [],
            "_model_module": "@jupyter-widgets/controls",
            "_model_module_version": "1.5.0",
            "_model_name": "HTMLModel",
            "_view_count": null,
            "_view_module": "@jupyter-widgets/controls",
            "_view_module_version": "1.5.0",
            "_view_name": "HTMLView",
            "description": "",
            "description_tooltip": null,
            "layout": "IPY_MODEL_6aeb08607ff348f6bce4ad85d2f781d5",
            "placeholder": "​",
            "style": "IPY_MODEL_694b6808e2844571aa538f28810896a2",
            "value": " 4/4 [00:11&lt;00:00,  2.75s/it]"
          }
        },
        "33dab8f3ce9c47c6891ca0417a5d50c5": {
          "model_module": "@jupyter-widgets/controls",
          "model_module_version": "1.5.0",
          "model_name": "DescriptionStyleModel",
          "state": {
            "_model_module": "@jupyter-widgets/controls",
            "_model_module_version": "1.5.0",
            "_model_name": "DescriptionStyleModel",
            "_view_count": null,
            "_view_module": "@jupyter-widgets/base",
            "_view_module_version": "1.2.0",
            "_view_name": "StyleView",
            "description_width": ""
          }
        },
        "3b3b4379f37e4745b139e44f3d1bb3e0": {
          "model_module": "@jupyter-widgets/controls",
          "model_module_version": "1.5.0",
          "model_name": "HTMLModel",
          "state": {
            "_dom_classes": [],
            "_model_module": "@jupyter-widgets/controls",
            "_model_module_version": "1.5.0",
            "_model_name": "HTMLModel",
            "_view_count": null,
            "_view_module": "@jupyter-widgets/controls",
            "_view_module_version": "1.5.0",
            "_view_name": "HTMLView",
            "description": "",
            "description_tooltip": null,
            "layout": "IPY_MODEL_7e750f3a35c54f1bbb6bccc664f091e7",
            "placeholder": "​",
            "style": "IPY_MODEL_8e368b5c86d747f6a727d488d9e887a5",
            "value": " 50/50 [43:34&lt;00:00, 52.32s/it]"
          }
        },
        "559ef1f22f3b4d628d3a70b2b9a70814": {
          "model_module": "@jupyter-widgets/controls",
          "model_module_version": "1.5.0",
          "model_name": "DescriptionStyleModel",
          "state": {
            "_model_module": "@jupyter-widgets/controls",
            "_model_module_version": "1.5.0",
            "_model_name": "DescriptionStyleModel",
            "_view_count": null,
            "_view_module": "@jupyter-widgets/base",
            "_view_module_version": "1.2.0",
            "_view_name": "StyleView",
            "description_width": ""
          }
        },
        "55d777a279bf472f8208554f72813bd3": {
          "model_module": "@jupyter-widgets/controls",
          "model_module_version": "1.5.0",
          "model_name": "HBoxModel",
          "state": {
            "_dom_classes": [],
            "_model_module": "@jupyter-widgets/controls",
            "_model_module_version": "1.5.0",
            "_model_name": "HBoxModel",
            "_view_count": null,
            "_view_module": "@jupyter-widgets/controls",
            "_view_module_version": "1.5.0",
            "_view_name": "HBoxView",
            "box_style": "",
            "children": [
              "IPY_MODEL_cd7c0802798f4f6da8bb6b2c01e328f6",
              "IPY_MODEL_0cd8a9b4dd3e4f8a85d7531f72882d8e",
              "IPY_MODEL_3b3b4379f37e4745b139e44f3d1bb3e0"
            ],
            "layout": "IPY_MODEL_27c93567390b4af9b553df1c64626949"
          }
        },
        "59ef2cbeb53a406caa26734fc8a54d38": {
          "model_module": "@jupyter-widgets/base",
          "model_module_version": "1.2.0",
          "model_name": "LayoutModel",
          "state": {
            "_model_module": "@jupyter-widgets/base",
            "_model_module_version": "1.2.0",
            "_model_name": "LayoutModel",
            "_view_count": null,
            "_view_module": "@jupyter-widgets/base",
            "_view_module_version": "1.2.0",
            "_view_name": "LayoutView",
            "align_content": null,
            "align_items": null,
            "align_self": null,
            "border": null,
            "bottom": null,
            "display": null,
            "flex": null,
            "flex_flow": null,
            "grid_area": null,
            "grid_auto_columns": null,
            "grid_auto_flow": null,
            "grid_auto_rows": null,
            "grid_column": null,
            "grid_gap": null,
            "grid_row": null,
            "grid_template_areas": null,
            "grid_template_columns": null,
            "grid_template_rows": null,
            "height": null,
            "justify_content": null,
            "justify_items": null,
            "left": null,
            "margin": null,
            "max_height": null,
            "max_width": null,
            "min_height": null,
            "min_width": null,
            "object_fit": null,
            "object_position": null,
            "order": null,
            "overflow": null,
            "overflow_x": null,
            "overflow_y": null,
            "padding": null,
            "right": null,
            "top": null,
            "visibility": null,
            "width": null
          }
        },
        "5f241825e6824160b1a428b42c6f5d82": {
          "model_module": "@jupyter-widgets/controls",
          "model_module_version": "1.5.0",
          "model_name": "FloatProgressModel",
          "state": {
            "_dom_classes": [],
            "_model_module": "@jupyter-widgets/controls",
            "_model_module_version": "1.5.0",
            "_model_name": "FloatProgressModel",
            "_view_count": null,
            "_view_module": "@jupyter-widgets/controls",
            "_view_module_version": "1.5.0",
            "_view_name": "ProgressView",
            "bar_style": "success",
            "description": "",
            "description_tooltip": null,
            "layout": "IPY_MODEL_f850f4fdd81a4502ae867aa794ff9283",
            "max": 4,
            "min": 0,
            "orientation": "horizontal",
            "style": "IPY_MODEL_d2f6d4697f3643c097467ea818d0264d",
            "value": 4
          }
        },
        "648d211cf62c4c41a04f66418df041ff": {
          "model_module": "@jupyter-widgets/base",
          "model_module_version": "1.2.0",
          "model_name": "LayoutModel",
          "state": {
            "_model_module": "@jupyter-widgets/base",
            "_model_module_version": "1.2.0",
            "_model_name": "LayoutModel",
            "_view_count": null,
            "_view_module": "@jupyter-widgets/base",
            "_view_module_version": "1.2.0",
            "_view_name": "LayoutView",
            "align_content": null,
            "align_items": null,
            "align_self": null,
            "border": null,
            "bottom": null,
            "display": null,
            "flex": null,
            "flex_flow": null,
            "grid_area": null,
            "grid_auto_columns": null,
            "grid_auto_flow": null,
            "grid_auto_rows": null,
            "grid_column": null,
            "grid_gap": null,
            "grid_row": null,
            "grid_template_areas": null,
            "grid_template_columns": null,
            "grid_template_rows": null,
            "height": null,
            "justify_content": null,
            "justify_items": null,
            "left": null,
            "margin": null,
            "max_height": null,
            "max_width": null,
            "min_height": null,
            "min_width": null,
            "object_fit": null,
            "object_position": null,
            "order": null,
            "overflow": null,
            "overflow_x": null,
            "overflow_y": null,
            "padding": null,
            "right": null,
            "top": null,
            "visibility": null,
            "width": null
          }
        },
        "694b6808e2844571aa538f28810896a2": {
          "model_module": "@jupyter-widgets/controls",
          "model_module_version": "1.5.0",
          "model_name": "DescriptionStyleModel",
          "state": {
            "_model_module": "@jupyter-widgets/controls",
            "_model_module_version": "1.5.0",
            "_model_name": "DescriptionStyleModel",
            "_view_count": null,
            "_view_module": "@jupyter-widgets/base",
            "_view_module_version": "1.2.0",
            "_view_name": "StyleView",
            "description_width": ""
          }
        },
        "6aeb08607ff348f6bce4ad85d2f781d5": {
          "model_module": "@jupyter-widgets/base",
          "model_module_version": "1.2.0",
          "model_name": "LayoutModel",
          "state": {
            "_model_module": "@jupyter-widgets/base",
            "_model_module_version": "1.2.0",
            "_model_name": "LayoutModel",
            "_view_count": null,
            "_view_module": "@jupyter-widgets/base",
            "_view_module_version": "1.2.0",
            "_view_name": "LayoutView",
            "align_content": null,
            "align_items": null,
            "align_self": null,
            "border": null,
            "bottom": null,
            "display": null,
            "flex": null,
            "flex_flow": null,
            "grid_area": null,
            "grid_auto_columns": null,
            "grid_auto_flow": null,
            "grid_auto_rows": null,
            "grid_column": null,
            "grid_gap": null,
            "grid_row": null,
            "grid_template_areas": null,
            "grid_template_columns": null,
            "grid_template_rows": null,
            "height": null,
            "justify_content": null,
            "justify_items": null,
            "left": null,
            "margin": null,
            "max_height": null,
            "max_width": null,
            "min_height": null,
            "min_width": null,
            "object_fit": null,
            "object_position": null,
            "order": null,
            "overflow": null,
            "overflow_x": null,
            "overflow_y": null,
            "padding": null,
            "right": null,
            "top": null,
            "visibility": null,
            "width": null
          }
        },
        "6f5a414514b1495fbf23a4aac46b2ed7": {
          "model_module": "@jupyter-widgets/controls",
          "model_module_version": "1.5.0",
          "model_name": "HTMLModel",
          "state": {
            "_dom_classes": [],
            "_model_module": "@jupyter-widgets/controls",
            "_model_module_version": "1.5.0",
            "_model_name": "HTMLModel",
            "_view_count": null,
            "_view_module": "@jupyter-widgets/controls",
            "_view_module_version": "1.5.0",
            "_view_name": "HTMLView",
            "description": "",
            "description_tooltip": null,
            "layout": "IPY_MODEL_7a183f89170b4c23ad40de808c9f1961",
            "placeholder": "​",
            "style": "IPY_MODEL_dfd354fc1cfb436693ed994500b3973c",
            "value": " 50/50 [32:29&lt;00:00, 39.04s/it]"
          }
        },
        "790a038c63cd44c9b5ba487c4a9e2296": {
          "model_module": "@jupyter-widgets/controls",
          "model_module_version": "1.5.0",
          "model_name": "DescriptionStyleModel",
          "state": {
            "_model_module": "@jupyter-widgets/controls",
            "_model_module_version": "1.5.0",
            "_model_name": "DescriptionStyleModel",
            "_view_count": null,
            "_view_module": "@jupyter-widgets/base",
            "_view_module_version": "1.2.0",
            "_view_name": "StyleView",
            "description_width": ""
          }
        },
        "7a183f89170b4c23ad40de808c9f1961": {
          "model_module": "@jupyter-widgets/base",
          "model_module_version": "1.2.0",
          "model_name": "LayoutModel",
          "state": {
            "_model_module": "@jupyter-widgets/base",
            "_model_module_version": "1.2.0",
            "_model_name": "LayoutModel",
            "_view_count": null,
            "_view_module": "@jupyter-widgets/base",
            "_view_module_version": "1.2.0",
            "_view_name": "LayoutView",
            "align_content": null,
            "align_items": null,
            "align_self": null,
            "border": null,
            "bottom": null,
            "display": null,
            "flex": null,
            "flex_flow": null,
            "grid_area": null,
            "grid_auto_columns": null,
            "grid_auto_flow": null,
            "grid_auto_rows": null,
            "grid_column": null,
            "grid_gap": null,
            "grid_row": null,
            "grid_template_areas": null,
            "grid_template_columns": null,
            "grid_template_rows": null,
            "height": null,
            "justify_content": null,
            "justify_items": null,
            "left": null,
            "margin": null,
            "max_height": null,
            "max_width": null,
            "min_height": null,
            "min_width": null,
            "object_fit": null,
            "object_position": null,
            "order": null,
            "overflow": null,
            "overflow_x": null,
            "overflow_y": null,
            "padding": null,
            "right": null,
            "top": null,
            "visibility": null,
            "width": null
          }
        },
        "7a992538c0694c1fb70a83649f2ebe43": {
          "model_module": "@jupyter-widgets/base",
          "model_module_version": "1.2.0",
          "model_name": "LayoutModel",
          "state": {
            "_model_module": "@jupyter-widgets/base",
            "_model_module_version": "1.2.0",
            "_model_name": "LayoutModel",
            "_view_count": null,
            "_view_module": "@jupyter-widgets/base",
            "_view_module_version": "1.2.0",
            "_view_name": "LayoutView",
            "align_content": null,
            "align_items": null,
            "align_self": null,
            "border": null,
            "bottom": null,
            "display": null,
            "flex": null,
            "flex_flow": null,
            "grid_area": null,
            "grid_auto_columns": null,
            "grid_auto_flow": null,
            "grid_auto_rows": null,
            "grid_column": null,
            "grid_gap": null,
            "grid_row": null,
            "grid_template_areas": null,
            "grid_template_columns": null,
            "grid_template_rows": null,
            "height": null,
            "justify_content": null,
            "justify_items": null,
            "left": null,
            "margin": null,
            "max_height": null,
            "max_width": null,
            "min_height": null,
            "min_width": null,
            "object_fit": null,
            "object_position": null,
            "order": null,
            "overflow": null,
            "overflow_x": null,
            "overflow_y": null,
            "padding": null,
            "right": null,
            "top": null,
            "visibility": null,
            "width": null
          }
        },
        "7e750f3a35c54f1bbb6bccc664f091e7": {
          "model_module": "@jupyter-widgets/base",
          "model_module_version": "1.2.0",
          "model_name": "LayoutModel",
          "state": {
            "_model_module": "@jupyter-widgets/base",
            "_model_module_version": "1.2.0",
            "_model_name": "LayoutModel",
            "_view_count": null,
            "_view_module": "@jupyter-widgets/base",
            "_view_module_version": "1.2.0",
            "_view_name": "LayoutView",
            "align_content": null,
            "align_items": null,
            "align_self": null,
            "border": null,
            "bottom": null,
            "display": null,
            "flex": null,
            "flex_flow": null,
            "grid_area": null,
            "grid_auto_columns": null,
            "grid_auto_flow": null,
            "grid_auto_rows": null,
            "grid_column": null,
            "grid_gap": null,
            "grid_row": null,
            "grid_template_areas": null,
            "grid_template_columns": null,
            "grid_template_rows": null,
            "height": null,
            "justify_content": null,
            "justify_items": null,
            "left": null,
            "margin": null,
            "max_height": null,
            "max_width": null,
            "min_height": null,
            "min_width": null,
            "object_fit": null,
            "object_position": null,
            "order": null,
            "overflow": null,
            "overflow_x": null,
            "overflow_y": null,
            "padding": null,
            "right": null,
            "top": null,
            "visibility": null,
            "width": null
          }
        },
        "82b8285c94a34ff58eb02590448c49d4": {
          "model_module": "@jupyter-widgets/controls",
          "model_module_version": "1.5.0",
          "model_name": "HTMLModel",
          "state": {
            "_dom_classes": [],
            "_model_module": "@jupyter-widgets/controls",
            "_model_module_version": "1.5.0",
            "_model_name": "HTMLModel",
            "_view_count": null,
            "_view_module": "@jupyter-widgets/controls",
            "_view_module_version": "1.5.0",
            "_view_name": "HTMLView",
            "description": "",
            "description_tooltip": null,
            "layout": "IPY_MODEL_a2555fd847844a549c6cf72a7139996e",
            "placeholder": "​",
            "style": "IPY_MODEL_242e4c0a60a44c25a4434d1b6ffc6518",
            "value": "100%"
          }
        },
        "86c7709d472d49d8a059846e14991f48": {
          "model_module": "@jupyter-widgets/base",
          "model_module_version": "1.2.0",
          "model_name": "LayoutModel",
          "state": {
            "_model_module": "@jupyter-widgets/base",
            "_model_module_version": "1.2.0",
            "_model_name": "LayoutModel",
            "_view_count": null,
            "_view_module": "@jupyter-widgets/base",
            "_view_module_version": "1.2.0",
            "_view_name": "LayoutView",
            "align_content": null,
            "align_items": null,
            "align_self": null,
            "border": null,
            "bottom": null,
            "display": null,
            "flex": null,
            "flex_flow": null,
            "grid_area": null,
            "grid_auto_columns": null,
            "grid_auto_flow": null,
            "grid_auto_rows": null,
            "grid_column": null,
            "grid_gap": null,
            "grid_row": null,
            "grid_template_areas": null,
            "grid_template_columns": null,
            "grid_template_rows": null,
            "height": null,
            "justify_content": null,
            "justify_items": null,
            "left": null,
            "margin": null,
            "max_height": null,
            "max_width": null,
            "min_height": null,
            "min_width": null,
            "object_fit": null,
            "object_position": null,
            "order": null,
            "overflow": null,
            "overflow_x": null,
            "overflow_y": null,
            "padding": null,
            "right": null,
            "top": null,
            "visibility": null,
            "width": null
          }
        },
        "88d50ae7924e4d0e847eb6ac20d194f1": {
          "model_module": "@jupyter-widgets/controls",
          "model_module_version": "1.5.0",
          "model_name": "DescriptionStyleModel",
          "state": {
            "_model_module": "@jupyter-widgets/controls",
            "_model_module_version": "1.5.0",
            "_model_name": "DescriptionStyleModel",
            "_view_count": null,
            "_view_module": "@jupyter-widgets/base",
            "_view_module_version": "1.2.0",
            "_view_name": "StyleView",
            "description_width": ""
          }
        },
        "89ff1afac4fa40369b244aece1d3ba2d": {
          "model_module": "@jupyter-widgets/base",
          "model_module_version": "1.2.0",
          "model_name": "LayoutModel",
          "state": {
            "_model_module": "@jupyter-widgets/base",
            "_model_module_version": "1.2.0",
            "_model_name": "LayoutModel",
            "_view_count": null,
            "_view_module": "@jupyter-widgets/base",
            "_view_module_version": "1.2.0",
            "_view_name": "LayoutView",
            "align_content": null,
            "align_items": null,
            "align_self": null,
            "border": null,
            "bottom": null,
            "display": null,
            "flex": null,
            "flex_flow": null,
            "grid_area": null,
            "grid_auto_columns": null,
            "grid_auto_flow": null,
            "grid_auto_rows": null,
            "grid_column": null,
            "grid_gap": null,
            "grid_row": null,
            "grid_template_areas": null,
            "grid_template_columns": null,
            "grid_template_rows": null,
            "height": null,
            "justify_content": null,
            "justify_items": null,
            "left": null,
            "margin": null,
            "max_height": null,
            "max_width": null,
            "min_height": null,
            "min_width": null,
            "object_fit": null,
            "object_position": null,
            "order": null,
            "overflow": null,
            "overflow_x": null,
            "overflow_y": null,
            "padding": null,
            "right": null,
            "top": null,
            "visibility": null,
            "width": null
          }
        },
        "8c387ad600124b34b0ad8a13071c9c61": {
          "model_module": "@jupyter-widgets/controls",
          "model_module_version": "1.5.0",
          "model_name": "HBoxModel",
          "state": {
            "_dom_classes": [],
            "_model_module": "@jupyter-widgets/controls",
            "_model_module_version": "1.5.0",
            "_model_name": "HBoxModel",
            "_view_count": null,
            "_view_module": "@jupyter-widgets/controls",
            "_view_module_version": "1.5.0",
            "_view_name": "HBoxView",
            "box_style": "",
            "children": [
              "IPY_MODEL_057d61744d7b40158a247d1e5d4452e5",
              "IPY_MODEL_5f241825e6824160b1a428b42c6f5d82",
              "IPY_MODEL_2d042a3adc7f4a5fa5d389e8ef2738a2"
            ],
            "layout": "IPY_MODEL_86c7709d472d49d8a059846e14991f48"
          }
        },
        "8e368b5c86d747f6a727d488d9e887a5": {
          "model_module": "@jupyter-widgets/controls",
          "model_module_version": "1.5.0",
          "model_name": "DescriptionStyleModel",
          "state": {
            "_model_module": "@jupyter-widgets/controls",
            "_model_module_version": "1.5.0",
            "_model_name": "DescriptionStyleModel",
            "_view_count": null,
            "_view_module": "@jupyter-widgets/base",
            "_view_module_version": "1.2.0",
            "_view_name": "StyleView",
            "description_width": ""
          }
        },
        "931981ed250e4ace835c825db9c82e0e": {
          "model_module": "@jupyter-widgets/base",
          "model_module_version": "1.2.0",
          "model_name": "LayoutModel",
          "state": {
            "_model_module": "@jupyter-widgets/base",
            "_model_module_version": "1.2.0",
            "_model_name": "LayoutModel",
            "_view_count": null,
            "_view_module": "@jupyter-widgets/base",
            "_view_module_version": "1.2.0",
            "_view_name": "LayoutView",
            "align_content": null,
            "align_items": null,
            "align_self": null,
            "border": null,
            "bottom": null,
            "display": null,
            "flex": null,
            "flex_flow": null,
            "grid_area": null,
            "grid_auto_columns": null,
            "grid_auto_flow": null,
            "grid_auto_rows": null,
            "grid_column": null,
            "grid_gap": null,
            "grid_row": null,
            "grid_template_areas": null,
            "grid_template_columns": null,
            "grid_template_rows": null,
            "height": null,
            "justify_content": null,
            "justify_items": null,
            "left": null,
            "margin": null,
            "max_height": null,
            "max_width": null,
            "min_height": null,
            "min_width": null,
            "object_fit": null,
            "object_position": null,
            "order": null,
            "overflow": null,
            "overflow_x": null,
            "overflow_y": null,
            "padding": null,
            "right": null,
            "top": null,
            "visibility": null,
            "width": null
          }
        },
        "9d2f609b34e7493b914b863fc9d76bec": {
          "model_module": "@jupyter-widgets/controls",
          "model_module_version": "1.5.0",
          "model_name": "ProgressStyleModel",
          "state": {
            "_model_module": "@jupyter-widgets/controls",
            "_model_module_version": "1.5.0",
            "_model_name": "ProgressStyleModel",
            "_view_count": null,
            "_view_module": "@jupyter-widgets/base",
            "_view_module_version": "1.2.0",
            "_view_name": "StyleView",
            "bar_color": null,
            "description_width": ""
          }
        },
        "9f2e1e9764a945e0a76cfc2e320a5864": {
          "model_module": "@jupyter-widgets/base",
          "model_module_version": "1.2.0",
          "model_name": "LayoutModel",
          "state": {
            "_model_module": "@jupyter-widgets/base",
            "_model_module_version": "1.2.0",
            "_model_name": "LayoutModel",
            "_view_count": null,
            "_view_module": "@jupyter-widgets/base",
            "_view_module_version": "1.2.0",
            "_view_name": "LayoutView",
            "align_content": null,
            "align_items": null,
            "align_self": null,
            "border": null,
            "bottom": null,
            "display": null,
            "flex": null,
            "flex_flow": null,
            "grid_area": null,
            "grid_auto_columns": null,
            "grid_auto_flow": null,
            "grid_auto_rows": null,
            "grid_column": null,
            "grid_gap": null,
            "grid_row": null,
            "grid_template_areas": null,
            "grid_template_columns": null,
            "grid_template_rows": null,
            "height": null,
            "justify_content": null,
            "justify_items": null,
            "left": null,
            "margin": null,
            "max_height": null,
            "max_width": null,
            "min_height": null,
            "min_width": null,
            "object_fit": null,
            "object_position": null,
            "order": null,
            "overflow": null,
            "overflow_x": null,
            "overflow_y": null,
            "padding": null,
            "right": null,
            "top": null,
            "visibility": null,
            "width": null
          }
        },
        "a2555fd847844a549c6cf72a7139996e": {
          "model_module": "@jupyter-widgets/base",
          "model_module_version": "1.2.0",
          "model_name": "LayoutModel",
          "state": {
            "_model_module": "@jupyter-widgets/base",
            "_model_module_version": "1.2.0",
            "_model_name": "LayoutModel",
            "_view_count": null,
            "_view_module": "@jupyter-widgets/base",
            "_view_module_version": "1.2.0",
            "_view_name": "LayoutView",
            "align_content": null,
            "align_items": null,
            "align_self": null,
            "border": null,
            "bottom": null,
            "display": null,
            "flex": null,
            "flex_flow": null,
            "grid_area": null,
            "grid_auto_columns": null,
            "grid_auto_flow": null,
            "grid_auto_rows": null,
            "grid_column": null,
            "grid_gap": null,
            "grid_row": null,
            "grid_template_areas": null,
            "grid_template_columns": null,
            "grid_template_rows": null,
            "height": null,
            "justify_content": null,
            "justify_items": null,
            "left": null,
            "margin": null,
            "max_height": null,
            "max_width": null,
            "min_height": null,
            "min_width": null,
            "object_fit": null,
            "object_position": null,
            "order": null,
            "overflow": null,
            "overflow_x": null,
            "overflow_y": null,
            "padding": null,
            "right": null,
            "top": null,
            "visibility": null,
            "width": null
          }
        },
        "ae0fae46a1d0422eb032824885729326": {
          "model_module": "@jupyter-widgets/base",
          "model_module_version": "1.2.0",
          "model_name": "LayoutModel",
          "state": {
            "_model_module": "@jupyter-widgets/base",
            "_model_module_version": "1.2.0",
            "_model_name": "LayoutModel",
            "_view_count": null,
            "_view_module": "@jupyter-widgets/base",
            "_view_module_version": "1.2.0",
            "_view_name": "LayoutView",
            "align_content": null,
            "align_items": null,
            "align_self": null,
            "border": null,
            "bottom": null,
            "display": null,
            "flex": null,
            "flex_flow": null,
            "grid_area": null,
            "grid_auto_columns": null,
            "grid_auto_flow": null,
            "grid_auto_rows": null,
            "grid_column": null,
            "grid_gap": null,
            "grid_row": null,
            "grid_template_areas": null,
            "grid_template_columns": null,
            "grid_template_rows": null,
            "height": null,
            "justify_content": null,
            "justify_items": null,
            "left": null,
            "margin": null,
            "max_height": null,
            "max_width": null,
            "min_height": null,
            "min_width": null,
            "object_fit": null,
            "object_position": null,
            "order": null,
            "overflow": null,
            "overflow_x": null,
            "overflow_y": null,
            "padding": null,
            "right": null,
            "top": null,
            "visibility": null,
            "width": null
          }
        },
        "ae1c6202437740fd84eb937bc57ffd98": {
          "model_module": "@jupyter-widgets/controls",
          "model_module_version": "1.5.0",
          "model_name": "DescriptionStyleModel",
          "state": {
            "_model_module": "@jupyter-widgets/controls",
            "_model_module_version": "1.5.0",
            "_model_name": "DescriptionStyleModel",
            "_view_count": null,
            "_view_module": "@jupyter-widgets/base",
            "_view_module_version": "1.2.0",
            "_view_name": "StyleView",
            "description_width": ""
          }
        },
        "ccc88b76b10843b399639b7baa425bde": {
          "model_module": "@jupyter-widgets/base",
          "model_module_version": "1.2.0",
          "model_name": "LayoutModel",
          "state": {
            "_model_module": "@jupyter-widgets/base",
            "_model_module_version": "1.2.0",
            "_model_name": "LayoutModel",
            "_view_count": null,
            "_view_module": "@jupyter-widgets/base",
            "_view_module_version": "1.2.0",
            "_view_name": "LayoutView",
            "align_content": null,
            "align_items": null,
            "align_self": null,
            "border": null,
            "bottom": null,
            "display": null,
            "flex": null,
            "flex_flow": null,
            "grid_area": null,
            "grid_auto_columns": null,
            "grid_auto_flow": null,
            "grid_auto_rows": null,
            "grid_column": null,
            "grid_gap": null,
            "grid_row": null,
            "grid_template_areas": null,
            "grid_template_columns": null,
            "grid_template_rows": null,
            "height": null,
            "justify_content": null,
            "justify_items": null,
            "left": null,
            "margin": null,
            "max_height": null,
            "max_width": null,
            "min_height": null,
            "min_width": null,
            "object_fit": null,
            "object_position": null,
            "order": null,
            "overflow": null,
            "overflow_x": null,
            "overflow_y": null,
            "padding": null,
            "right": null,
            "top": null,
            "visibility": null,
            "width": null
          }
        },
        "cd7c0802798f4f6da8bb6b2c01e328f6": {
          "model_module": "@jupyter-widgets/controls",
          "model_module_version": "1.5.0",
          "model_name": "HTMLModel",
          "state": {
            "_dom_classes": [],
            "_model_module": "@jupyter-widgets/controls",
            "_model_module_version": "1.5.0",
            "_model_name": "HTMLModel",
            "_view_count": null,
            "_view_module": "@jupyter-widgets/controls",
            "_view_module_version": "1.5.0",
            "_view_name": "HTMLView",
            "description": "",
            "description_tooltip": null,
            "layout": "IPY_MODEL_0fc8c55eeff54c798eeb2baa9e355b41",
            "placeholder": "​",
            "style": "IPY_MODEL_33dab8f3ce9c47c6891ca0417a5d50c5",
            "value": "100%"
          }
        },
        "cdf3d122d80341c0af00288211cfe165": {
          "model_module": "@jupyter-widgets/controls",
          "model_module_version": "1.5.0",
          "model_name": "HTMLModel",
          "state": {
            "_dom_classes": [],
            "_model_module": "@jupyter-widgets/controls",
            "_model_module_version": "1.5.0",
            "_model_name": "HTMLModel",
            "_view_count": null,
            "_view_module": "@jupyter-widgets/controls",
            "_view_module_version": "1.5.0",
            "_view_name": "HTMLView",
            "description": "",
            "description_tooltip": null,
            "layout": "IPY_MODEL_ccc88b76b10843b399639b7baa425bde",
            "placeholder": "​",
            "style": "IPY_MODEL_ae1c6202437740fd84eb937bc57ffd98",
            "value": " 50/50 [32:27&lt;00:00, 38.86s/it]"
          }
        },
        "d2f6d4697f3643c097467ea818d0264d": {
          "model_module": "@jupyter-widgets/controls",
          "model_module_version": "1.5.0",
          "model_name": "ProgressStyleModel",
          "state": {
            "_model_module": "@jupyter-widgets/controls",
            "_model_module_version": "1.5.0",
            "_model_name": "ProgressStyleModel",
            "_view_count": null,
            "_view_module": "@jupyter-widgets/base",
            "_view_module_version": "1.2.0",
            "_view_name": "StyleView",
            "bar_color": null,
            "description_width": ""
          }
        },
        "d3763c02cfcc4ed4ad3093f9d34f227f": {
          "model_module": "@jupyter-widgets/controls",
          "model_module_version": "1.5.0",
          "model_name": "ProgressStyleModel",
          "state": {
            "_model_module": "@jupyter-widgets/controls",
            "_model_module_version": "1.5.0",
            "_model_name": "ProgressStyleModel",
            "_view_count": null,
            "_view_module": "@jupyter-widgets/base",
            "_view_module_version": "1.2.0",
            "_view_name": "StyleView",
            "bar_color": null,
            "description_width": ""
          }
        },
        "d42286f1924448ed9ecec88d458c75ad": {
          "model_module": "@jupyter-widgets/controls",
          "model_module_version": "1.5.0",
          "model_name": "DescriptionStyleModel",
          "state": {
            "_model_module": "@jupyter-widgets/controls",
            "_model_module_version": "1.5.0",
            "_model_name": "DescriptionStyleModel",
            "_view_count": null,
            "_view_module": "@jupyter-widgets/base",
            "_view_module_version": "1.2.0",
            "_view_name": "StyleView",
            "description_width": ""
          }
        },
        "dfd354fc1cfb436693ed994500b3973c": {
          "model_module": "@jupyter-widgets/controls",
          "model_module_version": "1.5.0",
          "model_name": "DescriptionStyleModel",
          "state": {
            "_model_module": "@jupyter-widgets/controls",
            "_model_module_version": "1.5.0",
            "_model_name": "DescriptionStyleModel",
            "_view_count": null,
            "_view_module": "@jupyter-widgets/base",
            "_view_module_version": "1.2.0",
            "_view_name": "StyleView",
            "description_width": ""
          }
        },
        "e3daf5301dcc4c459a9a70ffa20f658b": {
          "model_module": "@jupyter-widgets/base",
          "model_module_version": "1.2.0",
          "model_name": "LayoutModel",
          "state": {
            "_model_module": "@jupyter-widgets/base",
            "_model_module_version": "1.2.0",
            "_model_name": "LayoutModel",
            "_view_count": null,
            "_view_module": "@jupyter-widgets/base",
            "_view_module_version": "1.2.0",
            "_view_name": "LayoutView",
            "align_content": null,
            "align_items": null,
            "align_self": null,
            "border": null,
            "bottom": null,
            "display": null,
            "flex": null,
            "flex_flow": null,
            "grid_area": null,
            "grid_auto_columns": null,
            "grid_auto_flow": null,
            "grid_auto_rows": null,
            "grid_column": null,
            "grid_gap": null,
            "grid_row": null,
            "grid_template_areas": null,
            "grid_template_columns": null,
            "grid_template_rows": null,
            "height": null,
            "justify_content": null,
            "justify_items": null,
            "left": null,
            "margin": null,
            "max_height": null,
            "max_width": null,
            "min_height": null,
            "min_width": null,
            "object_fit": null,
            "object_position": null,
            "order": null,
            "overflow": null,
            "overflow_x": null,
            "overflow_y": null,
            "padding": null,
            "right": null,
            "top": null,
            "visibility": null,
            "width": null
          }
        },
        "e85724ddc5844097a79eb81ccfc9d4bf": {
          "model_module": "@jupyter-widgets/base",
          "model_module_version": "1.2.0",
          "model_name": "LayoutModel",
          "state": {
            "_model_module": "@jupyter-widgets/base",
            "_model_module_version": "1.2.0",
            "_model_name": "LayoutModel",
            "_view_count": null,
            "_view_module": "@jupyter-widgets/base",
            "_view_module_version": "1.2.0",
            "_view_name": "LayoutView",
            "align_content": null,
            "align_items": null,
            "align_self": null,
            "border": null,
            "bottom": null,
            "display": null,
            "flex": null,
            "flex_flow": null,
            "grid_area": null,
            "grid_auto_columns": null,
            "grid_auto_flow": null,
            "grid_auto_rows": null,
            "grid_column": null,
            "grid_gap": null,
            "grid_row": null,
            "grid_template_areas": null,
            "grid_template_columns": null,
            "grid_template_rows": null,
            "height": null,
            "justify_content": null,
            "justify_items": null,
            "left": null,
            "margin": null,
            "max_height": null,
            "max_width": null,
            "min_height": null,
            "min_width": null,
            "object_fit": null,
            "object_position": null,
            "order": null,
            "overflow": null,
            "overflow_x": null,
            "overflow_y": null,
            "padding": null,
            "right": null,
            "top": null,
            "visibility": null,
            "width": null
          }
        },
        "ec44a3356df145e29a0aac9cd43efefb": {
          "model_module": "@jupyter-widgets/controls",
          "model_module_version": "1.5.0",
          "model_name": "FloatProgressModel",
          "state": {
            "_dom_classes": [],
            "_model_module": "@jupyter-widgets/controls",
            "_model_module_version": "1.5.0",
            "_model_name": "FloatProgressModel",
            "_view_count": null,
            "_view_module": "@jupyter-widgets/controls",
            "_view_module_version": "1.5.0",
            "_view_name": "ProgressView",
            "bar_style": "success",
            "description": "",
            "description_tooltip": null,
            "layout": "IPY_MODEL_59ef2cbeb53a406caa26734fc8a54d38",
            "max": 50,
            "min": 0,
            "orientation": "horizontal",
            "style": "IPY_MODEL_f994c6d4b019440e977f40b2025c43ac",
            "value": 50
          }
        },
        "ef5c9c9282564866a333f2f5381f7f9c": {
          "model_module": "@jupyter-widgets/controls",
          "model_module_version": "1.5.0",
          "model_name": "HBoxModel",
          "state": {
            "_dom_classes": [],
            "_model_module": "@jupyter-widgets/controls",
            "_model_module_version": "1.5.0",
            "_model_name": "HBoxModel",
            "_view_count": null,
            "_view_module": "@jupyter-widgets/controls",
            "_view_module_version": "1.5.0",
            "_view_name": "HBoxView",
            "box_style": "",
            "children": [
              "IPY_MODEL_ff7b6cd2d3b34558a1016a5ea76e9070",
              "IPY_MODEL_01988487a61247e7b9c1b0e90ff31f67",
              "IPY_MODEL_6f5a414514b1495fbf23a4aac46b2ed7"
            ],
            "layout": "IPY_MODEL_2c2d159111ea4735a50278fd86fb9019"
          }
        },
        "f850f4fdd81a4502ae867aa794ff9283": {
          "model_module": "@jupyter-widgets/base",
          "model_module_version": "1.2.0",
          "model_name": "LayoutModel",
          "state": {
            "_model_module": "@jupyter-widgets/base",
            "_model_module_version": "1.2.0",
            "_model_name": "LayoutModel",
            "_view_count": null,
            "_view_module": "@jupyter-widgets/base",
            "_view_module_version": "1.2.0",
            "_view_name": "LayoutView",
            "align_content": null,
            "align_items": null,
            "align_self": null,
            "border": null,
            "bottom": null,
            "display": null,
            "flex": null,
            "flex_flow": null,
            "grid_area": null,
            "grid_auto_columns": null,
            "grid_auto_flow": null,
            "grid_auto_rows": null,
            "grid_column": null,
            "grid_gap": null,
            "grid_row": null,
            "grid_template_areas": null,
            "grid_template_columns": null,
            "grid_template_rows": null,
            "height": null,
            "justify_content": null,
            "justify_items": null,
            "left": null,
            "margin": null,
            "max_height": null,
            "max_width": null,
            "min_height": null,
            "min_width": null,
            "object_fit": null,
            "object_position": null,
            "order": null,
            "overflow": null,
            "overflow_x": null,
            "overflow_y": null,
            "padding": null,
            "right": null,
            "top": null,
            "visibility": null,
            "width": null
          }
        },
        "f994c6d4b019440e977f40b2025c43ac": {
          "model_module": "@jupyter-widgets/controls",
          "model_module_version": "1.5.0",
          "model_name": "ProgressStyleModel",
          "state": {
            "_model_module": "@jupyter-widgets/controls",
            "_model_module_version": "1.5.0",
            "_model_name": "ProgressStyleModel",
            "_view_count": null,
            "_view_module": "@jupyter-widgets/base",
            "_view_module_version": "1.2.0",
            "_view_name": "StyleView",
            "bar_color": null,
            "description_width": ""
          }
        },
        "f9f3958822be4cda83a05cf0de5f7c15": {
          "model_module": "@jupyter-widgets/controls",
          "model_module_version": "1.5.0",
          "model_name": "HTMLModel",
          "state": {
            "_dom_classes": [],
            "_model_module": "@jupyter-widgets/controls",
            "_model_module_version": "1.5.0",
            "_model_name": "HTMLModel",
            "_view_count": null,
            "_view_module": "@jupyter-widgets/controls",
            "_view_module_version": "1.5.0",
            "_view_name": "HTMLView",
            "description": "",
            "description_tooltip": null,
            "layout": "IPY_MODEL_648d211cf62c4c41a04f66418df041ff",
            "placeholder": "​",
            "style": "IPY_MODEL_559ef1f22f3b4d628d3a70b2b9a70814",
            "value": "100%"
          }
        },
        "fdf29c8995ca4baca24e00f109151e2e": {
          "model_module": "@jupyter-widgets/controls",
          "model_module_version": "1.5.0",
          "model_name": "FloatProgressModel",
          "state": {
            "_dom_classes": [],
            "_model_module": "@jupyter-widgets/controls",
            "_model_module_version": "1.5.0",
            "_model_name": "FloatProgressModel",
            "_view_count": null,
            "_view_module": "@jupyter-widgets/controls",
            "_view_module_version": "1.5.0",
            "_view_name": "ProgressView",
            "bar_style": "success",
            "description": "",
            "description_tooltip": null,
            "layout": "IPY_MODEL_24badcd972e34548850b9e49f9651793",
            "max": 50,
            "min": 0,
            "orientation": "horizontal",
            "style": "IPY_MODEL_9d2f609b34e7493b914b863fc9d76bec",
            "value": 50
          }
        },
        "ff7b6cd2d3b34558a1016a5ea76e9070": {
          "model_module": "@jupyter-widgets/controls",
          "model_module_version": "1.5.0",
          "model_name": "HTMLModel",
          "state": {
            "_dom_classes": [],
            "_model_module": "@jupyter-widgets/controls",
            "_model_module_version": "1.5.0",
            "_model_name": "HTMLModel",
            "_view_count": null,
            "_view_module": "@jupyter-widgets/controls",
            "_view_module_version": "1.5.0",
            "_view_name": "HTMLView",
            "description": "",
            "description_tooltip": null,
            "layout": "IPY_MODEL_9f2e1e9764a945e0a76cfc2e320a5864",
            "placeholder": "​",
            "style": "IPY_MODEL_d42286f1924448ed9ecec88d458c75ad",
            "value": "100%"
          }
        }
      }
    }
  },
  "nbformat": 4,
  "nbformat_minor": 5
}
