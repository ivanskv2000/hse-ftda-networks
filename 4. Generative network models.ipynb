{
 "cells": [
  {
   "cell_type": "markdown",
   "id": "32499c5c",
   "metadata": {},
   "source": [
    "# Assignment — Generative network models"
   ]
  },
  {
   "cell_type": "code",
   "execution_count": null,
   "id": "5e58c65a",
   "metadata": {},
   "outputs": [],
   "source": [
    "from scipy.stats import ks_2samp\n",
    "import matplotlib.pyplot as plt\n",
    "import networkx as nx\n",
    "from tqdm.notebook import trange, tqdm\n",
    "import random\n",
    "import numpy as np"
   ]
  },
  {
   "cell_type": "markdown",
   "id": "ac9ecdf1",
   "metadata": {},
   "source": [
    "### Task 1. Watts-Strogatz model (0 points)"
   ]
  },
  {
   "cell_type": "markdown",
   "id": "d2e61c2a",
   "metadata": {},
   "source": [
    "Implement Watts-Strogatz model (small-world model) — rewire an edge with probability `p` in a ring lattice with `n` nodes and `k` degree."
   ]
  },
  {
   "cell_type": "code",
   "execution_count": null,
   "id": "16b89ff2",
   "metadata": {
    "deletable": false,
    "editable": false,
    "nbgrader": {
     "cell_type": "code",
     "checksum": "82548f63aede007044bd7a461b141b98",
     "grade": false,
     "grade_id": "cell-dde49b1f65e90c67",
     "locked": true,
     "schema_version": 3,
     "solution": false,
     "task": false
    }
   },
   "outputs": [],
   "source": [
    "def watts_strogatz_graph(n, k, p):\n",
    "    G = ring_lattice(n, k)\n",
    "    for node in tqdm(G.nodes):\n",
    "        rewire(G, node, k, p)\n",
    "    return G"
   ]
  },
  {
   "cell_type": "markdown",
   "id": "2e4c8e7d",
   "metadata": {},
   "source": [
    "Write a function `ring_lattice` that returns a regular ring lattice with `n` nodes (0, 1, 2, ..., n-1) and `k` node degree. In a case of an odd node degree, it round it to the nearest smaller even number."
   ]
  },
  {
   "cell_type": "code",
   "execution_count": null,
   "id": "9006b267",
   "metadata": {
    "deletable": false,
    "nbgrader": {
     "cell_type": "code",
     "checksum": "979368bbbaedcc833b0fb00940e6bd8f",
     "grade": false,
     "grade_id": "cell-a644a545b228c075",
     "locked": false,
     "schema_version": 3,
     "solution": true,
     "task": false
    }
   },
   "outputs": [],
   "source": [
    "def ring_lattice(n, k):\n",
    "    # YOUR CODE HERE\n",
    "    raise NotImplementedError()"
   ]
  },
  {
   "cell_type": "code",
   "execution_count": null,
   "id": "c5ceb25b",
   "metadata": {
    "deletable": false,
    "editable": false,
    "nbgrader": {
     "cell_type": "code",
     "checksum": "ce0b43ce7ca6c1cf0e11b762e9994cea",
     "grade": true,
     "grade_id": "cell-9448aa2e78b283b2",
     "locked": true,
     "points": 0,
     "schema_version": 3,
     "solution": false,
     "task": false
    }
   },
   "outputs": [],
   "source": [
    "assert nx.degree_histogram(ring_lattice(10, 2))[2] == 10\n",
    "assert nx.degree_histogram(ring_lattice(10, 3))[2] == 10\n",
    "assert nx.degree_histogram(ring_lattice(10, 4))[4] == 10"
   ]
  },
  {
   "cell_type": "markdown",
   "id": "54eddc4c",
   "metadata": {},
   "source": [
    "Write a function `rewire` that takes in input a ring lattice `G`, a `node`, a model parameter `k` and probability `p`. For every right hand side neighbor $i$, the function rewires an edge (`node`, $i$) into a random edge (`node`, $j$) with probability `p` where $i \\neq j \\neq $ `node`.\n",
    "\n",
    "*Hints:*\n",
    "* *Why do we only rewire right hand side edges? We want to guarantee that only untouched in previous iterations edges will be rewound. Look at the picture — we could not move the red edges in previous iterations.*\n",
    "\n",
    "![](https://raw.githubusercontent.com/netspractice/network-science/main/images/watts_strogatz_how_to_rewire.png)\n",
    "\n",
    "* *To speed up the generation, do not filter nodes to random selection. If a selected node produces an existing edge or a loop, just skip it.*"
   ]
  },
  {
   "cell_type": "code",
   "execution_count": null,
   "id": "b5613283",
   "metadata": {
    "deletable": false,
    "nbgrader": {
     "cell_type": "code",
     "checksum": "73069084258860ce51784498a7683c05",
     "grade": false,
     "grade_id": "cell-161cd7ea24dd16a3",
     "locked": false,
     "schema_version": 3,
     "solution": true,
     "task": false
    }
   },
   "outputs": [],
   "source": [
    "def rewire(G, node, k, p):\n",
    "    # YOUR CODE HERE\n",
    "    raise NotImplementedError()"
   ]
  },
  {
   "cell_type": "code",
   "execution_count": null,
   "id": "251c5bb0",
   "metadata": {
    "deletable": false,
    "editable": false,
    "nbgrader": {
     "cell_type": "code",
     "checksum": "dcf629da2ce3e17975d9b98342bc358d",
     "grade": true,
     "grade_id": "cell-022dc260d78b00c3",
     "locked": true,
     "points": 0,
     "schema_version": 3,
     "solution": false,
     "task": false
    }
   },
   "outputs": [],
   "source": [
    "cases = [[50, 8, 0.1], \n",
    "         [1000, 10, 0.01],\n",
    "         [1000, 10, 0.5],\n",
    "         [1000, 10, 0.99]]\n",
    "for n, k, p in cases:\n",
    "    G = watts_strogatz_graph(n, k, p)\n",
    "    assert nx.number_of_nodes(G) == n\n",
    "    assert nx.number_of_edges(G) == int(k / 2 * n)\n",
    "    degree_seq = [degree for (node, degree) in G.degree]\n",
    "    nxG = nx.watts_strogatz_graph(n, k, p, 1)\n",
    "    nxdegree_seq = [degree for (node, degree) in nxG.degree]\n",
    "    assert ks_2samp(degree_seq, nxdegree_seq).pvalue > 0.05"
   ]
  },
  {
   "cell_type": "markdown",
   "id": "5c0f250d",
   "metadata": {},
   "source": [
    "Let us draw a small-world graph in some steps of the algorithm"
   ]
  },
  {
   "cell_type": "code",
   "execution_count": null,
   "id": "086a1508",
   "metadata": {},
   "outputs": [],
   "source": [
    "n, k, p = 52, 8, 0.2\n",
    "G = ring_lattice(n, k)\n",
    "plt.figure(figsize=(12, 6 * 4))\n",
    "i = 1\n",
    "for node in G.nodes:\n",
    "    if node in np.arange(0, n+1, int(n/3)):\n",
    "        plt.subplot(4, 2, i)\n",
    "        plt.title('Number of iterations: {}'.format(node))\n",
    "        nx.draw_circular(\n",
    "            G,\n",
    "            node_size=50, \n",
    "            width=0.5,\n",
    "            linewidths=0.5,\n",
    "            edgecolors='black',\n",
    "            node_color='tab:orange')\n",
    "        i += 1\n",
    "        plt.subplot(4, 2, i)\n",
    "        degree_seq = [degree for (node, degree) in G.degree]\n",
    "        bins, freq = np.unique(degree_seq, return_counts=True)\n",
    "        plt.bar(bins, freq)\n",
    "        plt.xlim((4, 13))\n",
    "        plt.title('Degree distribution')\n",
    "        i += 1\n",
    "    rewire(G, node, k, p)"
   ]
  },
  {
   "cell_type": "markdown",
   "id": "fb44edb0",
   "metadata": {},
   "source": [
    "### Task 2. Average path length in Watts-Strogatz model (2 points)"
   ]
  },
  {
   "cell_type": "markdown",
   "id": "a47756df",
   "metadata": {},
   "source": [
    "Let us check that the average path length tends to theoretical value during building the small-world model.\n",
    "\n",
    "$$\\langle L \\rangle = \\begin{cases}\n",
    "N/2k, \\text{ if } p \\to 0 \\\\\n",
    "\\log(N)/\\log(k), \\text{ if } p \\to 1\n",
    "\\end{cases}$$\n",
    "\n",
    "So that we have a lower and upper limits of path lengths for $0 < p < 1$.\n",
    "\n",
    "Write a function `smallworld_path_len` with Watts-Strogatz model parameters `n, k, p` that returns np.array of average path lengths in each step (node). The length of the array is `n`.\n",
    "\n",
    "*Hint: to calculate the average shortest path length, use `nx.average_shortest_path_length`*"
   ]
  },
  {
   "cell_type": "code",
   "execution_count": null,
   "id": "f5d23143",
   "metadata": {
    "deletable": false,
    "nbgrader": {
     "cell_type": "code",
     "checksum": "0f16851fad4ffce74b6ba82e90bcf6e6",
     "grade": false,
     "grade_id": "cell-a5a51e26d2f2c429",
     "locked": false,
     "schema_version": 3,
     "solution": true,
     "task": false
    }
   },
   "outputs": [],
   "source": [
    "def smallworld_path_len(n, k, p):\n",
    "    # YOUR CODE HERE\n",
    "    raise NotImplementedError()"
   ]
  },
  {
   "cell_type": "code",
   "execution_count": null,
   "id": "8253b4f3",
   "metadata": {
    "deletable": false,
    "editable": false,
    "nbgrader": {
     "cell_type": "code",
     "checksum": "d6f715b0147b7a867bebe2c816951f8d",
     "grade": true,
     "grade_id": "cell-3d9e7e4d9ebee4c1",
     "locked": true,
     "points": 2,
     "schema_version": 3,
     "solution": false,
     "task": false
    }
   },
   "outputs": [],
   "source": [
    "n, k, p = 101, 10, 0.05\n",
    "lengths = smallworld_path_len(n, k, p)\n",
    "step_space = np.log(np.arange(1, len(lengths) + 1))\n",
    "X = np.stack([step_space, np.ones(lengths.shape[0])], axis=1)\n",
    "assert lengths.shape[0] == n\n",
    "assert 0.1 < -(np.linalg.pinv(X) @ np.log(lengths))[0] < 0.25"
   ]
  },
  {
   "cell_type": "code",
   "execution_count": null,
   "id": "414d23f8",
   "metadata": {},
   "outputs": [],
   "source": [
    "plt.figure(figsize=(10, 5))\n",
    "\n",
    "n, k, p = 101, 12, 0.01\n",
    "lengths = smallworld_path_len(n, k, p)\n",
    "plt.plot(lengths, label=f'p={p}')\n",
    "\n",
    "n, k, p = 101, 12, 0.1\n",
    "lengths = smallworld_path_len(n, k, p)\n",
    "plt.plot(lengths, label=f'p={p}')\n",
    "\n",
    "n, k, p = 101, 12, 0.9\n",
    "lengths = smallworld_path_len(n, k, p)\n",
    "plt.plot(lengths, label=f'p={p}')\n",
    "\n",
    "plt.xlabel('Step of the small-world building')\n",
    "plt.ylabel('Average path length')\n",
    "plt.grid()\n",
    "plt.plot([0, 100], [n / 2 / k, n / 2 / k], '--', \n",
    "         label='limit upper bound')\n",
    "plt.plot([0, 100], [np.log(n) / np.log(k), np.log(n) / np.log(k)], '--',\n",
    "         label='limit lower bound')\n",
    "plt.legend(loc='lower left')\n",
    "plt.show()"
   ]
  },
  {
   "cell_type": "markdown",
   "id": "bd0eede9",
   "metadata": {},
   "source": [
    "### Task 3. Barabasi-Albert model (0 points)"
   ]
  },
  {
   "cell_type": "markdown",
   "id": "749daa4a",
   "metadata": {},
   "source": [
    "Implement Barabasi-Albert model (preferential attachment model) – a growth process where each new node connects to `m` existing nodes. The higher node degree, the higher probability of the connection. The final number of nodes is `n`.\n",
    "\n",
    "You start from a star graph with `m + 1` nodes. In each step you create `m` edges between a new node and existing nodes. The probability of connection to the node $i$ is \n",
    "$$p(i) = \\frac{k_i}{\\sum k}$$\n",
    "\n",
    "Write a function `attach` that attaches a `node` to a graph `G` through `m` edges.\n",
    "\n",
    "*Hint: Create a list with repeated nodes from a list of edges. For example, $[(1, 2), (2, 3), (2, 4)] \\to [1, 2, 2, 3, 2, 4]$. Uniformly select nodes one-by-one. Apply `random.choice` instead of `np.random.choice` to speed up the generation.*"
   ]
  },
  {
   "cell_type": "code",
   "execution_count": null,
   "id": "7afd9e19",
   "metadata": {
    "deletable": false,
    "editable": false,
    "nbgrader": {
     "cell_type": "code",
     "checksum": "d4537c91be0a1998137d87d698396cbc",
     "grade": false,
     "grade_id": "cell-27421702a7553464",
     "locked": true,
     "schema_version": 3,
     "solution": false,
     "task": false
    }
   },
   "outputs": [],
   "source": [
    "'''Do not touch the cell'''\n",
    "def barabasi_albert_graph(n, m):\n",
    "    G = nx.star_graph(m)\n",
    "    for i in trange(1, n - m):\n",
    "        attach(m + i, G, m)\n",
    "    return G"
   ]
  },
  {
   "cell_type": "code",
   "execution_count": null,
   "id": "dbd80054",
   "metadata": {
    "deletable": false,
    "nbgrader": {
     "cell_type": "code",
     "checksum": "0e1a08af9c29132257e7efebaa4042ed",
     "grade": false,
     "grade_id": "cell-30c57fd2a7befb94",
     "locked": false,
     "schema_version": 3,
     "solution": true,
     "task": false
    }
   },
   "outputs": [],
   "source": [
    "def attach(node, G, m):\n",
    "    # YOUR CODE HERE\n",
    "    raise NotImplementedError()"
   ]
  },
  {
   "cell_type": "code",
   "execution_count": null,
   "id": "ab1a6b5d",
   "metadata": {
    "deletable": false,
    "editable": false,
    "nbgrader": {
     "cell_type": "code",
     "checksum": "4a001f032a8ef601b686221f358da27b",
     "grade": true,
     "grade_id": "cell-772fa0157056b79b",
     "locked": true,
     "points": 0,
     "schema_version": 3,
     "solution": false,
     "task": false
    }
   },
   "outputs": [],
   "source": [
    "G = nx.star_graph(3)\n",
    "attach(4, G, 3)\n",
    "assert nx.number_of_edges(G) == 6\n",
    "\n",
    "cases = [[10, 3], \n",
    "         [1000, 3], \n",
    "         [1000, 20]]\n",
    "for n, m in cases:\n",
    "    G = barabasi_albert_graph(n, m)\n",
    "    degree_seq = [degree for (node, degree) in G.degree]\n",
    "    nxG = nx.barabasi_albert_graph(n, m)\n",
    "    nxdegree_seq = [degree for (node, degree) in nxG.degree]\n",
    "    assert ks_2samp(degree_seq, nxdegree_seq).pvalue > 0.05"
   ]
  },
  {
   "cell_type": "markdown",
   "id": "16f91523",
   "metadata": {},
   "source": [
    "Let us see what the growth process looks like"
   ]
  },
  {
   "cell_type": "code",
   "execution_count": null,
   "id": "d16a3733",
   "metadata": {},
   "outputs": [],
   "source": [
    "n, m = 1000, 6\n",
    "G = nx.star_graph(m)\n",
    "plt.figure(figsize=(12, 6 * 5))\n",
    "j = 1\n",
    "for i in range(1, n - m):\n",
    "    if i in [1, 2, 3, 30, n-m-1]:\n",
    "        plt.subplot(5, 2, j)\n",
    "        j += 1\n",
    "        sizes = np.array(list(nx.degree_centrality(G).values()))\n",
    "        sizes = sizes / max(sizes) * 200\n",
    "        if i <= 3:\n",
    "            pos = nx.layout.shell_layout(G)\n",
    "        else:\n",
    "            pos = nx.layout.spring_layout(G)\n",
    "        nx.draw(\n",
    "            G,\n",
    "            pos=pos,\n",
    "            with_labels=False, \n",
    "            node_size=sizes, \n",
    "            width=0.5,\n",
    "            linewidths=0.5,\n",
    "            edgecolors='black',\n",
    "            node_color='tab:orange')\n",
    "        plt.title('Step: {}'.format(i))\n",
    "        degree_seq = [degree for (node, degree) in G.degree]\n",
    "        bins, freq = np.unique(degree_seq, return_counts=True)\n",
    "        plt.subplot(5, 2, j)\n",
    "        j += 1\n",
    "        plt.bar(bins, freq)\n",
    "        plt.title('Degree distribution')\n",
    "    attach(m + i, G, m)"
   ]
  },
  {
   "cell_type": "markdown",
   "id": "739181a9",
   "metadata": {},
   "source": [
    "### Task 4. Degree distribution in Barabasi-Albert model (3 points)"
   ]
  },
  {
   "attachments": {},
   "cell_type": "markdown",
   "id": "4b9cb227",
   "metadata": {},
   "source": [
    "Barabasi-Albert graph has a degree distribution of the form\n",
    "\n",
    "$$P(k) = \\frac{2m^2}{k^3}$$\n",
    "\n",
    "That is Power law with $\\alpha = 3$ and $k_\\text{min} = m$. \n",
    "\n",
    "Check this fact by an experiment — generate a set of Barabasi-Albert graphs and estimate parameters of Power law using MLE\n",
    "\n",
    "$$\\alpha = 1 + n \\left[\\sum_i \\log \\frac{k_i}{k_\\text{min}} \\right]^{-1}$$\n",
    "\n",
    "where the $k_\\text{min}$ is selected by minimal Kolmogorov-Smirnov distance between observed and theoretical distributions.\n",
    "\n",
    "First, write a function `power_law_cdf` that takes an argument and parameters of the Power law distribution and returns the CDF."
   ]
  },
  {
   "cell_type": "code",
   "execution_count": null,
   "id": "874a3c5f",
   "metadata": {
    "deletable": false,
    "nbgrader": {
     "cell_type": "code",
     "checksum": "938aa6a0a2cb21044b246ea1464af0c9",
     "grade": false,
     "grade_id": "cell-87b3dcfd366a9809",
     "locked": false,
     "schema_version": 3,
     "solution": true,
     "task": false
    }
   },
   "outputs": [],
   "source": [
    "def power_law_cdf(k, alpha=3.5, k_min=1):\n",
    "    # YOUR CODE HERE\n",
    "    raise NotImplementedError()"
   ]
  },
  {
   "cell_type": "code",
   "execution_count": null,
   "id": "bcf29db9",
   "metadata": {
    "deletable": false,
    "editable": false,
    "nbgrader": {
     "cell_type": "code",
     "checksum": "084566d893559185d85374520b98a9e0",
     "grade": true,
     "grade_id": "cell-3677a6343b41d106",
     "locked": true,
     "points": 1,
     "schema_version": 3,
     "solution": false,
     "task": false
    }
   },
   "outputs": [],
   "source": [
    "assert power_law_cdf(2, 2, 1) == 0.5\n",
    "assert power_law_cdf(10, 2, 1) == 0.9"
   ]
  },
  {
   "attachments": {},
   "cell_type": "markdown",
   "id": "6353057b",
   "metadata": {},
   "source": [
    "Next, write a function `mle_power_law_params` that takes a degree sequence and returns a tuple: the best $\\alpha$, w.r.t. MLE, the best $k_\\text{min}$ w.r.t. Kolmogorov-Smirnov distance\n",
    "\n",
    "_Hint: use `scipy.stats.kstest` where a theoretical CDF is a `power_law_cdf` function and `args=(alpha, k_min)`_"
   ]
  },
  {
   "cell_type": "code",
   "execution_count": null,
   "id": "c2d66280",
   "metadata": {
    "deletable": false,
    "nbgrader": {
     "cell_type": "code",
     "checksum": "33f0a9f79362e3d0b90786c141977d08",
     "grade": false,
     "grade_id": "cell-b802b02dc564fc38",
     "locked": false,
     "schema_version": 3,
     "solution": true,
     "task": false
    }
   },
   "outputs": [],
   "source": [
    "def mle_power_law_params(degree_sequence):\n",
    "    # YOUR CODE HERE\n",
    "    raise NotImplementedError()"
   ]
  },
  {
   "cell_type": "code",
   "execution_count": null,
   "id": "2d2680e8",
   "metadata": {
    "deletable": false,
    "editable": false,
    "nbgrader": {
     "cell_type": "code",
     "checksum": "403b775d9f801c9a5631c56c52398d50",
     "grade": true,
     "grade_id": "cell-4d2750c8e4719fe9",
     "locked": true,
     "points": 1,
     "schema_version": 3,
     "solution": false,
     "task": false
    }
   },
   "outputs": [],
   "source": [
    "assert mle_power_law_params(np.array([1, 2, 3]))[0] > 0\n",
    "assert mle_power_law_params(np.array([1, 2, 3]))[1] > 0"
   ]
  },
  {
   "cell_type": "markdown",
   "id": "cc0515fe",
   "metadata": {},
   "source": [
    "Write a function `estimate_power_law` that generates Barabasi-Albert graphs with `n` nodes, from `m_min` to `m_max` connections and returns a tuple of np.arrays: $\\alpha$ and $k_{\\min}$ for each graph."
   ]
  },
  {
   "cell_type": "code",
   "execution_count": null,
   "id": "c0b0e503",
   "metadata": {
    "deletable": false,
    "nbgrader": {
     "cell_type": "code",
     "checksum": "092d88e523eb7a8d1e37055e55ccb3df",
     "grade": false,
     "grade_id": "cell-e78fc881caea1d19",
     "locked": false,
     "schema_version": 3,
     "solution": true,
     "task": false
    }
   },
   "outputs": [],
   "source": [
    "def estimate_power_law(n, m_min, m_max):\n",
    "    # YOUR CODE HERE\n",
    "    raise NotImplementedError()"
   ]
  },
  {
   "cell_type": "code",
   "execution_count": null,
   "id": "592b6e54",
   "metadata": {
    "deletable": false,
    "editable": false,
    "nbgrader": {
     "cell_type": "code",
     "checksum": "80684f1025d1f2b6ce6c7511ac239a27",
     "grade": true,
     "grade_id": "cell-632148ec9e9f9946",
     "locked": true,
     "points": 1,
     "schema_version": 3,
     "solution": false,
     "task": false
    }
   },
   "outputs": [],
   "source": [
    "'''Check the Power law parameters'''\n",
    "n, m_min, m_max = 500, 2, 20\n",
    "alpha, k_min = estimate_power_law(n, m_min, m_max)\n",
    "assert alpha.shape[0] == m_max - m_min + 1\n",
    "assert 2 < alpha.mean() < 4\n",
    "assert k_min[0] < k_min[-1]"
   ]
  },
  {
   "cell_type": "code",
   "execution_count": null,
   "id": "e026211f",
   "metadata": {},
   "outputs": [],
   "source": [
    "n, m_min, m_max = 500, 2, 20\n",
    "m_space = np.arange(m_min, m_max + 1)\n",
    "for _ in range(5):\n",
    "    alpha, k_min = estimate_power_law(n, m_min, m_max)\n",
    "    plt.scatter(m_space, alpha, alpha=0.7, c='tab:blue', s=10)\n",
    "plt.plot([2, 20], [3, 3], 'k--', label='theoretical alpha')\n",
    "plt.ylim((1, 5))\n",
    "plt.xlabel('m')\n",
    "plt.ylabel('alpha')\n",
    "plt.grid()\n",
    "plt.legend()\n",
    "plt.show()"
   ]
  },
  {
   "cell_type": "markdown",
   "id": "d4b8656a",
   "metadata": {},
   "source": [
    "### Task 5. Clustering coefficient in Barabasi-Albert model (2 points)"
   ]
  },
  {
   "cell_type": "markdown",
   "id": "a46b1784",
   "metadata": {},
   "source": [
    "Measure the average clustering coefficient in function of N using Barabasi-Albert model.\n",
    "\n",
    "Write a function `generate_clustering_coef` that takes np.array with list of `n` values for each graph and parameter `m`. The function generate Barabasi-Albert graphs and returns np.array of average clustering coefficients."
   ]
  },
  {
   "cell_type": "code",
   "execution_count": null,
   "id": "8217ae84",
   "metadata": {
    "deletable": false,
    "nbgrader": {
     "cell_type": "code",
     "checksum": "b958b3dc2ffa1ae6e2feb2bb89ac633b",
     "grade": false,
     "grade_id": "cell-2a87e4ac4ac2a5ed",
     "locked": false,
     "schema_version": 3,
     "solution": true,
     "task": false
    }
   },
   "outputs": [],
   "source": [
    "def generate_clustering_coef(n_list, m):\n",
    "    # YOUR CODE HERE\n",
    "    raise NotImplementedError()"
   ]
  },
  {
   "cell_type": "code",
   "execution_count": null,
   "id": "7dbddce8",
   "metadata": {
    "deletable": false,
    "editable": false,
    "nbgrader": {
     "cell_type": "code",
     "checksum": "98ca1b248bbac9553cfb87c98d48a178",
     "grade": true,
     "grade_id": "cell-50c7a11daee79154",
     "locked": true,
     "points": 2,
     "schema_version": 3,
     "solution": false,
     "task": false
    }
   },
   "outputs": [],
   "source": [
    "n_list = np.arange(100, 3100, 100)\n",
    "m = 6\n",
    "coeffs = generate_clustering_coef(n_list, m)\n",
    "assert coeffs.shape == (30,)\n",
    "X = np.log(n_list)\n",
    "X = np.stack([np.ones_like(X), X], axis=1)\n",
    "Y = np.log(coeffs)[:, None]\n",
    "assert -0.78 < (np.linalg.pinv(X) @ Y)[1][0] < -0.63"
   ]
  },
  {
   "cell_type": "code",
   "execution_count": null,
   "id": "cf9d4550",
   "metadata": {},
   "outputs": [],
   "source": [
    "n_list = np.arange(100, 3100, 100)\n",
    "m = 6\n",
    "for _ in range(3):\n",
    "    coeffs = generate_clustering_coef(n_list, m)\n",
    "    plt.plot(coeffs, c='tab:blue', alpha=0.7)\n",
    "plt.xlabel('N')\n",
    "plt.ylabel('Average clustering coefficient')\n",
    "plt.show()"
   ]
  },
  {
   "cell_type": "markdown",
   "id": "3a916c92",
   "metadata": {},
   "source": [
    "### Task 6. Degree dynamics in Barabasi-Albert model (3 points)"
   ]
  },
  {
   "cell_type": "markdown",
   "id": "bd6d60c5",
   "metadata": {},
   "source": [
    "Measure the degree dynamics in Barabasi-Albert model of one of the initial nodes and of the nodes added to the network at intermediate time moments (steps of the algorithm).\n",
    "\n",
    "Write a function `generate_degree_dynamics` that takes np.array with considered nodes, generates Barabasi-Albert graph ($n=3000$, $m=6$) and returns a np.array of the shape `(30, len(cons_nodes))` — degrees of these nodes at time moments when nodes 99, 199, 299, ..., 2999 appear. If a node does not exist yet, pass `np.nan` value.\n",
    "\n",
    "*Hint: use the `barabasi_albert_graph` function as a template*"
   ]
  },
  {
   "cell_type": "code",
   "execution_count": null,
   "id": "53df8397",
   "metadata": {
    "deletable": false,
    "nbgrader": {
     "cell_type": "code",
     "checksum": "fd6ddcfa9c7fc9c80f144b54cd9b0169",
     "grade": false,
     "grade_id": "cell-7df96166805a39bf",
     "locked": false,
     "schema_version": 3,
     "solution": true,
     "task": false
    }
   },
   "outputs": [],
   "source": [
    "def generate_degree_dynamics(cons_nodes):\n",
    "    # YOUR CODE HERE\n",
    "    raise NotImplementedError()"
   ]
  },
  {
   "cell_type": "code",
   "execution_count": null,
   "id": "e407a58b",
   "metadata": {
    "deletable": false,
    "editable": false,
    "nbgrader": {
     "cell_type": "code",
     "checksum": "4329fb7cabab35c197f4ca90bd34b153",
     "grade": true,
     "grade_id": "cell-b320b2b78d49c466",
     "locked": true,
     "points": 3,
     "schema_version": 3,
     "solution": false,
     "task": false
    }
   },
   "outputs": [],
   "source": [
    "degree_dynamics = generate_degree_dynamics([99, 199, 699, 1999])\n",
    "assert degree_dynamics.shape == (30, 4)\n",
    "assert np.all(np.isnan(degree_dynamics[0]) == [False, True,  True,  True])\n",
    "assert np.all(np.isnan(degree_dynamics[9]) == [False, False,  False,  True])\n",
    "assert degree_dynamics[0, 0] < degree_dynamics[-1, 0]\n",
    "assert degree_dynamics[1, 1] < degree_dynamics[-1, 1]\n",
    "assert degree_dynamics[-1, 0] > degree_dynamics[-1, 3]"
   ]
  },
  {
   "cell_type": "code",
   "execution_count": null,
   "id": "f270e8ea",
   "metadata": {},
   "outputs": [],
   "source": [
    "cons_nodes = [0, 199, 699, 1999]\n",
    "colors = plt.cm.tab10.colors\n",
    "plt.figure(figsize=(8, 5))\n",
    "for _ in trange(5):\n",
    "    degree_dynamics = generate_degree_dynamics(cons_nodes)\n",
    "    time_space = np.arange(99, 3000, 100)\n",
    "    for i in range(4):\n",
    "        plt.plot(time_space, degree_dynamics[:, i], c=colors[i], alpha=0.5)\n",
    "plt.legend(cons_nodes)\n",
    "plt.title('Degree dynamics')\n",
    "plt.xscale('log')\n",
    "plt.yscale('log')\n",
    "plt.show()"
   ]
  },
  {
   "cell_type": "code",
   "execution_count": null,
   "id": "b43d8184",
   "metadata": {},
   "outputs": [],
   "source": []
  }
 ],
 "metadata": {
  "kernelspec": {
   "display_name": "avito",
   "language": "python",
   "name": "python3"
  },
  "language_info": {
   "codemirror_mode": {
    "name": "ipython",
    "version": 3
   },
   "file_extension": ".py",
   "mimetype": "text/x-python",
   "name": "python",
   "nbconvert_exporter": "python",
   "pygments_lexer": "ipython3",
   "version": "3.9.7 (default, Sep 16 2021, 08:50:36) \n[Clang 10.0.0 ]"
  },
  "vscode": {
   "interpreter": {
    "hash": "5a2341f07fff404428c0ad202c85fe1ba8adbd1e5f585695f92e98a112079c69"
   }
  }
 },
 "nbformat": 4,
 "nbformat_minor": 5
}
